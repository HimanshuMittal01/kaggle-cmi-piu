{
 "cells": [
  {
   "cell_type": "code",
   "execution_count": 69,
   "metadata": {},
   "outputs": [],
   "source": [
    "%%capture\n",
    "%load_ext autoreload\n",
    "%autoreload 2\n",
    "\n",
    "# We can also put these magic commands in `.vscode/settings.json` like this:\n",
    "# \"jupyter.runStartupCommands\": [\n",
    "#     \"%load_ext autoreload\",\n",
    "#     \"%autoreload 2\"\n",
    "# ]"
   ]
  },
  {
   "cell_type": "code",
   "execution_count": 70,
   "metadata": {},
   "outputs": [
    {
     "name": "stdout",
     "output_type": "stream",
     "text": [
      "All imports loaded successfully\n"
     ]
    }
   ],
   "source": [
    "import random\n",
    "from pathlib import Path\n",
    "\n",
    "import polars as pl\n",
    "import altair as alt\n",
    "\n",
    "alt.data_transformers.enable(\"vegafusion\")\n",
    "\n",
    "print(\"All imports loaded successfully\")"
   ]
  },
  {
   "cell_type": "code",
   "execution_count": 71,
   "metadata": {},
   "outputs": [
    {
     "name": "stdout",
     "output_type": "stream",
     "text": [
      "Reading '../input/child-mind-institute-problematic-internet-use/series_train.parquet/id=380029ef'\n"
     ]
    },
    {
     "data": {
      "text/html": [
       "<div><style>\n",
       ".dataframe > thead > tr,\n",
       ".dataframe > tbody > tr {\n",
       "  text-align: right;\n",
       "  white-space: pre-wrap;\n",
       "}\n",
       "</style>\n",
       "<small>shape: (9, 14)</small><table border=\"1\" class=\"dataframe\"><thead><tr><th>statistic</th><th>step</th><th>X</th><th>Y</th><th>Z</th><th>enmo</th><th>anglez</th><th>non-wear_flag</th><th>light</th><th>battery_voltage</th><th>time_of_day</th><th>weekday</th><th>quarter</th><th>relative_date_PCIAT</th></tr><tr><td>str</td><td>f64</td><td>f64</td><td>f64</td><td>f64</td><td>f64</td><td>f64</td><td>f64</td><td>f64</td><td>f64</td><td>f64</td><td>f64</td><td>f64</td><td>f64</td></tr></thead><tbody><tr><td>&quot;count&quot;</td><td>112531.0</td><td>112531.0</td><td>112531.0</td><td>112531.0</td><td>112531.0</td><td>112531.0</td><td>112531.0</td><td>112531.0</td><td>112531.0</td><td>112531.0</td><td>112531.0</td><td>112531.0</td><td>112531.0</td></tr><tr><td>&quot;null_count&quot;</td><td>0.0</td><td>0.0</td><td>0.0</td><td>0.0</td><td>0.0</td><td>0.0</td><td>0.0</td><td>0.0</td><td>0.0</td><td>0.0</td><td>0.0</td><td>0.0</td><td>0.0</td></tr><tr><td>&quot;mean&quot;</td><td>56265.0</td><td>-0.033463</td><td>0.084492</td><td>-0.211385</td><td>0.10616</td><td>-15.027328</td><td>0.0</td><td>118.360664</td><td>4012.934082</td><td>5.2507e13</td><td>3.969937</td><td>3.230656</td><td>20.415174</td></tr><tr><td>&quot;std&quot;</td><td>32485.045908</td><td>0.563326</td><td>0.541149</td><td>0.471214</td><td>0.188283</td><td>33.114815</td><td>0.0</td><td>396.872681</td><td>94.68264</td><td>1.4629e13</td><td>2.246566</td><td>0.421255</td><td>6.75058</td></tr><tr><td>&quot;min&quot;</td><td>0.0</td><td>-3.820558</td><td>-2.393664</td><td>-1.00955</td><td>0.0</td><td>-89.823158</td><td>0.0</td><td>0.0</td><td>3797.75</td><td>2.5000e10</td><td>1.0</td><td>3.0</td><td>10.0</td></tr><tr><td>&quot;25%&quot;</td><td>28133.0</td><td>-0.526424</td><td>-0.275272</td><td>-0.581833</td><td>0.019046</td><td>-38.218155</td><td>0.0</td><td>2.941176</td><td>3935.0</td><td>4.1220e13</td><td>2.0</td><td>3.0</td><td>14.0</td></tr><tr><td>&quot;50%&quot;</td><td>56265.0</td><td>-0.035275</td><td>0.068645</td><td>-0.241524</td><td>0.049121</td><td>-15.455792</td><td>0.0</td><td>9.0</td><td>4005.0</td><td>5.3715e13</td><td>5.0</td><td>3.0</td><td>20.0</td></tr><tr><td>&quot;75%&quot;</td><td>84398.0</td><td>0.45499</td><td>0.50843</td><td>0.070569</td><td>0.114776</td><td>3.581227</td><td>0.0</td><td>26.324091</td><td>4093.333252</td><td>6.4330e13</td><td>6.0</td><td>3.0</td><td>26.0</td></tr><tr><td>&quot;max&quot;</td><td>112530.0</td><td>1.486039</td><td>2.592262</td><td>1.784669</td><td>3.808876</td><td>89.398621</td><td>0.0</td><td>2648.0</td><td>4184.0</td><td>8.6395e13</td><td>7.0</td><td>4.0</td><td>49.0</td></tr></tbody></table></div>"
      ],
      "text/plain": [
       "shape: (9, 14)\n",
       "┌────────────┬───────────┬───────────┬───────────┬───┬───────────┬──────────┬──────────┬───────────┐\n",
       "│ statistic  ┆ step      ┆ X         ┆ Y         ┆ … ┆ time_of_d ┆ weekday  ┆ quarter  ┆ relative_ │\n",
       "│ ---        ┆ ---       ┆ ---       ┆ ---       ┆   ┆ ay        ┆ ---      ┆ ---      ┆ date_PCIA │\n",
       "│ str        ┆ f64       ┆ f64       ┆ f64       ┆   ┆ ---       ┆ f64      ┆ f64      ┆ T         │\n",
       "│            ┆           ┆           ┆           ┆   ┆ f64       ┆          ┆          ┆ ---       │\n",
       "│            ┆           ┆           ┆           ┆   ┆           ┆          ┆          ┆ f64       │\n",
       "╞════════════╪═══════════╪═══════════╪═══════════╪═══╪═══════════╪══════════╪══════════╪═══════════╡\n",
       "│ count      ┆ 112531.0  ┆ 112531.0  ┆ 112531.0  ┆ … ┆ 112531.0  ┆ 112531.0 ┆ 112531.0 ┆ 112531.0  │\n",
       "│ null_count ┆ 0.0       ┆ 0.0       ┆ 0.0       ┆ … ┆ 0.0       ┆ 0.0      ┆ 0.0      ┆ 0.0       │\n",
       "│ mean       ┆ 56265.0   ┆ -0.033463 ┆ 0.084492  ┆ … ┆ 5.2507e13 ┆ 3.969937 ┆ 3.230656 ┆ 20.415174 │\n",
       "│ std        ┆ 32485.045 ┆ 0.563326  ┆ 0.541149  ┆ … ┆ 1.4629e13 ┆ 2.246566 ┆ 0.421255 ┆ 6.75058   │\n",
       "│            ┆ 908       ┆           ┆           ┆   ┆           ┆          ┆          ┆           │\n",
       "│ min        ┆ 0.0       ┆ -3.820558 ┆ -2.393664 ┆ … ┆ 2.5000e10 ┆ 1.0      ┆ 3.0      ┆ 10.0      │\n",
       "│ 25%        ┆ 28133.0   ┆ -0.526424 ┆ -0.275272 ┆ … ┆ 4.1220e13 ┆ 2.0      ┆ 3.0      ┆ 14.0      │\n",
       "│ 50%        ┆ 56265.0   ┆ -0.035275 ┆ 0.068645  ┆ … ┆ 5.3715e13 ┆ 5.0      ┆ 3.0      ┆ 20.0      │\n",
       "│ 75%        ┆ 84398.0   ┆ 0.45499   ┆ 0.50843   ┆ … ┆ 6.4330e13 ┆ 6.0      ┆ 3.0      ┆ 26.0      │\n",
       "│ max        ┆ 112530.0  ┆ 1.486039  ┆ 2.592262  ┆ … ┆ 8.6395e13 ┆ 7.0      ┆ 4.0      ┆ 49.0      │\n",
       "└────────────┴───────────┴───────────┴───────────┴───┴───────────┴──────────┴──────────┴───────────┘"
      ]
     },
     "execution_count": 71,
     "metadata": {},
     "output_type": "execute_result"
    }
   ],
   "source": [
    "DATA_DIR = Path(\"../input/child-mind-institute-problematic-internet-use/\")\n",
    "\n",
    "filenames = []\n",
    "for filename in (DATA_DIR / 'series_train.parquet').iterdir():\n",
    "    filenames.append(filename.name.split('=')[1])\n",
    "\n",
    "train_example_id = random.choice(filenames)\n",
    "train_example_path = (DATA_DIR / f\"series_train.parquet/id={train_example_id}\")\n",
    "train_example = pl.scan_parquet(train_example_path)\n",
    "\n",
    "print(f\"Reading '{train_example_path}'\")\n",
    "train_example.describe()"
   ]
  },
  {
   "cell_type": "code",
   "execution_count": 72,
   "metadata": {},
   "outputs": [
    {
     "data": {
      "text/html": [
       "<div><style>\n",
       ".dataframe > thead > tr,\n",
       ".dataframe > tbody > tr {\n",
       "  text-align: right;\n",
       "  white-space: pre-wrap;\n",
       "}\n",
       "</style>\n",
       "<small>shape: (5, 18)</small><table border=\"1\" class=\"dataframe\"><thead><tr><th>step</th><th>X</th><th>Y</th><th>Z</th><th>enmo</th><th>anglez</th><th>non-wear_flag</th><th>light</th><th>battery_voltage</th><th>time_of_day</th><th>weekday</th><th>quarter</th><th>relative_date_PCIAT</th><th>day</th><th>time_diff</th><th>hour</th><th>anglez_abs</th><th>rolling_std_anglez</th></tr><tr><td>u32</td><td>f32</td><td>f32</td><td>f32</td><td>f32</td><td>f32</td><td>f32</td><td>f32</td><td>f32</td><td>i64</td><td>i8</td><td>i8</td><td>f32</td><td>f64</td><td>f64</td><td>f64</td><td>f32</td><td>f32</td></tr></thead><tbody><tr><td>0</td><td>-0.097059</td><td>0.006258</td><td>-0.808757</td><td>0.062556</td><td>-78.320946</td><td>0.0</td><td>28.0</td><td>4181.0</td><td>45960000000000</td><td>5</td><td>3</td><td>10.0</td><td>10.531944</td><td>5.0</td><td>12.77</td><td>78.320946</td><td>0.0</td></tr><tr><td>1</td><td>0.058793</td><td>0.211882</td><td>-0.777389</td><td>0.065514</td><td>-69.617111</td><td>0.0</td><td>27.5</td><td>4181.0</td><td>45965000000000</td><td>5</td><td>3</td><td>10.0</td><td>10.532002</td><td>5.0</td><td>12.77</td><td>69.617111</td><td>0.0</td></tr><tr><td>2</td><td>0.117507</td><td>-0.174196</td><td>-0.799013</td><td>0.136439</td><td>-66.093666</td><td>0.0</td><td>27.0</td><td>4181.0</td><td>45970000000000</td><td>5</td><td>3</td><td>10.0</td><td>10.53206</td><td>5.0</td><td>12.77</td><td>66.093666</td><td>0.0</td></tr><tr><td>3</td><td>0.117533</td><td>-0.550463</td><td>-0.300613</td><td>0.128115</td><td>-25.511307</td><td>0.0</td><td>32.799999</td><td>4181.0</td><td>45975000000000</td><td>5</td><td>3</td><td>10.0</td><td>10.532118</td><td>5.0</td><td>12.77</td><td>25.511307</td><td>0.0</td></tr><tr><td>4</td><td>-0.166517</td><td>-0.272352</td><td>-0.823503</td><td>0.054886</td><td>-64.700668</td><td>0.0</td><td>12.0</td><td>4181.0</td><td>45980000000000</td><td>5</td><td>3</td><td>10.0</td><td>10.532176</td><td>5.0</td><td>12.77</td><td>64.700668</td><td>0.0</td></tr></tbody></table></div>"
      ],
      "text/plain": [
       "shape: (5, 18)\n",
       "┌──────┬───────────┬───────────┬───────────┬───┬───────────┬───────┬────────────┬──────────────────┐\n",
       "│ step ┆ X         ┆ Y         ┆ Z         ┆ … ┆ time_diff ┆ hour  ┆ anglez_abs ┆ rolling_std_angl │\n",
       "│ ---  ┆ ---       ┆ ---       ┆ ---       ┆   ┆ ---       ┆ ---   ┆ ---        ┆ ez               │\n",
       "│ u32  ┆ f32       ┆ f32       ┆ f32       ┆   ┆ f64       ┆ f64   ┆ f32        ┆ ---              │\n",
       "│      ┆           ┆           ┆           ┆   ┆           ┆       ┆            ┆ f32              │\n",
       "╞══════╪═══════════╪═══════════╪═══════════╪═══╪═══════════╪═══════╪════════════╪══════════════════╡\n",
       "│ 0    ┆ -0.097059 ┆ 0.006258  ┆ -0.808757 ┆ … ┆ 5.0       ┆ 12.77 ┆ 78.320946  ┆ 0.0              │\n",
       "│ 1    ┆ 0.058793  ┆ 0.211882  ┆ -0.777389 ┆ … ┆ 5.0       ┆ 12.77 ┆ 69.617111  ┆ 0.0              │\n",
       "│ 2    ┆ 0.117507  ┆ -0.174196 ┆ -0.799013 ┆ … ┆ 5.0       ┆ 12.77 ┆ 66.093666  ┆ 0.0              │\n",
       "│ 3    ┆ 0.117533  ┆ -0.550463 ┆ -0.300613 ┆ … ┆ 5.0       ┆ 12.77 ┆ 25.511307  ┆ 0.0              │\n",
       "│ 4    ┆ -0.166517 ┆ -0.272352 ┆ -0.823503 ┆ … ┆ 5.0       ┆ 12.77 ┆ 64.700668  ┆ 0.0              │\n",
       "└──────┴───────────┴───────────┴───────────┴───┴───────────┴───────┴────────────┴──────────────────┘"
      ]
     },
     "execution_count": 72,
     "metadata": {},
     "output_type": "execute_result"
    }
   ],
   "source": [
    "def relative_days(df):\n",
    "    return df.with_columns(\n",
    "        (pl.col('relative_date_PCIAT') + pl.col('time_of_day') / 86400e9).alias('day'),\n",
    "        (pl.col('relative_date_PCIAT') * 86400 + pl.col('time_of_day') / 1e9).diff().fill_null(5).alias(\"time_diff\"),\n",
    "        (pl.col('time_of_day')/3600e9).round(2).alias('hour')\n",
    "    )\n",
    "\n",
    "\n",
    "def anglez_features(df):\n",
    "    return df.with_columns(\n",
    "        pl.col('anglez').abs().alias('anglez_abs'),\n",
    "    ).with_columns(\n",
    "        pl.col('anglez_abs').rolling_std(725).fill_null(0).alias('rolling_std_anglez')\n",
    "    )\n",
    "\n",
    "transformed_example = (\n",
    "    train_example\n",
    "    .pipe(relative_days)\n",
    "    .pipe(anglez_features)\n",
    "    .collect()\n",
    ")\n",
    "\n",
    "transformed_example.head()"
   ]
  },
  {
   "cell_type": "code",
   "execution_count": 73,
   "metadata": {},
   "outputs": [],
   "source": [
    "daily_avg_df = transformed_example.with_columns(\n",
    "    id=pl.lit('randomid')\n",
    ").group_by(['id', 'relative_date_PCIAT']).agg(\n",
    "    pl.col('enmo').mean().alias('daily_avg_enmo'),\n",
    "    pl.col('light').mean().alias('daily_avg_light')\n",
    ")"
   ]
  },
  {
   "cell_type": "code",
   "execution_count": 74,
   "metadata": {},
   "outputs": [],
   "source": [
    "first7days_avg_df = transformed_example.filter(\n",
    "    (pl.col('day') - pl.col('day').min()) < 7\n",
    ").with_columns(\n",
    "    id=pl.lit('randomid')\n",
    ").group_by(['id', 'relative_date_PCIAT']).agg(\n",
    "    pl.col('enmo').mean().alias('daily_avg_enmo'),\n",
    "    pl.col('light').mean().alias('daily_avg_light')\n",
    ")"
   ]
  },
  {
   "cell_type": "code",
   "execution_count": 75,
   "metadata": {},
   "outputs": [],
   "source": [
    "result_df = transformed_example.with_columns(\n",
    "    id=pl.lit('randomid')\n",
    ").group_by('id').agg(\n",
    "    pl.col('relative_date_PCIAT').min().alias('relative_start_date_PCIAT'),\n",
    "    (pl.col('relative_date_PCIAT').max() - pl.col('relative_date_PCIAT').min()).alias('total_days'),\n",
    "    pl.col('rolling_std_anglez').std().alias('rolling_std_anglez_abs_std'),\n",
    "    pl.col('X').mean().alias('X_mean'),\n",
    "    pl.col('X').std().alias('X_std'),\n",
    "    pl.col('Y').mean().alias('Y_mean'),\n",
    "    pl.col('Y').std().alias('Y_std'),\n",
    "    pl.col('anglez').mean().alias('angleZ_mean'),\n",
    "    pl.col('anglez').std().alias('angleZ_std'),\n",
    ")"
   ]
  },
  {
   "cell_type": "code",
   "execution_count": 76,
   "metadata": {},
   "outputs": [
    {
     "data": {
      "text/html": [
       "<div><style>\n",
       ".dataframe > thead > tr,\n",
       ".dataframe > tbody > tr {\n",
       "  text-align: right;\n",
       "  white-space: pre-wrap;\n",
       "}\n",
       "</style>\n",
       "<small>shape: (1, 26)</small><table border=\"1\" class=\"dataframe\"><thead><tr><th>id</th><th>relative_start_date_PCIAT</th><th>total_days</th><th>rolling_std_anglez_abs_std</th><th>X_mean</th><th>X_std</th><th>Y_mean</th><th>Y_std</th><th>angleZ_mean</th><th>angleZ_std</th><th>daily_avg_enmo_min</th><th>daily_avg_enmo_mean</th><th>daily_avg_enmo_std</th><th>daily_avg_enmo_max</th><th>daily_avg_light_min</th><th>daily_avg_light_mean</th><th>daily_avg_light_std</th><th>daily_avg_light_max</th><th>first7_avg_enmo_min</th><th>first7_avg_enmo_mean</th><th>first7_avg_enmo_std</th><th>first7_avg_enmo_max</th><th>first7_avg_light_min</th><th>first7_avg_light_mean</th><th>first7_avg_light_std</th><th>first7_avg_light_max</th></tr><tr><td>str</td><td>f32</td><td>f32</td><td>f32</td><td>f32</td><td>f32</td><td>f32</td><td>f32</td><td>f32</td><td>f32</td><td>f32</td><td>f32</td><td>f32</td><td>f32</td><td>f32</td><td>f32</td><td>f32</td><td>f32</td><td>f32</td><td>f32</td><td>f32</td><td>f32</td><td>f32</td><td>f32</td><td>f32</td><td>f32</td></tr></thead><tbody><tr><td>&quot;randomid&quot;</td><td>10.0</td><td>39.0</td><td>3.663863</td><td>-0.033463</td><td>0.563326</td><td>0.084493</td><td>0.541149</td><td>-15.027365</td><td>33.114815</td><td>0.00005</td><td>0.063853</td><td>0.054756</td><td>0.187817</td><td>0.0</td><td>52.966232</td><td>111.824821</td><td>449.51889</td><td>0.073315</td><td>0.12696</td><td>0.042029</td><td>0.187817</td><td>13.444325</td><td>124.981255</td><td>162.851868</td><td>402.4599</td></tr></tbody></table></div>"
      ],
      "text/plain": [
       "shape: (1, 26)\n",
       "┌──────────┬───────────┬───────────┬───────────┬───┬───────────┬───────────┬───────────┬───────────┐\n",
       "│ id       ┆ relative_ ┆ total_day ┆ rolling_s ┆ … ┆ first7_av ┆ first7_av ┆ first7_av ┆ first7_av │\n",
       "│ ---      ┆ start_dat ┆ s         ┆ td_anglez ┆   ┆ g_light_m ┆ g_light_m ┆ g_light_s ┆ g_light_m │\n",
       "│ str      ┆ e_PCIAT   ┆ ---       ┆ _abs_std  ┆   ┆ in        ┆ ean       ┆ td        ┆ ax        │\n",
       "│          ┆ ---       ┆ f32       ┆ ---       ┆   ┆ ---       ┆ ---       ┆ ---       ┆ ---       │\n",
       "│          ┆ f32       ┆           ┆ f32       ┆   ┆ f32       ┆ f32       ┆ f32       ┆ f32       │\n",
       "╞══════════╪═══════════╪═══════════╪═══════════╪═══╪═══════════╪═══════════╪═══════════╪═══════════╡\n",
       "│ randomid ┆ 10.0      ┆ 39.0      ┆ 3.663863  ┆ … ┆ 13.444325 ┆ 124.98125 ┆ 162.85186 ┆ 402.4599  │\n",
       "│          ┆           ┆           ┆           ┆   ┆           ┆ 5         ┆ 8         ┆           │\n",
       "└──────────┴───────────┴───────────┴───────────┴───┴───────────┴───────────┴───────────┴───────────┘"
      ]
     },
     "execution_count": 76,
     "metadata": {},
     "output_type": "execute_result"
    }
   ],
   "source": [
    "result_df.join(\n",
    "    daily_avg_df.group_by('id').agg(\n",
    "        pl.col('daily_avg_enmo').min().alias('daily_avg_enmo_min'),\n",
    "        pl.col('daily_avg_enmo').mean().alias('daily_avg_enmo_mean'),\n",
    "        pl.col('daily_avg_enmo').std().alias('daily_avg_enmo_std'),\n",
    "        pl.col('daily_avg_enmo').max().alias('daily_avg_enmo_max'),\n",
    "        pl.col('daily_avg_light').min().alias('daily_avg_light_min'),\n",
    "        pl.col('daily_avg_light').mean().alias('daily_avg_light_mean'),\n",
    "        pl.col('daily_avg_light').std().alias('daily_avg_light_std'),\n",
    "        pl.col('daily_avg_light').max().alias('daily_avg_light_max'),\n",
    "    ),\n",
    "    on='id',\n",
    "    how='left'  # Make sure the join happens correctly\n",
    ").join(\n",
    "    first7days_avg_df.group_by('id').agg(\n",
    "        pl.col('daily_avg_enmo').min().alias('first7_avg_enmo_min'),\n",
    "        pl.col('daily_avg_enmo').mean().alias('first7_avg_enmo_mean'),\n",
    "        pl.col('daily_avg_enmo').std().alias('first7_avg_enmo_std'),\n",
    "        pl.col('daily_avg_enmo').max().alias('first7_avg_enmo_max'),\n",
    "        pl.col('daily_avg_light').min().alias('first7_avg_light_min'),\n",
    "        pl.col('daily_avg_light').mean().alias('first7_avg_light_mean'),\n",
    "        pl.col('daily_avg_light').std().alias('first7_avg_light_std'),\n",
    "        pl.col('daily_avg_light').max().alias('first7_avg_light_max')\n",
    "    ),\n",
    "    on='id',\n",
    "    how='left'  # Make sure the join happens correctly\n",
    ")"
   ]
  },
  {
   "cell_type": "code",
   "execution_count": null,
   "metadata": {},
   "outputs": [],
   "source": []
  }
 ],
 "metadata": {
  "kernelspec": {
   "display_name": "venv",
   "language": "python",
   "name": "python3"
  },
  "language_info": {
   "codemirror_mode": {
    "name": "ipython",
    "version": 3
   },
   "file_extension": ".py",
   "mimetype": "text/x-python",
   "name": "python",
   "nbconvert_exporter": "python",
   "pygments_lexer": "ipython3",
   "version": "3.10.15"
  }
 },
 "nbformat": 4,
 "nbformat_minor": 2
}
