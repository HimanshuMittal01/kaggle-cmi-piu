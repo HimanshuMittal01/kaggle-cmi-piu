{
 "cells": [
  {
   "cell_type": "code",
   "execution_count": 19,
   "metadata": {},
   "outputs": [],
   "source": [
    "%%capture\n",
    "%load_ext autoreload\n",
    "%autoreload 2\n",
    "\n",
    "# We can also put these magic commands in `.vscode/settings.json` like this:\n",
    "# \"jupyter.runStartupCommands\": [\n",
    "#     \"%load_ext autoreload\",\n",
    "#     \"%autoreload 2\"\n",
    "# ]"
   ]
  },
  {
   "cell_type": "code",
   "execution_count": 20,
   "metadata": {},
   "outputs": [
    {
     "name": "stdout",
     "output_type": "stream",
     "text": [
      "All imports loaded successfully\n"
     ]
    }
   ],
   "source": [
    "from pathlib import Path\n",
    "\n",
    "import polars as pl\n",
    "\n",
    "from cmipiu.utils.paths import display_dir_items\n",
    "\n",
    "print(\"All imports loaded successfully\")"
   ]
  },
  {
   "cell_type": "code",
   "execution_count": 21,
   "metadata": {},
   "outputs": [
    {
     "name": "stdout",
     "output_type": "stream",
     "text": [
      "Type    Path                                                                          Size\n",
      "------  ----------------------------------------------------------------------------  ---------\n",
      "Folder  ../input/child-mind-institute-problematic-internet-use/series_test.parquet    128.0 B\n",
      "File    ../input/child-mind-institute-problematic-internet-use/test.csv               4.4 KiB\n",
      "Folder  ../input/child-mind-institute-problematic-internet-use/series_train.parquet   31.2 KiB\n",
      "File    ../input/child-mind-institute-problematic-internet-use/train.csv              922.6 KiB\n",
      "File    ../input/child-mind-institute-problematic-internet-use/data_dictionary.csv    10.3 KiB\n",
      "File    ../input/child-mind-institute-problematic-internet-use/sample_submission.csv  227.0 B\n"
     ]
    }
   ],
   "source": [
    "DATA_DIR = Path(\"../input/child-mind-institute-problematic-internet-use/\")\n",
    "display_dir_items(DATA_DIR)"
   ]
  },
  {
   "cell_type": "code",
   "execution_count": 22,
   "metadata": {},
   "outputs": [
    {
     "name": "stdout",
     "output_type": "stream",
     "text": [
      "Type    Path                                                                                    Size\n",
      "------  --------------------------------------------------------------------------------------  ------\n",
      "Folder  ../input/child-mind-institute-problematic-internet-use/series_test.parquet/id=001f3379  96.0 B\n",
      "Folder  ../input/child-mind-institute-problematic-internet-use/series_test.parquet/id=00115b9f  96.0 B\n"
     ]
    }
   ],
   "source": [
    "display_dir_items(DATA_DIR / 'series_test.parquet')"
   ]
  },
  {
   "cell_type": "code",
   "execution_count": 23,
   "metadata": {},
   "outputs": [],
   "source": [
    "# Partitioned parquet files by ID can be read directly at directory level in polars / pandas\n",
    "test = pl.read_parquet(\"../input/child-mind-institute-problematic-internet-use/series_test.parquet/id=001f3379\")"
   ]
  },
  {
   "cell_type": "code",
   "execution_count": null,
   "metadata": {},
   "outputs": [],
   "source": []
  }
 ],
 "metadata": {
  "kernelspec": {
   "display_name": "kenv",
   "language": "python",
   "name": "python3"
  },
  "language_info": {
   "codemirror_mode": {
    "name": "ipython",
    "version": 3
   },
   "file_extension": ".py",
   "mimetype": "text/x-python",
   "name": "python",
   "nbconvert_exporter": "python",
   "pygments_lexer": "ipython3",
   "version": "3.10.15"
  }
 },
 "nbformat": 4,
 "nbformat_minor": 2
}
