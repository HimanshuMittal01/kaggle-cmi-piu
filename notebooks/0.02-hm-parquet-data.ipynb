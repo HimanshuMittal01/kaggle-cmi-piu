{
 "cells": [
  {
   "cell_type": "code",
   "execution_count": 33,
   "metadata": {},
   "outputs": [],
   "source": [
    "%%capture\n",
    "%load_ext autoreload\n",
    "%autoreload 2\n",
    "\n",
    "# We can also put these magic commands in `.vscode/settings.json` like this:\n",
    "# \"jupyter.runStartupCommands\": [\n",
    "#     \"%load_ext autoreload\",\n",
    "#     \"%autoreload 2\"\n",
    "# ]"
   ]
  },
  {
   "cell_type": "code",
   "execution_count": 20,
   "metadata": {},
   "outputs": [
    {
     "name": "stdout",
     "output_type": "stream",
     "text": [
      "All imports loaded successfully\n"
     ]
    }
   ],
   "source": [
    "from pathlib import Path\n",
    "\n",
    "import polars as pl\n",
    "\n",
    "from cmipiu.utils.paths import display_dir_items\n",
    "\n",
    "print(\"All imports loaded successfully\")"
   ]
  },
  {
   "cell_type": "code",
   "execution_count": 21,
   "metadata": {},
   "outputs": [
    {
     "name": "stdout",
     "output_type": "stream",
     "text": [
      "Type    Path                                                                          Size\n",
      "------  ----------------------------------------------------------------------------  ---------\n",
      "Folder  ../input/child-mind-institute-problematic-internet-use/series_test.parquet    128.0 B\n",
      "File    ../input/child-mind-institute-problematic-internet-use/test.csv               4.4 KiB\n",
      "Folder  ../input/child-mind-institute-problematic-internet-use/series_train.parquet   31.2 KiB\n",
      "File    ../input/child-mind-institute-problematic-internet-use/train.csv              922.6 KiB\n",
      "File    ../input/child-mind-institute-problematic-internet-use/data_dictionary.csv    10.3 KiB\n",
      "File    ../input/child-mind-institute-problematic-internet-use/sample_submission.csv  227.0 B\n"
     ]
    }
   ],
   "source": [
    "DATA_DIR = Path(\"../input/child-mind-institute-problematic-internet-use/\")\n",
    "display_dir_items(DATA_DIR)"
   ]
  },
  {
   "cell_type": "code",
   "execution_count": 22,
   "metadata": {},
   "outputs": [
    {
     "name": "stdout",
     "output_type": "stream",
     "text": [
      "Type    Path                                                                                    Size\n",
      "------  --------------------------------------------------------------------------------------  ------\n",
      "Folder  ../input/child-mind-institute-problematic-internet-use/series_test.parquet/id=001f3379  96.0 B\n",
      "Folder  ../input/child-mind-institute-problematic-internet-use/series_test.parquet/id=00115b9f  96.0 B\n"
     ]
    }
   ],
   "source": [
    "display_dir_items(DATA_DIR / 'series_test.parquet')"
   ]
  },
  {
   "cell_type": "code",
   "execution_count": 39,
   "metadata": {},
   "outputs": [
    {
     "name": "stdout",
     "output_type": "stream",
     "text": [
      "Number of files in series_train.parquet = 996\n",
      "Number of files in series_test.parquet = 2\n"
     ]
    }
   ],
   "source": [
    "# Looks like data is partitioned by ID, lets find number of examples\n",
    "num_train_examples = len([x for x in (DATA_DIR / 'series_train.parquet').iterdir() if x.is_dir()])\n",
    "num_test_examples = len([x for x in (DATA_DIR / 'series_test.parquet').iterdir() if x.is_dir()])\n",
    "\n",
    "print(f\"Number of files in series_train.parquet = {num_train_examples}\")\n",
    "print(f\"Number of files in series_test.parquet = {num_test_examples}\")"
   ]
  },
  {
   "cell_type": "code",
   "execution_count": 31,
   "metadata": {},
   "outputs": [
    {
     "name": "stdout",
     "output_type": "stream",
     "text": [
      "Reading ../input/child-mind-institute-problematic-internet-use/series_train.parquet/id=0d01bbf2\n"
     ]
    },
    {
     "data": {
      "text/html": [
       "<div><style>\n",
       ".dataframe > thead > tr,\n",
       ".dataframe > tbody > tr {\n",
       "  text-align: right;\n",
       "  white-space: pre-wrap;\n",
       "}\n",
       "</style>\n",
       "<small>shape: (5, 13)</small><table border=\"1\" class=\"dataframe\"><thead><tr><th>step</th><th>X</th><th>Y</th><th>Z</th><th>enmo</th><th>anglez</th><th>non-wear_flag</th><th>light</th><th>battery_voltage</th><th>time_of_day</th><th>weekday</th><th>quarter</th><th>relative_date_PCIAT</th></tr><tr><td>u32</td><td>f32</td><td>f32</td><td>f32</td><td>f32</td><td>f32</td><td>f32</td><td>f32</td><td>f32</td><td>i64</td><td>i8</td><td>i8</td><td>f32</td></tr></thead><tbody><tr><td>0</td><td>-0.468869</td><td>0.41202</td><td>-0.236458</td><td>0.042506</td><td>-19.82465</td><td>0.0</td><td>27.666666</td><td>4179.0</td><td>57480000000000</td><td>4</td><td>1</td><td>28.0</td></tr><tr><td>1</td><td>-0.662526</td><td>0.533484</td><td>0.064034</td><td>0.052847</td><td>4.300246</td><td>0.0</td><td>12.666667</td><td>4178.666504</td><td>57485000000000</td><td>4</td><td>1</td><td>28.0</td></tr><tr><td>2</td><td>-0.611384</td><td>0.227252</td><td>-0.150882</td><td>0.060734</td><td>-16.545208</td><td>0.0</td><td>47.0</td><td>4178.333496</td><td>57490000000000</td><td>4</td><td>1</td><td>28.0</td></tr><tr><td>3</td><td>-0.385799</td><td>0.552782</td><td>-0.500523</td><td>0.07044</td><td>-36.452175</td><td>0.0</td><td>63.799999</td><td>4178.0</td><td>57495000000000</td><td>4</td><td>1</td><td>28.0</td></tr><tr><td>4</td><td>0.016133</td><td>0.031981</td><td>-0.825109</td><td>0.081058</td><td>-67.488388</td><td>0.0</td><td>6.0</td><td>4177.666504</td><td>57500000000000</td><td>4</td><td>1</td><td>28.0</td></tr></tbody></table></div>"
      ],
      "text/plain": [
       "shape: (5, 13)\n",
       "┌──────┬───────────┬──────────┬───────────┬───┬────────────────┬─────────┬─────────┬───────────────┐\n",
       "│ step ┆ X         ┆ Y        ┆ Z         ┆ … ┆ time_of_day    ┆ weekday ┆ quarter ┆ relative_date │\n",
       "│ ---  ┆ ---       ┆ ---      ┆ ---       ┆   ┆ ---            ┆ ---     ┆ ---     ┆ _PCIAT        │\n",
       "│ u32  ┆ f32       ┆ f32      ┆ f32       ┆   ┆ i64            ┆ i8      ┆ i8      ┆ ---           │\n",
       "│      ┆           ┆          ┆           ┆   ┆                ┆         ┆         ┆ f32           │\n",
       "╞══════╪═══════════╪══════════╪═══════════╪═══╪════════════════╪═════════╪═════════╪═══════════════╡\n",
       "│ 0    ┆ -0.468869 ┆ 0.41202  ┆ -0.236458 ┆ … ┆ 57480000000000 ┆ 4       ┆ 1       ┆ 28.0          │\n",
       "│ 1    ┆ -0.662526 ┆ 0.533484 ┆ 0.064034  ┆ … ┆ 57485000000000 ┆ 4       ┆ 1       ┆ 28.0          │\n",
       "│ 2    ┆ -0.611384 ┆ 0.227252 ┆ -0.150882 ┆ … ┆ 57490000000000 ┆ 4       ┆ 1       ┆ 28.0          │\n",
       "│ 3    ┆ -0.385799 ┆ 0.552782 ┆ -0.500523 ┆ … ┆ 57495000000000 ┆ 4       ┆ 1       ┆ 28.0          │\n",
       "│ 4    ┆ 0.016133  ┆ 0.031981 ┆ -0.825109 ┆ … ┆ 57500000000000 ┆ 4       ┆ 1       ┆ 28.0          │\n",
       "└──────┴───────────┴──────────┴───────────┴───┴────────────────┴─────────┴─────────┴───────────────┘"
      ]
     },
     "execution_count": 31,
     "metadata": {},
     "output_type": "execute_result"
    }
   ],
   "source": [
    "# Partitioned parquet files by ID can be read directly at directory level in polars / pandas\n",
    "train_example_path = next((DATA_DIR / 'series_train.parquet').iterdir())\n",
    "train_example = pl.read_parquet(train_example_path)\n",
    "\n",
    "print(f\"Reading '{train_example_path}'\")\n",
    "train_example.head()"
   ]
  },
  {
   "cell_type": "code",
   "execution_count": 30,
   "metadata": {},
   "outputs": [
    {
     "name": "stdout",
     "output_type": "stream",
     "text": [
      "Reading ../input/child-mind-institute-problematic-internet-use/series_test.parquet/id=001f3379\n"
     ]
    },
    {
     "data": {
      "text/html": [
       "<div><style>\n",
       ".dataframe > thead > tr,\n",
       ".dataframe > tbody > tr {\n",
       "  text-align: right;\n",
       "  white-space: pre-wrap;\n",
       "}\n",
       "</style>\n",
       "<small>shape: (5, 13)</small><table border=\"1\" class=\"dataframe\"><thead><tr><th>step</th><th>X</th><th>Y</th><th>Z</th><th>enmo</th><th>anglez</th><th>non-wear_flag</th><th>light</th><th>battery_voltage</th><th>time_of_day</th><th>weekday</th><th>quarter</th><th>relative_date_PCIAT</th></tr><tr><td>u32</td><td>f32</td><td>f32</td><td>f32</td><td>f32</td><td>f32</td><td>f32</td><td>f32</td><td>f32</td><td>i64</td><td>i8</td><td>i8</td><td>f32</td></tr></thead><tbody><tr><td>0</td><td>0.679618</td><td>-0.57817</td><td>0.320939</td><td>0.273671</td><td>18.857922</td><td>0.0</td><td>6.0</td><td>4175.0</td><td>40260000000000</td><td>2</td><td>3</td><td>68.0</td></tr><tr><td>1</td><td>-0.13918</td><td>-0.727815</td><td>0.591056</td><td>0.083061</td><td>37.90284</td><td>0.0</td><td>1.5</td><td>4174.75</td><td>40265000000000</td><td>2</td><td>3</td><td>68.0</td></tr><tr><td>2</td><td>-0.60173</td><td>-0.353205</td><td>0.675733</td><td>0.032478</td><td>44.337727</td><td>0.0</td><td>1.0</td><td>4174.5</td><td>40270000000000</td><td>2</td><td>3</td><td>68.0</td></tr><tr><td>3</td><td>-0.379666</td><td>-0.283236</td><td>0.613746</td><td>0.0748</td><td>44.593758</td><td>0.0</td><td>55.200001</td><td>4174.25</td><td>40275000000000</td><td>2</td><td>3</td><td>68.0</td></tr><tr><td>4</td><td>0.397701</td><td>0.470948</td><td>-0.486966</td><td>0.070064</td><td>-31.758539</td><td>0.0</td><td>21.0</td><td>4174.0</td><td>40280000000000</td><td>2</td><td>3</td><td>68.0</td></tr></tbody></table></div>"
      ],
      "text/plain": [
       "shape: (5, 13)\n",
       "┌──────┬───────────┬───────────┬───────────┬───┬───────────────┬─────────┬─────────┬───────────────┐\n",
       "│ step ┆ X         ┆ Y         ┆ Z         ┆ … ┆ time_of_day   ┆ weekday ┆ quarter ┆ relative_date │\n",
       "│ ---  ┆ ---       ┆ ---       ┆ ---       ┆   ┆ ---           ┆ ---     ┆ ---     ┆ _PCIAT        │\n",
       "│ u32  ┆ f32       ┆ f32       ┆ f32       ┆   ┆ i64           ┆ i8      ┆ i8      ┆ ---           │\n",
       "│      ┆           ┆           ┆           ┆   ┆               ┆         ┆         ┆ f32           │\n",
       "╞══════╪═══════════╪═══════════╪═══════════╪═══╪═══════════════╪═════════╪═════════╪═══════════════╡\n",
       "│ 0    ┆ 0.679618  ┆ -0.57817  ┆ 0.320939  ┆ … ┆ 4026000000000 ┆ 2       ┆ 3       ┆ 68.0          │\n",
       "│      ┆           ┆           ┆           ┆   ┆ 0             ┆         ┆         ┆               │\n",
       "│ 1    ┆ -0.13918  ┆ -0.727815 ┆ 0.591056  ┆ … ┆ 4026500000000 ┆ 2       ┆ 3       ┆ 68.0          │\n",
       "│      ┆           ┆           ┆           ┆   ┆ 0             ┆         ┆         ┆               │\n",
       "│ 2    ┆ -0.60173  ┆ -0.353205 ┆ 0.675733  ┆ … ┆ 4027000000000 ┆ 2       ┆ 3       ┆ 68.0          │\n",
       "│      ┆           ┆           ┆           ┆   ┆ 0             ┆         ┆         ┆               │\n",
       "│ 3    ┆ -0.379666 ┆ -0.283236 ┆ 0.613746  ┆ … ┆ 4027500000000 ┆ 2       ┆ 3       ┆ 68.0          │\n",
       "│      ┆           ┆           ┆           ┆   ┆ 0             ┆         ┆         ┆               │\n",
       "│ 4    ┆ 0.397701  ┆ 0.470948  ┆ -0.486966 ┆ … ┆ 4028000000000 ┆ 2       ┆ 3       ┆ 68.0          │\n",
       "│      ┆           ┆           ┆           ┆   ┆ 0             ┆         ┆         ┆               │\n",
       "└──────┴───────────┴───────────┴───────────┴───┴───────────────┴─────────┴─────────┴───────────────┘"
      ]
     },
     "execution_count": 30,
     "metadata": {},
     "output_type": "execute_result"
    }
   ],
   "source": [
    "test_example_path = next((DATA_DIR / 'series_test.parquet').iterdir())\n",
    "test_example = pl.read_parquet(test_example_path)\n",
    "\n",
    "print(f\"Reading '{test_example_path}'\")\n",
    "test_example.head()"
   ]
  },
  {
   "cell_type": "code",
   "execution_count": null,
   "metadata": {},
   "outputs": [],
   "source": []
  }
 ],
 "metadata": {
  "kernelspec": {
   "display_name": "kenv",
   "language": "python",
   "name": "python3"
  },
  "language_info": {
   "codemirror_mode": {
    "name": "ipython",
    "version": 3
   },
   "file_extension": ".py",
   "mimetype": "text/x-python",
   "name": "python",
   "nbconvert_exporter": "python",
   "pygments_lexer": "ipython3",
   "version": "3.10.15"
  }
 },
 "nbformat": 4,
 "nbformat_minor": 2
}
