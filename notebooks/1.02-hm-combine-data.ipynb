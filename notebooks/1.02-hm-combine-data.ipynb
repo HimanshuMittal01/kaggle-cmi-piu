{
 "cells": [
  {
   "cell_type": "code",
   "execution_count": 1,
   "metadata": {},
   "outputs": [],
   "source": [
    "%%capture\n",
    "%load_ext autoreload\n",
    "%autoreload 2\n",
    "\n",
    "# We can also put these magic commands in `.vscode/settings.json` like this:\n",
    "# \"jupyter.runStartupCommands\": [\n",
    "#     \"%load_ext autoreload\",\n",
    "#     \"%autoreload 2\"\n",
    "# ]"
   ]
  },
  {
   "cell_type": "code",
   "execution_count": 2,
   "metadata": {},
   "outputs": [
    {
     "name": "stdout",
     "output_type": "stream",
     "text": [
      "All imports loaded successfully\n"
     ]
    }
   ],
   "source": [
    "from pathlib import Path\n",
    "\n",
    "import polars as pl\n",
    "\n",
    "from cmipiu.features import aggregate_pq_files, aggregate_pq_files_v2\n",
    "\n",
    "print(\"All imports loaded successfully\")"
   ]
  },
  {
   "cell_type": "code",
   "execution_count": 17,
   "metadata": {},
   "outputs": [
    {
     "name": "stderr",
     "output_type": "stream",
     "text": [
      "Aggregating pq files: 100%|██████████| 996/996 [00:17<00:00, 56.17it/s]\n"
     ]
    },
    {
     "data": {
      "text/html": [
       "<div><style>\n",
       ".dataframe > thead > tr,\n",
       ".dataframe > tbody > tr {\n",
       "  text-align: right;\n",
       "  white-space: pre-wrap;\n",
       "}\n",
       "</style>\n",
       "<small>shape: (5, 26)</small><table border=\"1\" class=\"dataframe\"><thead><tr><th>id</th><th>relative_start_date_PCIAT</th><th>total_days</th><th>rolling_std_anglez_abs_std</th><th>X_mean</th><th>X_std</th><th>Y_mean</th><th>Y_std</th><th>angleZ_mean</th><th>angleZ_std</th><th>daily_avg_enmo_min</th><th>daily_avg_enmo_mean</th><th>daily_avg_enmo_std</th><th>daily_avg_enmo_max</th><th>daily_avg_light_min</th><th>daily_avg_light_mean</th><th>daily_avg_light_std</th><th>daily_avg_light_max</th><th>first7_avg_enmo_min</th><th>first7_avg_enmo_mean</th><th>first7_avg_enmo_std</th><th>first7_avg_enmo_max</th><th>first7_avg_light_min</th><th>first7_avg_light_mean</th><th>first7_avg_light_std</th><th>first7_avg_light_max</th></tr><tr><td>str</td><td>f32</td><td>f32</td><td>f32</td><td>f32</td><td>f32</td><td>f32</td><td>f32</td><td>f32</td><td>f32</td><td>f32</td><td>f32</td><td>f32</td><td>f32</td><td>f32</td><td>f32</td><td>f32</td><td>f32</td><td>f32</td><td>f32</td><td>f32</td><td>f32</td><td>f32</td><td>f32</td><td>f32</td><td>f32</td></tr></thead><tbody><tr><td>&quot;cefdb7fe&quot;</td><td>13.0</td><td>24.0</td><td>9.303995</td><td>0.047879</td><td>0.523529</td><td>0.003235</td><td>0.441043</td><td>-18.724211</td><td>49.600792</td><td>0.007315</td><td>0.023521</td><td>0.012307</td><td>0.055307</td><td>5.66291</td><td>67.586945</td><td>59.117203</td><td>277.175049</td><td>null</td><td>null</td><td>null</td><td>null</td><td>null</td><td>null</td><td>null</td><td>null</td></tr><tr><td>&quot;ca33a5e7&quot;</td><td>55.0</td><td>31.0</td><td>5.330363</td><td>0.011678</td><td>0.169036</td><td>0.114462</td><td>0.434995</td><td>-62.595814</td><td>41.026581</td><td>1.2589e-7</td><td>0.002589</td><td>0.005216</td><td>0.021023</td><td>0.636399</td><td>25.029976</td><td>36.072395</td><td>174.563477</td><td>null</td><td>null</td><td>null</td><td>null</td><td>null</td><td>null</td><td>null</td><td>null</td></tr><tr><td>&quot;0d01bbf2&quot;</td><td>28.0</td><td>35.0</td><td>3.646807</td><td>-0.478971</td><td>0.429476</td><td>-0.037643</td><td>0.518888</td><td>-14.676959</td><td>28.848204</td><td>0.022115</td><td>0.058052</td><td>0.017665</td><td>0.099609</td><td>1.581965</td><td>39.541206</td><td>35.889221</td><td>148.635071</td><td>null</td><td>null</td><td>null</td><td>null</td><td>null</td><td>null</td><td>null</td><td>null</td></tr><tr><td>&quot;58391429&quot;</td><td>25.0</td><td>22.0</td><td>8.10817</td><td>-0.088864</td><td>0.300414</td><td>0.045145</td><td>0.371415</td><td>-21.555964</td><td>67.857338</td><td>3.9179e-7</td><td>0.004911</td><td>0.005921</td><td>0.020968</td><td>0.0</td><td>10.284554</td><td>13.354685</td><td>58.878628</td><td>null</td><td>null</td><td>null</td><td>null</td><td>null</td><td>null</td><td>null</td><td>null</td></tr><tr><td>&quot;6b6467f4&quot;</td><td>7.0</td><td>1.0</td><td>5.879189</td><td>-0.42547</td><td>0.471329</td><td>0.056812</td><td>0.513878</td><td>-20.495251</td><td>26.673159</td><td>0.009792</td><td>0.032944</td><td>0.032742</td><td>0.056096</td><td>8.0</td><td>9.360171</td><td>1.923572</td><td>10.720342</td><td>null</td><td>null</td><td>null</td><td>null</td><td>null</td><td>null</td><td>null</td><td>null</td></tr></tbody></table></div>"
      ],
      "text/plain": [
       "shape: (5, 26)\n",
       "┌──────────┬───────────┬───────────┬───────────┬───┬───────────┬───────────┬───────────┬───────────┐\n",
       "│ id       ┆ relative_ ┆ total_day ┆ rolling_s ┆ … ┆ first7_av ┆ first7_av ┆ first7_av ┆ first7_av │\n",
       "│ ---      ┆ start_dat ┆ s         ┆ td_anglez ┆   ┆ g_light_m ┆ g_light_m ┆ g_light_s ┆ g_light_m │\n",
       "│ str      ┆ e_PCIAT   ┆ ---       ┆ _abs_std  ┆   ┆ in        ┆ ean       ┆ td        ┆ ax        │\n",
       "│          ┆ ---       ┆ f32       ┆ ---       ┆   ┆ ---       ┆ ---       ┆ ---       ┆ ---       │\n",
       "│          ┆ f32       ┆           ┆ f32       ┆   ┆ f32       ┆ f32       ┆ f32       ┆ f32       │\n",
       "╞══════════╪═══════════╪═══════════╪═══════════╪═══╪═══════════╪═══════════╪═══════════╪═══════════╡\n",
       "│ cefdb7fe ┆ 13.0      ┆ 24.0      ┆ 9.303995  ┆ … ┆ null      ┆ null      ┆ null      ┆ null      │\n",
       "│ ca33a5e7 ┆ 55.0      ┆ 31.0      ┆ 5.330363  ┆ … ┆ null      ┆ null      ┆ null      ┆ null      │\n",
       "│ 0d01bbf2 ┆ 28.0      ┆ 35.0      ┆ 3.646807  ┆ … ┆ null      ┆ null      ┆ null      ┆ null      │\n",
       "│ 58391429 ┆ 25.0      ┆ 22.0      ┆ 8.10817   ┆ … ┆ null      ┆ null      ┆ null      ┆ null      │\n",
       "│ 6b6467f4 ┆ 7.0       ┆ 1.0       ┆ 5.879189  ┆ … ┆ null      ┆ null      ┆ null      ┆ null      │\n",
       "└──────────┴───────────┴───────────┴───────────┴───┴───────────┴───────────┴───────────┴───────────┘"
      ]
     },
     "execution_count": 17,
     "metadata": {},
     "output_type": "execute_result"
    }
   ],
   "source": [
    "DATA_DIR = Path(\"../input/child-mind-institute-problematic-internet-use/\")\n",
    "files = [file for file in (DATA_DIR / 'series_train.parquet').iterdir()]\n",
    "\n",
    "# cols = [\"X\", \"Y\", \"Z\", \"enmo\", \"light\", \"battery_voltage\"]\n",
    "# train_agg = aggregate_pq_files(files, cols)\n",
    "train_agg = aggregate_pq_files_v2(files)\n",
    "train_agg.head()"
   ]
  },
  {
   "cell_type": "code",
   "execution_count": 18,
   "metadata": {},
   "outputs": [
    {
     "name": "stderr",
     "output_type": "stream",
     "text": [
      "Aggregating pq files:   0%|          | 0/2 [00:00<?, ?it/s]"
     ]
    },
    {
     "name": "stderr",
     "output_type": "stream",
     "text": [
      "Aggregating pq files: 100%|██████████| 2/2 [00:00<00:00, 109.08it/s]\n"
     ]
    },
    {
     "data": {
      "text/html": [
       "<div><style>\n",
       ".dataframe > thead > tr,\n",
       ".dataframe > tbody > tr {\n",
       "  text-align: right;\n",
       "  white-space: pre-wrap;\n",
       "}\n",
       "</style>\n",
       "<small>shape: (2, 26)</small><table border=\"1\" class=\"dataframe\"><thead><tr><th>id</th><th>relative_start_date_PCIAT</th><th>total_days</th><th>rolling_std_anglez_abs_std</th><th>X_mean</th><th>X_std</th><th>Y_mean</th><th>Y_std</th><th>angleZ_mean</th><th>angleZ_std</th><th>daily_avg_enmo_min</th><th>daily_avg_enmo_mean</th><th>daily_avg_enmo_std</th><th>daily_avg_enmo_max</th><th>daily_avg_light_min</th><th>daily_avg_light_mean</th><th>daily_avg_light_std</th><th>daily_avg_light_max</th><th>first7_avg_enmo_min</th><th>first7_avg_enmo_mean</th><th>first7_avg_enmo_std</th><th>first7_avg_enmo_max</th><th>first7_avg_light_min</th><th>first7_avg_light_mean</th><th>first7_avg_light_std</th><th>first7_avg_light_max</th></tr><tr><td>str</td><td>f32</td><td>f32</td><td>f32</td><td>f32</td><td>f32</td><td>f32</td><td>f32</td><td>f32</td><td>f32</td><td>f32</td><td>f32</td><td>f32</td><td>f32</td><td>f32</td><td>f32</td><td>f32</td><td>f32</td><td>f32</td><td>f32</td><td>f32</td><td>f32</td><td>f32</td><td>f32</td><td>f32</td><td>f32</td></tr></thead><tbody><tr><td>&quot;00115b9f&quot;</td><td>41.0</td><td>44.0</td><td>6.143994</td><td>-0.316383</td><td>0.453665</td><td>0.016009</td><td>0.502702</td><td>-10.580381</td><td>42.94717</td><td>0.000003</td><td>0.029791</td><td>0.025196</td><td>0.097723</td><td>1.239798</td><td>16.674427</td><td>26.515331</td><td>118.305832</td><td>0.008188</td><td>0.054789</td><td>0.029895</td><td>0.097723</td><td>1.949013</td><td>47.063744</td><td>42.372292</td><td>118.305847</td></tr><tr><td>&quot;001f3379&quot;</td><td>68.0</td><td>23.0</td><td>8.820418</td><td>-0.004272</td><td>0.351545</td><td>0.016859</td><td>0.303812</td><td>-55.614735</td><td>50.303635</td><td>0.005051</td><td>0.012142</td><td>0.005382</td><td>0.031802</td><td>0.385574</td><td>17.674879</td><td>20.731668</td><td>84.181152</td><td>null</td><td>null</td><td>null</td><td>null</td><td>null</td><td>null</td><td>null</td><td>null</td></tr></tbody></table></div>"
      ],
      "text/plain": [
       "shape: (2, 26)\n",
       "┌──────────┬───────────┬───────────┬───────────┬───┬───────────┬───────────┬───────────┬───────────┐\n",
       "│ id       ┆ relative_ ┆ total_day ┆ rolling_s ┆ … ┆ first7_av ┆ first7_av ┆ first7_av ┆ first7_av │\n",
       "│ ---      ┆ start_dat ┆ s         ┆ td_anglez ┆   ┆ g_light_m ┆ g_light_m ┆ g_light_s ┆ g_light_m │\n",
       "│ str      ┆ e_PCIAT   ┆ ---       ┆ _abs_std  ┆   ┆ in        ┆ ean       ┆ td        ┆ ax        │\n",
       "│          ┆ ---       ┆ f32       ┆ ---       ┆   ┆ ---       ┆ ---       ┆ ---       ┆ ---       │\n",
       "│          ┆ f32       ┆           ┆ f32       ┆   ┆ f32       ┆ f32       ┆ f32       ┆ f32       │\n",
       "╞══════════╪═══════════╪═══════════╪═══════════╪═══╪═══════════╪═══════════╪═══════════╪═══════════╡\n",
       "│ 00115b9f ┆ 41.0      ┆ 44.0      ┆ 6.143994  ┆ … ┆ 1.949013  ┆ 47.063744 ┆ 42.372292 ┆ 118.30584 │\n",
       "│          ┆           ┆           ┆           ┆   ┆           ┆           ┆           ┆ 7         │\n",
       "│ 001f3379 ┆ 68.0      ┆ 23.0      ┆ 8.820418  ┆ … ┆ null      ┆ null      ┆ null      ┆ null      │\n",
       "└──────────┴───────────┴───────────┴───────────┴───┴───────────┴───────────┴───────────┴───────────┘"
      ]
     },
     "execution_count": 18,
     "metadata": {},
     "output_type": "execute_result"
    }
   ],
   "source": [
    "files = [file for file in (DATA_DIR / 'series_test.parquet').iterdir()]\n",
    "\n",
    "# cols = [\"X\", \"Y\", \"Z\", \"enmo\", \"light\", \"battery_voltage\"]\n",
    "# test_agg = aggregate_pq_files(files, cols)\n",
    "test_agg = aggregate_pq_files_v2(files)\n",
    "test_agg.head()"
   ]
  },
  {
   "cell_type": "code",
   "execution_count": 19,
   "metadata": {},
   "outputs": [
    {
     "name": "stdout",
     "output_type": "stream",
     "text": [
      "Train shape: (3960, 82)\n",
      "Test shape: (20, 59)\n"
     ]
    }
   ],
   "source": [
    "train = pl.read_csv(DATA_DIR / \"train.csv\")\n",
    "test = pl.read_csv(DATA_DIR / \"test.csv\")\n",
    "\n",
    "print(f\"Train shape: {train.shape}\")\n",
    "print(f\"Test shape: {test.shape}\")"
   ]
  },
  {
   "cell_type": "code",
   "execution_count": 20,
   "metadata": {},
   "outputs": [
    {
     "name": "stdout",
     "output_type": "stream",
     "text": [
      "New train shape after joining aggregates: (3960, 107)\n",
      "New test shape after joining aggregates: (20, 84)\n"
     ]
    }
   ],
   "source": [
    "train = train.join(train_agg, how='left', on='id')\n",
    "test = test.join(test_agg, how='left', on='id')\n",
    "\n",
    "print(f\"New train shape after joining aggregates: {train.shape}\")\n",
    "print(f\"New test shape after joining aggregates: {test.shape}\")"
   ]
  },
  {
   "cell_type": "code",
   "execution_count": 21,
   "metadata": {},
   "outputs": [
    {
     "name": "stdout",
     "output_type": "stream",
     "text": [
      "Preprocessed training data saved in ../input/processed/train_combined_v2.csv\n",
      "Preprocessed testing data saved in ../input/processed/test_combined_v2.csv\n"
     ]
    }
   ],
   "source": [
    "train_filepath = Path('../input/processed/train_combined_v2.csv')\n",
    "train_filepath.parent.mkdir(parents=True, exist_ok=True)\n",
    "train.write_csv(train_filepath)\n",
    "print(f\"Preprocessed training data saved in {train_filepath}\")\n",
    "\n",
    "test_filepath = Path('../input/processed/test_combined_v2.csv')\n",
    "test_filepath.parent.mkdir(parents=True, exist_ok=True)\n",
    "test.write_csv(test_filepath)\n",
    "print(f\"Preprocessed testing data saved in {test_filepath}\")"
   ]
  },
  {
   "cell_type": "code",
   "execution_count": null,
   "metadata": {},
   "outputs": [],
   "source": []
  }
 ],
 "metadata": {
  "kernelspec": {
   "display_name": "venv",
   "language": "python",
   "name": "python3"
  },
  "language_info": {
   "codemirror_mode": {
    "name": "ipython",
    "version": 3
   },
   "file_extension": ".py",
   "mimetype": "text/x-python",
   "name": "python",
   "nbconvert_exporter": "python",
   "pygments_lexer": "ipython3",
   "version": "3.10.15"
  }
 },
 "nbformat": 4,
 "nbformat_minor": 2
}
