{
 "cells": [
  {
   "cell_type": "code",
   "execution_count": 1,
   "metadata": {},
   "outputs": [],
   "source": [
    "%%capture\n",
    "%load_ext autoreload\n",
    "%autoreload 2\n",
    "\n",
    "# We can also put these magic commands in `.vscode/settings.json` like this:\n",
    "# \"jupyter.runStartupCommands\": [\n",
    "#     \"%load_ext autoreload\",\n",
    "#     \"%autoreload 2\"\n",
    "# ]"
   ]
  },
  {
   "cell_type": "code",
   "execution_count": 35,
   "metadata": {},
   "outputs": [
    {
     "name": "stdout",
     "output_type": "stream",
     "text": [
      "All imports loaded successfully\n"
     ]
    }
   ],
   "source": [
    "from pathlib import Path\n",
    "\n",
    "import polars as pl\n",
    "\n",
    "from cmipiu.features import aggregate_pq_files\n",
    "\n",
    "print(\"All imports loaded successfully\")"
   ]
  },
  {
   "cell_type": "code",
   "execution_count": 39,
   "metadata": {},
   "outputs": [
    {
     "name": "stderr",
     "output_type": "stream",
     "text": [
      "Aggregating pq files: 100%|██████████| 996/996 [00:13<00:00, 72.52it/s]\n"
     ]
    },
    {
     "data": {
      "text/html": [
       "<div><style>\n",
       ".dataframe > thead > tr,\n",
       ".dataframe > tbody > tr {\n",
       "  text-align: right;\n",
       "  white-space: pre-wrap;\n",
       "}\n",
       "</style>\n",
       "<small>shape: (5, 25)</small><table border=\"1\" class=\"dataframe\"><thead><tr><th>id</th><th>X_min</th><th>Y_min</th><th>Z_min</th><th>enmo_min</th><th>light_min</th><th>battery_voltage_min</th><th>X_mean</th><th>Y_mean</th><th>Z_mean</th><th>enmo_mean</th><th>light_mean</th><th>battery_voltage_mean</th><th>X_max</th><th>Y_max</th><th>Z_max</th><th>enmo_max</th><th>light_max</th><th>battery_voltage_max</th><th>X_std</th><th>Y_std</th><th>Z_std</th><th>enmo_std</th><th>light_std</th><th>battery_voltage_std</th></tr><tr><td>str</td><td>f32</td><td>f32</td><td>f32</td><td>f32</td><td>f32</td><td>f32</td><td>f32</td><td>f32</td><td>f32</td><td>f32</td><td>f32</td><td>f32</td><td>f32</td><td>f32</td><td>f32</td><td>f32</td><td>f32</td><td>f32</td><td>f32</td><td>f32</td><td>f32</td><td>f32</td><td>f32</td><td>f32</td></tr></thead><tbody><tr><td>&quot;6b6467f4&quot;</td><td>-0.992422</td><td>-3.549023</td><td>-1.008633</td><td>0.0</td><td>0.0</td><td>4086.0</td><td>-0.42547</td><td>0.056812</td><td>-0.307925</td><td>0.053125</td><td>10.545769</td><td>4095.827393</td><td>1.006836</td><td>1.009336</td><td>0.967422</td><td>3.42929</td><td>266.0</td><td>4145.0</td><td>0.471329</td><td>0.513878</td><td>0.393905</td><td>0.155176</td><td>15.383665</td><td>6.687519</td></tr><tr><td>&quot;9d6b1410&quot;</td><td>-1.204403</td><td>-3.650786</td><td>-1.004756</td><td>0.0</td><td>0.0</td><td>3098.166748</td><td>0.20751</td><td>-0.019417</td><td>0.053819</td><td>0.060859</td><td>121.138039</td><td>3840.148926</td><td>1.796815</td><td>2.623967</td><td>3.006071</td><td>4.794266</td><td>2636.75</td><td>4158.0</td><td>0.562766</td><td>0.493536</td><td>0.593948</td><td>0.177751</td><td>379.6315</td><td>167.240082</td></tr><tr><td>&quot;0d01bbf2&quot;</td><td>-3.29879</td><td>-3.262288</td><td>-1.134395</td><td>0.0</td><td>0.0</td><td>3706.0</td><td>-0.478971</td><td>-0.037643</td><td>-0.215953</td><td>0.06154</td><td>41.466927</td><td>3876.09668</td><td>1.159667</td><td>2.525316</td><td>1.802745</td><td>4.568309</td><td>2659.666748</td><td>4179.0</td><td>0.429476</td><td>0.518888</td><td>0.422696</td><td>0.129369</td><td>180.046051</td><td>121.027328</td></tr><tr><td>&quot;19455336&quot;</td><td>-3.150714</td><td>-4.179972</td><td>-1.019038</td><td>0.0</td><td>0.0</td><td>3098.166748</td><td>-0.067279</td><td>0.187804</td><td>-0.381716</td><td>0.01887</td><td>10.622702</td><td>3828.518066</td><td>2.427422</td><td>2.343212</td><td>2.094606</td><td>5.087605</td><td>2408.199951</td><td>4133.0</td><td>0.282437</td><td>0.528473</td><td>0.669284</td><td>0.075737</td><td>39.840015</td><td>147.438263</td></tr><tr><td>&quot;2812951b&quot;</td><td>-2.683229</td><td>-3.152597</td><td>-1.078669</td><td>0.0</td><td>0.0</td><td>3267.0</td><td>0.018125</td><td>0.001338</td><td>0.023644</td><td>0.086539</td><td>101.366875</td><td>3966.00708</td><td>2.936888</td><td>3.149463</td><td>1.820917</td><td>5.086066</td><td>2650.399902</td><td>4199.0</td><td>0.622624</td><td>0.566363</td><td>0.488903</td><td>0.183112</td><td>361.444977</td><td>153.062592</td></tr></tbody></table></div>"
      ],
      "text/plain": [
       "shape: (5, 25)\n",
       "┌──────────┬───────────┬───────────┬───────────┬───┬──────────┬──────────┬────────────┬────────────┐\n",
       "│ id       ┆ X_min     ┆ Y_min     ┆ Z_min     ┆ … ┆ Z_std    ┆ enmo_std ┆ light_std  ┆ battery_vo │\n",
       "│ ---      ┆ ---       ┆ ---       ┆ ---       ┆   ┆ ---      ┆ ---      ┆ ---        ┆ ltage_std  │\n",
       "│ str      ┆ f32       ┆ f32       ┆ f32       ┆   ┆ f32      ┆ f32      ┆ f32        ┆ ---        │\n",
       "│          ┆           ┆           ┆           ┆   ┆          ┆          ┆            ┆ f32        │\n",
       "╞══════════╪═══════════╪═══════════╪═══════════╪═══╪══════════╪══════════╪════════════╪════════════╡\n",
       "│ 6b6467f4 ┆ -0.992422 ┆ -3.549023 ┆ -1.008633 ┆ … ┆ 0.393905 ┆ 0.155176 ┆ 15.383665  ┆ 6.687519   │\n",
       "│ 9d6b1410 ┆ -1.204403 ┆ -3.650786 ┆ -1.004756 ┆ … ┆ 0.593948 ┆ 0.177751 ┆ 379.6315   ┆ 167.240082 │\n",
       "│ 0d01bbf2 ┆ -3.29879  ┆ -3.262288 ┆ -1.134395 ┆ … ┆ 0.422696 ┆ 0.129369 ┆ 180.046051 ┆ 121.027328 │\n",
       "│ 19455336 ┆ -3.150714 ┆ -4.179972 ┆ -1.019038 ┆ … ┆ 0.669284 ┆ 0.075737 ┆ 39.840015  ┆ 147.438263 │\n",
       "│ 2812951b ┆ -2.683229 ┆ -3.152597 ┆ -1.078669 ┆ … ┆ 0.488903 ┆ 0.183112 ┆ 361.444977 ┆ 153.062592 │\n",
       "└──────────┴───────────┴───────────┴───────────┴───┴──────────┴──────────┴────────────┴────────────┘"
      ]
     },
     "execution_count": 39,
     "metadata": {},
     "output_type": "execute_result"
    }
   ],
   "source": [
    "DATA_DIR = Path(\"../input/child-mind-institute-problematic-internet-use/\")\n",
    "files = [file for file in (DATA_DIR / 'series_train.parquet').iterdir()]\n",
    "\n",
    "cols = [\"X\", \"Y\", \"Z\", \"enmo\", \"light\", \"battery_voltage\"]\n",
    "train_agg = aggregate_pq_files(files, cols)\n",
    "train_agg.head()"
   ]
  },
  {
   "cell_type": "code",
   "execution_count": 38,
   "metadata": {},
   "outputs": [
    {
     "name": "stderr",
     "output_type": "stream",
     "text": [
      "Aggregating pq files: 100%|██████████| 2/2 [00:00<00:00, 50.26it/s]\n"
     ]
    },
    {
     "data": {
      "text/html": [
       "<div><style>\n",
       ".dataframe > thead > tr,\n",
       ".dataframe > tbody > tr {\n",
       "  text-align: right;\n",
       "  white-space: pre-wrap;\n",
       "}\n",
       "</style>\n",
       "<small>shape: (2, 25)</small><table border=\"1\" class=\"dataframe\"><thead><tr><th>id</th><th>X_min</th><th>Y_min</th><th>Z_min</th><th>enmo_min</th><th>light_min</th><th>battery_voltage_min</th><th>X_mean</th><th>Y_mean</th><th>Z_mean</th><th>enmo_mean</th><th>light_mean</th><th>battery_voltage_mean</th><th>X_max</th><th>Y_max</th><th>Z_max</th><th>enmo_max</th><th>light_max</th><th>battery_voltage_max</th><th>X_std</th><th>Y_std</th><th>Z_std</th><th>enmo_std</th><th>light_std</th><th>battery_voltage_std</th></tr><tr><td>str</td><td>f32</td><td>f32</td><td>f32</td><td>f32</td><td>f32</td><td>f32</td><td>f32</td><td>f32</td><td>f32</td><td>f32</td><td>f32</td><td>f32</td><td>f32</td><td>f32</td><td>f32</td><td>f32</td><td>f32</td><td>f32</td><td>f32</td><td>f32</td><td>f32</td><td>f32</td><td>f32</td><td>f32</td></tr></thead><tbody><tr><td>&quot;00115b9f&quot;</td><td>-1.746094</td><td>-2.905339</td><td>-1.048372</td><td>0.0</td><td>0.0</td><td>3824.0</td><td>-0.316383</td><td>0.016009</td><td>-0.167891</td><td>0.047388</td><td>42.296921</td><td>4053.241211</td><td>1.507865</td><td>1.666354</td><td>1.546979</td><td>4.004276</td><td>2633.25</td><td>4188.5</td><td>0.453665</td><td>0.502702</td><td>0.58571</td><td>0.106351</td><td>208.168976</td><td>112.404037</td></tr><tr><td>&quot;001f3379&quot;</td><td>-1.038711</td><td>-1.52269</td><td>-1.018787</td><td>0.0</td><td>0.0</td><td>3098.166748</td><td>-0.004272</td><td>0.016859</td><td>-0.631096</td><td>0.011926</td><td>16.770199</td><td>3834.537598</td><td>1.034351</td><td>1.946303</td><td>1.146284</td><td>2.952888</td><td>2597.800049</td><td>4175.0</td><td>0.351545</td><td>0.303812</td><td>0.623476</td><td>0.024331</td><td>95.327438</td><td>155.573868</td></tr></tbody></table></div>"
      ],
      "text/plain": [
       "shape: (2, 25)\n",
       "┌──────────┬───────────┬───────────┬───────────┬───┬──────────┬──────────┬────────────┬────────────┐\n",
       "│ id       ┆ X_min     ┆ Y_min     ┆ Z_min     ┆ … ┆ Z_std    ┆ enmo_std ┆ light_std  ┆ battery_vo │\n",
       "│ ---      ┆ ---       ┆ ---       ┆ ---       ┆   ┆ ---      ┆ ---      ┆ ---        ┆ ltage_std  │\n",
       "│ str      ┆ f32       ┆ f32       ┆ f32       ┆   ┆ f32      ┆ f32      ┆ f32        ┆ ---        │\n",
       "│          ┆           ┆           ┆           ┆   ┆          ┆          ┆            ┆ f32        │\n",
       "╞══════════╪═══════════╪═══════════╪═══════════╪═══╪══════════╪══════════╪════════════╪════════════╡\n",
       "│ 00115b9f ┆ -1.746094 ┆ -2.905339 ┆ -1.048372 ┆ … ┆ 0.58571  ┆ 0.106351 ┆ 208.168976 ┆ 112.404037 │\n",
       "│ 001f3379 ┆ -1.038711 ┆ -1.52269  ┆ -1.018787 ┆ … ┆ 0.623476 ┆ 0.024331 ┆ 95.327438  ┆ 155.573868 │\n",
       "└──────────┴───────────┴───────────┴───────────┴───┴──────────┴──────────┴────────────┴────────────┘"
      ]
     },
     "execution_count": 38,
     "metadata": {},
     "output_type": "execute_result"
    }
   ],
   "source": [
    "files = [file for file in (DATA_DIR / 'series_test.parquet').iterdir()]\n",
    "\n",
    "cols = [\"X\", \"Y\", \"Z\", \"enmo\", \"light\", \"battery_voltage\"]\n",
    "test_agg = aggregate_pq_files(files, cols)\n",
    "test_agg.head()"
   ]
  },
  {
   "cell_type": "code",
   "execution_count": 41,
   "metadata": {},
   "outputs": [
    {
     "name": "stdout",
     "output_type": "stream",
     "text": [
      "Train shape: (3960, 82)\n",
      "Test shape: (20, 59)\n"
     ]
    }
   ],
   "source": [
    "train = pl.read_csv(DATA_DIR / \"train.csv\")\n",
    "test = pl.read_csv(DATA_DIR / \"test.csv\")\n",
    "\n",
    "print(f\"Train shape: {train.shape}\")\n",
    "print(f\"Test shape: {test.shape}\")"
   ]
  },
  {
   "cell_type": "code",
   "execution_count": 44,
   "metadata": {},
   "outputs": [
    {
     "name": "stdout",
     "output_type": "stream",
     "text": [
      "New train shape after joining aggregates: (3960, 106)\n",
      "New test shape after joining aggregates: (20, 83)\n"
     ]
    }
   ],
   "source": [
    "train = train.join(train_agg, how='left', on='id')\n",
    "test = test.join(test_agg, how='left', on='id')\n",
    "\n",
    "print(f\"New train shape after joining aggregates: {train.shape}\")\n",
    "print(f\"New test shape after joining aggregates: {test.shape}\")"
   ]
  },
  {
   "cell_type": "code",
   "execution_count": 47,
   "metadata": {},
   "outputs": [
    {
     "name": "stdout",
     "output_type": "stream",
     "text": [
      "Preprocessed training data saved in ../input/processed/train_combined.csv\n",
      "Preprocessed testing data saved in ../input/processed/test_combined.csv\n"
     ]
    }
   ],
   "source": [
    "train_filepath = Path('../input/processed/train_combined.csv')\n",
    "train_filepath.parent.mkdir(parents=True, exist_ok=True)\n",
    "train.write_csv(train_filepath)\n",
    "print(f\"Preprocessed training data saved in {train_filepath}\")\n",
    "\n",
    "test_filepath = Path('../input/processed/test_combined.csv')\n",
    "test_filepath.parent.mkdir(parents=True, exist_ok=True)\n",
    "test.write_csv(test_filepath)\n",
    "print(f\"Preprocessed testing data saved in {test_filepath}\")"
   ]
  },
  {
   "cell_type": "code",
   "execution_count": null,
   "metadata": {},
   "outputs": [],
   "source": []
  }
 ],
 "metadata": {
  "kernelspec": {
   "display_name": "venv",
   "language": "python",
   "name": "python3"
  },
  "language_info": {
   "codemirror_mode": {
    "name": "ipython",
    "version": 3
   },
   "file_extension": ".py",
   "mimetype": "text/x-python",
   "name": "python",
   "nbconvert_exporter": "python",
   "pygments_lexer": "ipython3",
   "version": "3.10.15"
  }
 },
 "nbformat": 4,
 "nbformat_minor": 2
}
