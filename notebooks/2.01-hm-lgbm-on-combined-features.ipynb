{
 "cells": [
  {
   "cell_type": "code",
   "execution_count": 130,
   "metadata": {},
   "outputs": [],
   "source": [
    "%%capture\n",
    "%load_ext autoreload\n",
    "%autoreload 2\n",
    "\n",
    "# We can also put these magic commands in `.vscode/settings.json` like this:\n",
    "# \"jupyter.runStartupCommands\": [\n",
    "#     \"%load_ext autoreload\",\n",
    "#     \"%autoreload 2\"\n",
    "# ]"
   ]
  },
  {
   "cell_type": "code",
   "execution_count": 143,
   "metadata": {},
   "outputs": [
    {
     "name": "stdout",
     "output_type": "stream",
     "text": [
      "All imports loaded successfully\n"
     ]
    },
    {
     "name": "stderr",
     "output_type": "stream",
     "text": [
      "/Users/himan/Documents/kaggle/competitions/kaggle-cmi-piu/venv/lib/python3.10/site-packages/tqdm/auto.py:21: TqdmWarning: IProgress not found. Please update jupyter and ipywidgets. See https://ipywidgets.readthedocs.io/en/stable/user_install.html\n",
      "  from .autonotebook import tqdm as notebook_tqdm\n"
     ]
    }
   ],
   "source": [
    "import optuna\n",
    "import numpy as np\n",
    "import polars as pl\n",
    "import lightgbm as lgb\n",
    "import altair as alt\n",
    "from scipy.optimize import minimize\n",
    "from sklearn.impute import KNNImputer\n",
    "from sklearn.model_selection import StratifiedKFold\n",
    "from sklearn.metrics import cohen_kappa_score, accuracy_score\n",
    "\n",
    "print(\"All imports loaded successfully\")"
   ]
  },
  {
   "cell_type": "code",
   "execution_count": 132,
   "metadata": {},
   "outputs": [
    {
     "name": "stdout",
     "output_type": "stream",
     "text": [
      "shape: (5, 107)\n",
      "┌──────────┬───────────┬───────────┬───────────┬───┬───────────┬───────────┬───────────┬───────────┐\n",
      "│ id       ┆ Basic_Dem ┆ Basic_Dem ┆ Basic_Dem ┆ … ┆ first7_av ┆ first7_av ┆ first7_av ┆ first7_av │\n",
      "│ ---      ┆ os-Enroll ┆ os-Age    ┆ os-Sex    ┆   ┆ g_light_m ┆ g_light_m ┆ g_light_s ┆ g_light_m │\n",
      "│ str      ┆ _Season   ┆ ---       ┆ ---       ┆   ┆ in        ┆ ean       ┆ td        ┆ ax        │\n",
      "│          ┆ ---       ┆ i64       ┆ i64       ┆   ┆ ---       ┆ ---       ┆ ---       ┆ ---       │\n",
      "│          ┆ str       ┆           ┆           ┆   ┆ f64       ┆ f64       ┆ f64       ┆ f64       │\n",
      "╞══════════╪═══════════╪═══════════╪═══════════╪═══╪═══════════╪═══════════╪═══════════╪═══════════╡\n",
      "│ 00008ff9 ┆ Fall      ┆ 5         ┆ 0         ┆ … ┆ null      ┆ null      ┆ null      ┆ null      │\n",
      "│ 000fd460 ┆ Summer    ┆ 9         ┆ 0         ┆ … ┆ null      ┆ null      ┆ null      ┆ null      │\n",
      "│ 00105258 ┆ Summer    ┆ 10        ┆ 1         ┆ … ┆ null      ┆ null      ┆ null      ┆ null      │\n",
      "│ 00115b9f ┆ Winter    ┆ 9         ┆ 0         ┆ … ┆ null      ┆ null      ┆ null      ┆ null      │\n",
      "│ 0016bb22 ┆ Spring    ┆ 18        ┆ 1         ┆ … ┆ null      ┆ null      ┆ null      ┆ null      │\n",
      "└──────────┴───────────┴───────────┴───────────┴───┴───────────┴───────────┴───────────┴───────────┘\n"
     ]
    }
   ],
   "source": [
    "df_train = pl.read_csv('../input/processed/train_combined_v2.csv')\n",
    "\n",
    "print(df_train.head())"
   ]
  },
  {
   "cell_type": "code",
   "execution_count": 133,
   "metadata": {},
   "outputs": [
    {
     "name": "stdout",
     "output_type": "stream",
     "text": [
      "Number of rows before dropping nulls: 3960\n",
      "Number of rows after dropping nulls: 2736\n"
     ]
    }
   ],
   "source": [
    "print(f'Number of rows before dropping nulls: {df_train.shape[0]}')\n",
    "df_train = df_train.drop_nulls(subset=['sii'])\n",
    "print(f'Number of rows after dropping nulls: {df_train.shape[0]}')"
   ]
  },
  {
   "cell_type": "code",
   "execution_count": 134,
   "metadata": {},
   "outputs": [
    {
     "name": "stdout",
     "output_type": "stream",
     "text": [
      "X shape: (2736, 106)\n",
      "y shape: (2736, 1)\n"
     ]
    }
   ],
   "source": [
    "X = df_train.drop('sii')\n",
    "y = df_train.select('sii')\n",
    "\n",
    "print(f\"X shape: {X.shape}\")\n",
    "print(f\"y shape: {y.shape}\")"
   ]
  },
  {
   "cell_type": "code",
   "execution_count": 135,
   "metadata": {},
   "outputs": [],
   "source": [
    "def feature_engineering(df, is_training=False, imputer=None):\n",
    "    df = df.with_columns(\n",
    "        PAQ_Total = pl.when(\n",
    "            (pl.col('PAQ_C-PAQ_C_Total').is_null()) | (pl.col('PAQ_A-PAQ_A_Total').is_null())\n",
    "        )\n",
    "        .then((pl.col('PAQ_C-PAQ_C_Total').fill_null(0) + pl.col('PAQ_A-PAQ_A_Total').fill_null(0))/2)\n",
    "        .otherwise(pl.lit(None)),\n",
    "        Fitness_Endurance_Duration = pl.col('Fitness_Endurance-Time_Mins') * 60 + pl.col('Fitness_Endurance-Time_Sec')\n",
    "    )\n",
    "    \n",
    "    # Remove all season and pciat cols\n",
    "    season_cols = [col for col in df.columns if col.endswith('Season')]\n",
    "    pciat_cols = [col for col in df.columns if col.startswith('PCIAT')]\n",
    "    df = df.drop(pciat_cols + season_cols + ['id',\n",
    "                  'PAQ_C-PAQ_C_Total', 'PAQ_A-PAQ_A_Total', 'Fitness_Endurance-Time_Mins', \n",
    "                  'Fitness_Endurance-Time_Sec'])\n",
    "\n",
    "    imputing_cols = [\n",
    "        'Basic_Demos-Age', 'Basic_Demos-Sex', 'CGAS-CGAS_Score', \n",
    "        'Physical-BMI', 'Physical-Height', 'Physical-Weight', 'Physical-Waist_Circumference', \n",
    "        'Physical-Diastolic_BP', 'Physical-HeartRate', 'Physical-Systolic_BP', \n",
    "        'Fitness_Endurance-Max_Stage', 'FGC-FGC_CU', 'FGC-FGC_CU_Zone', 'FGC-FGC_GSND', \n",
    "        'FGC-FGC_GSND_Zone', 'FGC-FGC_GSD', 'FGC-FGC_GSD_Zone', 'FGC-FGC_PU', 'FGC-FGC_PU_Zone', \n",
    "        'FGC-FGC_SRL', 'FGC-FGC_SRL_Zone', 'FGC-FGC_SRR', 'FGC-FGC_SRR_Zone', 'FGC-FGC_TL', \n",
    "        'FGC-FGC_TL_Zone', 'BIA-BIA_Activity_Level_num', 'BIA-BIA_BMC', 'BIA-BIA_BMI', \n",
    "        'BIA-BIA_BMR', 'BIA-BIA_DEE', 'BIA-BIA_ECW', 'BIA-BIA_FFM', 'BIA-BIA_FFMI', \n",
    "        'BIA-BIA_FMI', 'BIA-BIA_Fat', 'BIA-BIA_Frame_num', 'BIA-BIA_ICW', 'BIA-BIA_LDM', \n",
    "        'BIA-BIA_LST', 'BIA-BIA_SMM', 'BIA-BIA_TBW', 'SDS-SDS_Total_Raw', 'SDS-SDS_Total_T', \n",
    "        'PreInt_EduHx-computerinternet_hoursday'\n",
    "    ]\n",
    "    imputer = KNNImputer(n_neighbors=10, add_indicator=True)\n",
    "    res = imputer.fit_transform(df[imputing_cols])\n",
    "    df = df.drop(imputing_cols)\n",
    "\n",
    "    imputed_df = pl.DataFrame(res, schema=list(imputer.get_feature_names_out()), orient=\"row\")\n",
    "    df = pl.concat([df, imputed_df], how=\"horizontal\")\n",
    "    missing_indicator_cols = [col for col in imputed_df.columns if col.startswith('missingindicator') and col not in ['missingindicator_Physical-Waist_Circumference', 'missingindicator_CGAS-CGAS_Score']]\n",
    "    df = df.drop(missing_indicator_cols)\n",
    "\n",
    "    return df\n",
    "    # if is_training:\n",
    "    #     imputer = KNNImputer(n_neighbors=10, add_indicator=True)\n",
    "    #     res = imputer.fit_transform(df)\n",
    "    #     df = pd.DataFrame(res, columns=imputer.get_feature_names_out())\n",
    "    \n",
    "    # else:\n",
    "    #     assert imputer is not None\n",
    "    #     df = pd.DataFrame(imputer.transform(df), columns=imputer.get_feature_names_out())\n",
    "    \n",
    "    # if is_training:\n",
    "    #     return df, imputer\n",
    "    # else:\n",
    "    #     return df, None"
   ]
  },
  {
   "cell_type": "code",
   "execution_count": 136,
   "metadata": {},
   "outputs": [],
   "source": [
    "X = feature_engineering(X)"
   ]
  },
  {
   "cell_type": "code",
   "execution_count": 137,
   "metadata": {},
   "outputs": [],
   "source": [
    "def quadratic_weighted_kappa(y_true, y_pred):\n",
    "    return cohen_kappa_score(y_true, y_pred, weights='quadratic')\n",
    "\n",
    "def roundoff(arr, thresholds=[0.5, 1.5, 2.5]):\n",
    "    return np.where(arr < thresholds[0], 0, \n",
    "                np.where(arr < thresholds[1], 1, \n",
    "                    np.where(arr < thresholds[2], 2, 3)))\n",
    "\n",
    "def evaluate(thresholds, y_true, y_pred):\n",
    "    score = quadratic_weighted_kappa(y_true, roundoff(y_pred, thresholds))\n",
    "    return -score"
   ]
  },
  {
   "cell_type": "code",
   "execution_count": 154,
   "metadata": {},
   "outputs": [
    {
     "name": "stdout",
     "output_type": "stream",
     "text": [
      "Fold: 0, Score: 0.305256, Accuracy: 0.383212\n",
      "----------------------------------------\n",
      "Fold: 1, Score: 0.324388, Accuracy: 0.351005\n",
      "----------------------------------------\n",
      "Fold: 2, Score: 0.352618, Accuracy: 0.367459\n",
      "----------------------------------------\n",
      "Fold: 3, Score: 0.333162, Accuracy: 0.371115\n",
      "----------------------------------------\n",
      "Fold: 4, Score: 0.277520, Accuracy: 0.382084\n",
      "----------------------------------------\n",
      "Mean score: 0.318588783066711\n",
      "OOF score: 0.3187647042731302\n",
      "Thresholds [0.79146906 1.47205755 2.53974656]\n",
      "Tuned OOF Score: 0.4545727565988984\n"
     ]
    }
   ],
   "source": [
    "skf = StratifiedKFold()\n",
    "\n",
    "best_params_lgbm = {\n",
    "    'n_estimators': 2000,\n",
    "    'learning_rate': 0.023742598951513243,\n",
    "    'num_leaves': 2580,\n",
    "    'max_depth': 11,\n",
    "    'min_data_in_leaf': 80,\n",
    "    'lambda_l1': 5,\n",
    "    'lambda_l2': 5,\n",
    "    'min_gain_to_split': 12.594654152003114,\n",
    "    'bagging_fraction': 0.9000000000000001,\n",
    "    'bagging_freq': 1,\n",
    "    'feature_fraction': 0.8,\n",
    "    'class_weight': 'balanced'\n",
    "}\n",
    "\n",
    "scores = []\n",
    "oof_raw = np.zeros(len(y), dtype=float) # oof predictions, before rounding\n",
    "oof = np.zeros(len(y), dtype=int) # oof predictions, rounded\n",
    "models = []\n",
    "for fold, (tridx, validx) in enumerate(skf.split(X, y)):\n",
    "    # model = XGBRegressor()\n",
    "    # model = CatBoostRegressor(silent=True, allow_writing_files=False)\n",
    "    model = lgb.LGBMRegressor(**best_params_lgbm, verbose=-1)\n",
    "    model.fit(X[tridx], y[tridx].to_numpy().ravel())\n",
    "    models.append(model)\n",
    "    \n",
    "    y_pred = model.predict(X[validx])\n",
    "    oof_raw[validx] = y_pred\n",
    "    y_pred = roundoff(y_pred, thresholds=[0.49120744, 1.35878992, 2.65786462])\n",
    "    oof[validx] = y_pred\n",
    "\n",
    "    score = quadratic_weighted_kappa(y[validx].to_numpy().ravel(), y_pred)\n",
    "    scores.append(score)\n",
    "\n",
    "    accuracy = accuracy_score(y[validx].to_numpy().ravel(), y_pred)\n",
    "    print(f\"Fold: {fold}, Score: {score:.6f}, Accuracy: {accuracy:.6f}\")\n",
    "    print(\"-\"*40)\n",
    "\n",
    "print(f\"Mean score: {np.mean(scores)}\")\n",
    "score = quadratic_weighted_kappa(y, oof)\n",
    "print(f\"OOF score: {score}\")\n",
    "\n",
    "thresholds = minimize(evaluate, [0.5, 1.5, 2.5], args=(y, oof_raw), method='Nelder-Mead').x\n",
    "print('Thresholds', thresholds)\n",
    "\n",
    "y_pred_tuned = roundoff(oof_raw, thresholds=thresholds)\n",
    "print(\"Tuned OOF Score:\", quadratic_weighted_kappa(y, y_pred_tuned))"
   ]
  },
  {
   "cell_type": "code",
   "execution_count": 139,
   "metadata": {},
   "outputs": [
    {
     "data": {
      "text/html": [
       "\n",
       "<style>\n",
       "  #altair-viz-2ce58c9584ad4b42a331b427afde6f8c.vega-embed {\n",
       "    width: 100%;\n",
       "    display: flex;\n",
       "  }\n",
       "\n",
       "  #altair-viz-2ce58c9584ad4b42a331b427afde6f8c.vega-embed details,\n",
       "  #altair-viz-2ce58c9584ad4b42a331b427afde6f8c.vega-embed details summary {\n",
       "    position: relative;\n",
       "  }\n",
       "</style>\n",
       "<div id=\"altair-viz-2ce58c9584ad4b42a331b427afde6f8c\"></div>\n",
       "<script type=\"text/javascript\">\n",
       "  var VEGA_DEBUG = (typeof VEGA_DEBUG == \"undefined\") ? {} : VEGA_DEBUG;\n",
       "  (function(spec, embedOpt){\n",
       "    let outputDiv = document.currentScript.previousElementSibling;\n",
       "    if (outputDiv.id !== \"altair-viz-2ce58c9584ad4b42a331b427afde6f8c\") {\n",
       "      outputDiv = document.getElementById(\"altair-viz-2ce58c9584ad4b42a331b427afde6f8c\");\n",
       "    }\n",
       "    const paths = {\n",
       "      \"vega\": \"https://cdn.jsdelivr.net/npm/vega@5?noext\",\n",
       "      \"vega-lib\": \"https://cdn.jsdelivr.net/npm/vega-lib?noext\",\n",
       "      \"vega-lite\": \"https://cdn.jsdelivr.net/npm/vega-lite@5.20.1?noext\",\n",
       "      \"vega-embed\": \"https://cdn.jsdelivr.net/npm/vega-embed@6?noext\",\n",
       "    };\n",
       "\n",
       "    function maybeLoadScript(lib, version) {\n",
       "      var key = `${lib.replace(\"-\", \"\")}_version`;\n",
       "      return (VEGA_DEBUG[key] == version) ?\n",
       "        Promise.resolve(paths[lib]) :\n",
       "        new Promise(function(resolve, reject) {\n",
       "          var s = document.createElement('script');\n",
       "          document.getElementsByTagName(\"head\")[0].appendChild(s);\n",
       "          s.async = true;\n",
       "          s.onload = () => {\n",
       "            VEGA_DEBUG[key] = version;\n",
       "            return resolve(paths[lib]);\n",
       "          };\n",
       "          s.onerror = () => reject(`Error loading script: ${paths[lib]}`);\n",
       "          s.src = paths[lib];\n",
       "        });\n",
       "    }\n",
       "\n",
       "    function showError(err) {\n",
       "      outputDiv.innerHTML = `<div class=\"error\" style=\"color:red;\">${err}</div>`;\n",
       "      throw err;\n",
       "    }\n",
       "\n",
       "    function displayChart(vegaEmbed) {\n",
       "      vegaEmbed(outputDiv, spec, embedOpt)\n",
       "        .catch(err => showError(`Javascript Error: ${err.message}<br>This usually means there's a typo in your chart specification. See the javascript console for the full traceback.`));\n",
       "    }\n",
       "\n",
       "    if(typeof define === \"function\" && define.amd) {\n",
       "      requirejs.config({paths});\n",
       "      require([\"vega-embed\"], displayChart, err => showError(`Error loading script: ${err.message}`));\n",
       "    } else {\n",
       "      maybeLoadScript(\"vega\", \"5\")\n",
       "        .then(() => maybeLoadScript(\"vega-lite\", \"5.20.1\"))\n",
       "        .then(() => maybeLoadScript(\"vega-embed\", \"6\"))\n",
       "        .catch(showError)\n",
       "        .then(() => displayChart(vegaEmbed));\n",
       "    }\n",
       "  })({\"config\": {\"view\": {\"continuousWidth\": 300, \"continuousHeight\": 300}}, \"data\": {\"name\": \"data-ef6c76c68b1bbd65668616adf919173e\"}, \"mark\": {\"type\": \"bar\"}, \"encoding\": {\"tooltip\": [{\"field\": \"label\", \"type\": \"nominal\"}, {\"field\": \"height\", \"type\": \"quantitative\"}], \"x\": {\"field\": \"label\", \"sort\": \"-y\", \"type\": \"nominal\"}, \"y\": {\"field\": \"height\", \"type\": \"quantitative\"}}, \"params\": [{\"name\": \"param_14\", \"select\": {\"type\": \"interval\", \"encodings\": [\"x\", \"y\"]}, \"bind\": \"scales\"}], \"title\": \"Bar Chart from Lists\", \"$schema\": \"https://vega.github.io/schema/vega-lite/v5.20.1.json\", \"datasets\": {\"data-ef6c76c68b1bbd65668616adf919173e\": [{\"label\": \"relative_start_date_PCIAT\", \"height\": 29.0}, {\"label\": \"total_days\", \"height\": 11.4}, {\"label\": \"rolling_std_anglez_abs_std\", \"height\": 27.6}, {\"label\": \"X_mean\", \"height\": 37.6}, {\"label\": \"X_std\", \"height\": 21.6}, {\"label\": \"Y_mean\", \"height\": 28.4}, {\"label\": \"Y_std\", \"height\": 32.8}, {\"label\": \"angleZ_mean\", \"height\": 32.0}, {\"label\": \"angleZ_std\", \"height\": 30.4}, {\"label\": \"daily_avg_enmo_min\", \"height\": 28.6}, {\"label\": \"daily_avg_enmo_mean\", \"height\": 26.0}, {\"label\": \"daily_avg_enmo_std\", \"height\": 25.6}, {\"label\": \"daily_avg_enmo_max\", \"height\": 23.8}, {\"label\": \"daily_avg_light_min\", \"height\": 27.2}, {\"label\": \"daily_avg_light_mean\", \"height\": 22.6}, {\"label\": \"daily_avg_light_std\", \"height\": 24.4}, {\"label\": \"daily_avg_light_max\", \"height\": 23.6}, {\"label\": \"first7_avg_enmo_min\", \"height\": 3.6}, {\"label\": \"first7_avg_enmo_mean\", \"height\": 1.4}, {\"label\": \"first7_avg_enmo_std\", \"height\": 3.6}, {\"label\": \"first7_avg_enmo_max\", \"height\": 2.4}, {\"label\": \"first7_avg_light_min\", \"height\": 6.8}, {\"label\": \"first7_avg_light_mean\", \"height\": 3.2}, {\"label\": \"first7_avg_light_std\", \"height\": 5.2}, {\"label\": \"first7_avg_light_max\", \"height\": 5.0}, {\"label\": \"PAQ_Total\", \"height\": 81.4}, {\"label\": \"Fitness_Endurance_Duration\", \"height\": 33.0}, {\"label\": \"Basic_Demos-Age\", \"height\": 50.6}, {\"label\": \"Basic_Demos-Sex\", \"height\": 21.8}, {\"label\": \"CGAS-CGAS_Score\", \"height\": 91.4}, {\"label\": \"Physical-BMI\", \"height\": 69.8}, {\"label\": \"Physical-Height\", \"height\": 65.6}, {\"label\": \"Physical-Weight\", \"height\": 42.6}, {\"label\": \"Physical-Waist_Circumference\", \"height\": 64.6}, {\"label\": \"Physical-Diastolic_BP\", \"height\": 68.2}, {\"label\": \"Physical-HeartRate\", \"height\": 94.4}, {\"label\": \"Physical-Systolic_BP\", \"height\": 95.8}, {\"label\": \"Fitness_Endurance-Max_Stage\", \"height\": 60.0}, {\"label\": \"FGC-FGC_CU\", \"height\": 85.8}, {\"label\": \"FGC-FGC_CU_Zone\", \"height\": 17.8}, {\"label\": \"FGC-FGC_GSND\", \"height\": 75.0}, {\"label\": \"FGC-FGC_GSND_Zone\", \"height\": 29.8}, {\"label\": \"FGC-FGC_GSD\", \"height\": 77.6}, {\"label\": \"FGC-FGC_GSD_Zone\", \"height\": 22.4}, {\"label\": \"FGC-FGC_PU\", \"height\": 69.4}, {\"label\": \"FGC-FGC_PU_Zone\", \"height\": 17.8}, {\"label\": \"FGC-FGC_SRL\", \"height\": 66.6}, {\"label\": \"FGC-FGC_SRL_Zone\", \"height\": 16.8}, {\"label\": \"FGC-FGC_SRR\", \"height\": 74.2}, {\"label\": \"FGC-FGC_SRR_Zone\", \"height\": 14.6}, {\"label\": \"FGC-FGC_TL\", \"height\": 69.2}, {\"label\": \"FGC-FGC_TL_Zone\", \"height\": 13.4}, {\"label\": \"BIA-BIA_Activity_Level_num\", \"height\": 40.4}, {\"label\": \"BIA-BIA_BMC\", \"height\": 95.8}, {\"label\": \"BIA-BIA_BMI\", \"height\": 54.0}, {\"label\": \"BIA-BIA_BMR\", \"height\": 28.0}, {\"label\": \"BIA-BIA_DEE\", \"height\": 70.6}, {\"label\": \"BIA-BIA_ECW\", \"height\": 48.4}, {\"label\": \"BIA-BIA_FFM\", \"height\": 1.2}, {\"label\": \"BIA-BIA_FFMI\", \"height\": 72.8}, {\"label\": \"BIA-BIA_FMI\", \"height\": 66.2}, {\"label\": \"BIA-BIA_Fat\", \"height\": 63.8}, {\"label\": \"BIA-BIA_Frame_num\", \"height\": 27.2}, {\"label\": \"BIA-BIA_ICW\", \"height\": 54.2}, {\"label\": \"BIA-BIA_LDM\", \"height\": 78.0}, {\"label\": \"BIA-BIA_LST\", \"height\": 24.6}, {\"label\": \"BIA-BIA_SMM\", \"height\": 65.0}, {\"label\": \"BIA-BIA_TBW\", \"height\": 28.4}, {\"label\": \"SDS-SDS_Total_Raw\", \"height\": 113.0}, {\"label\": \"SDS-SDS_Total_T\", \"height\": 16.6}, {\"label\": \"PreInt_EduHx-computerinternet_hoursday\", \"height\": 63.6}, {\"label\": \"missingindicator_CGAS-CGAS_Score\", \"height\": 4.6}, {\"label\": \"missingindicator_Physical-Waist_Circumference\", \"height\": 10.2}]}}, {\"mode\": \"vega-lite\"});\n",
       "</script>"
      ],
      "text/plain": [
       "alt.Chart(...)"
      ]
     },
     "metadata": {},
     "output_type": "display_data"
    }
   ],
   "source": [
    "feature_importance = np.mean([model.feature_importances_ for model in models], axis=0)\n",
    "cols = list(X.columns)\n",
    "\n",
    "chart = alt.Chart(pl.DataFrame([{'label': label, 'height': height} for label, height in zip(cols, feature_importance)])).mark_bar().encode(\n",
    "    x=alt.X('label:N', sort='-y'),\n",
    "    y=alt.Y('height:Q'),\n",
    "    tooltip=['label', 'height']\n",
    ").properties(\n",
    "    title='Bar Chart from Lists'\n",
    ").interactive()\n",
    "\n",
    "chart.display()"
   ]
  },
  {
   "cell_type": "code",
   "execution_count": 151,
   "metadata": {},
   "outputs": [
    {
     "name": "stderr",
     "output_type": "stream",
     "text": [
      "[I 2024-10-04 19:37:09,235] A new study created in memory with name: LGBM Regressor\n",
      "[I 2024-10-04 19:37:10,385] Trial 0 finished with value: 0.18647355385811504 and parameters: {'n_estimators': 1000, 'learning_rate': 0.1423592124857139, 'num_leaves': 440, 'max_depth': 6, 'min_data_in_leaf': 10, 'lambda_l1': 100, 'lambda_l2': 80, 'min_gain_to_split': 13.691596678808954, 'bagging_fraction': 0.8, 'bagging_freq': 1, 'feature_fraction': 0.4}. Best is trial 0 with value: 0.18647355385811504.\n",
      "[I 2024-10-04 19:37:12,552] Trial 1 finished with value: 0.36846270526940583 and parameters: {'n_estimators': 2000, 'learning_rate': 0.06111367779125572, 'num_leaves': 480, 'max_depth': 4, 'min_data_in_leaf': 270, 'lambda_l1': 65, 'lambda_l2': 15, 'min_gain_to_split': 7.460375169320944, 'bagging_fraction': 0.30000000000000004, 'bagging_freq': 1, 'feature_fraction': 0.7}. Best is trial 1 with value: 0.36846270526940583.\n",
      "[I 2024-10-04 19:37:13,317] Trial 2 finished with value: 0.19462737245695771 and parameters: {'n_estimators': 500, 'learning_rate': 0.2579033541461294, 'num_leaves': 2640, 'max_depth': 5, 'min_data_in_leaf': 50, 'lambda_l1': 95, 'lambda_l2': 25, 'min_gain_to_split': 4.003892004515174, 'bagging_fraction': 1.0, 'bagging_freq': 1, 'feature_fraction': 0.6000000000000001}. Best is trial 1 with value: 0.36846270526940583.\n",
      "[I 2024-10-04 19:37:14,747] Trial 3 finished with value: 0.4246742289303459 and parameters: {'n_estimators': 1000, 'learning_rate': 0.0638156901608083, 'num_leaves': 2040, 'max_depth': 7, 'min_data_in_leaf': 260, 'lambda_l1': 65, 'lambda_l2': 90, 'min_gain_to_split': 2.5329891109968, 'bagging_fraction': 0.9000000000000001, 'bagging_freq': 1, 'feature_fraction': 0.4}. Best is trial 3 with value: 0.4246742289303459.\n",
      "[I 2024-10-04 19:37:15,567] Trial 4 finished with value: 0.4203556347131654 and parameters: {'n_estimators': 500, 'learning_rate': 0.12694857943019583, 'num_leaves': 1120, 'max_depth': 4, 'min_data_in_leaf': 120, 'lambda_l1': 15, 'lambda_l2': 40, 'min_gain_to_split': 10.889404201308736, 'bagging_fraction': 0.7, 'bagging_freq': 1, 'feature_fraction': 0.5}. Best is trial 3 with value: 0.4246742289303459.\n",
      "[I 2024-10-04 19:37:16,843] Trial 5 finished with value: 0.44047876547189646 and parameters: {'n_estimators': 1000, 'learning_rate': 0.28341810148730795, 'num_leaves': 1280, 'max_depth': 8, 'min_data_in_leaf': 110, 'lambda_l1': 65, 'lambda_l2': 25, 'min_gain_to_split': 0.8889140475938062, 'bagging_fraction': 0.8, 'bagging_freq': 1, 'feature_fraction': 0.30000000000000004}. Best is trial 5 with value: 0.44047876547189646.\n",
      "[I 2024-10-04 19:37:17,310] Trial 6 finished with value: 0.38114387180574194 and parameters: {'n_estimators': 100, 'learning_rate': 0.04133607529134977, 'num_leaves': 2400, 'max_depth': 3, 'min_data_in_leaf': 50, 'lambda_l1': 25, 'lambda_l2': 65, 'min_gain_to_split': 3.050277165970402, 'bagging_fraction': 0.30000000000000004, 'bagging_freq': 1, 'feature_fraction': 0.30000000000000004}. Best is trial 5 with value: 0.44047876547189646.\n",
      "[I 2024-10-04 19:37:18,741] Trial 7 finished with value: 0.3914963782594695 and parameters: {'n_estimators': 1000, 'learning_rate': 0.04405155525477299, 'num_leaves': 1740, 'max_depth': 10, 'min_data_in_leaf': 280, 'lambda_l1': 30, 'lambda_l2': 85, 'min_gain_to_split': 8.681224327126774, 'bagging_fraction': 0.4, 'bagging_freq': 1, 'feature_fraction': 0.7}. Best is trial 5 with value: 0.44047876547189646.\n",
      "[I 2024-10-04 19:37:19,527] Trial 8 finished with value: 0.399811189794429 and parameters: {'n_estimators': 500, 'learning_rate': 0.02001653598551055, 'num_leaves': 660, 'max_depth': 4, 'min_data_in_leaf': 140, 'lambda_l1': 25, 'lambda_l2': 35, 'min_gain_to_split': 11.710483549147074, 'bagging_fraction': 1.0, 'bagging_freq': 1, 'feature_fraction': 0.2}. Best is trial 5 with value: 0.44047876547189646.\n",
      "[I 2024-10-04 19:37:22,189] Trial 9 finished with value: 0.20017537909740357 and parameters: {'n_estimators': 2000, 'learning_rate': 0.09002752215147013, 'num_leaves': 2840, 'max_depth': 7, 'min_data_in_leaf': 80, 'lambda_l1': 100, 'lambda_l2': 80, 'min_gain_to_split': 7.606461483578746, 'bagging_fraction': 0.9000000000000001, 'bagging_freq': 1, 'feature_fraction': 1.0}. Best is trial 5 with value: 0.44047876547189646.\n",
      "[I 2024-10-04 19:37:22,619] Trial 10 finished with value: 0.4174541316927409 and parameters: {'n_estimators': 100, 'learning_rate': 0.2950561482100885, 'num_leaves': 1300, 'max_depth': 10, 'min_data_in_leaf': 200, 'lambda_l1': 50, 'lambda_l2': 0, 'min_gain_to_split': 0.18665616783437355, 'bagging_fraction': 0.5, 'bagging_freq': 1, 'feature_fraction': 1.0}. Best is trial 5 with value: 0.44047876547189646.\n",
      "[I 2024-10-04 19:37:23,926] Trial 11 finished with value: 0.43616212152519795 and parameters: {'n_estimators': 1000, 'learning_rate': 0.2180795302783295, 'num_leaves': 1940, 'max_depth': 8, 'min_data_in_leaf': 210, 'lambda_l1': 70, 'lambda_l2': 55, 'min_gain_to_split': 0.6882215464477088, 'bagging_fraction': 0.7, 'bagging_freq': 1, 'feature_fraction': 0.2}. Best is trial 5 with value: 0.44047876547189646.\n",
      "[I 2024-10-04 19:37:25,273] Trial 12 finished with value: 0.40802388884982554 and parameters: {'n_estimators': 1000, 'learning_rate': 0.21302797473078144, 'num_leaves': 1900, 'max_depth': 12, 'min_data_in_leaf': 190, 'lambda_l1': 75, 'lambda_l2': 55, 'min_gain_to_split': 0.3359107066721414, 'bagging_fraction': 0.6000000000000001, 'bagging_freq': 1, 'feature_fraction': 0.2}. Best is trial 5 with value: 0.44047876547189646.\n",
      "[I 2024-10-04 19:37:26,431] Trial 13 finished with value: 0.4112394358215695 and parameters: {'n_estimators': 1000, 'learning_rate': 0.20684779096264044, 'num_leaves': 1060, 'max_depth': 9, 'min_data_in_leaf': 200, 'lambda_l1': 50, 'lambda_l2': 55, 'min_gain_to_split': 5.735998875419726, 'bagging_fraction': 0.7, 'bagging_freq': 1, 'feature_fraction': 0.2}. Best is trial 5 with value: 0.44047876547189646.\n",
      "[I 2024-10-04 19:37:27,594] Trial 14 finished with value: 0.42028721520095425 and parameters: {'n_estimators': 1000, 'learning_rate': 0.21237469815607607, 'num_leaves': 80, 'max_depth': 9, 'min_data_in_leaf': 170, 'lambda_l1': 80, 'lambda_l2': 15, 'min_gain_to_split': 1.3565522950094122, 'bagging_fraction': 0.6000000000000001, 'bagging_freq': 1, 'feature_fraction': 0.4}. Best is trial 5 with value: 0.44047876547189646.\n",
      "[I 2024-10-04 19:37:28,840] Trial 15 finished with value: 0.38844937917131206 and parameters: {'n_estimators': 1000, 'learning_rate': 0.26191012286051985, 'num_leaves': 1560, 'max_depth': 8, 'min_data_in_leaf': 230, 'lambda_l1': 40, 'lambda_l2': 40, 'min_gain_to_split': 4.908863166053021, 'bagging_fraction': 0.8, 'bagging_freq': 1, 'feature_fraction': 0.30000000000000004}. Best is trial 5 with value: 0.44047876547189646.\n",
      "[I 2024-10-04 19:37:30,486] Trial 16 finished with value: 0.4342690463813319 and parameters: {'n_estimators': 1000, 'learning_rate': 0.17271653073754414, 'num_leaves': 2240, 'max_depth': 11, 'min_data_in_leaf': 110, 'lambda_l1': 0, 'lambda_l2': 65, 'min_gain_to_split': 2.0568526165108474, 'bagging_fraction': 0.7, 'bagging_freq': 1, 'feature_fraction': 0.30000000000000004}. Best is trial 5 with value: 0.44047876547189646.\n",
      "[I 2024-10-04 19:37:30,822] Trial 17 finished with value: 0.33815532123110725 and parameters: {'n_estimators': 100, 'learning_rate': 0.294859561790133, 'num_leaves': 900, 'max_depth': 8, 'min_data_in_leaf': 150, 'lambda_l1': 80, 'lambda_l2': 100, 'min_gain_to_split': 6.073364028768873, 'bagging_fraction': 0.5, 'bagging_freq': 1, 'feature_fraction': 0.8}. Best is trial 5 with value: 0.44047876547189646.\n",
      "[I 2024-10-04 19:37:33,205] Trial 18 finished with value: 0.4304906496485329 and parameters: {'n_estimators': 2000, 'learning_rate': 0.2554745333690052, 'num_leaves': 1300, 'max_depth': 9, 'min_data_in_leaf': 220, 'lambda_l1': 65, 'lambda_l2': 25, 'min_gain_to_split': 3.348639813176396, 'bagging_fraction': 0.8, 'bagging_freq': 1, 'feature_fraction': 0.5}. Best is trial 5 with value: 0.44047876547189646.\n",
      "[I 2024-10-04 19:37:34,504] Trial 19 finished with value: 0.4035825827241222 and parameters: {'n_estimators': 1000, 'learning_rate': 0.17957608632220695, 'num_leaves': 1680, 'max_depth': 6, 'min_data_in_leaf': 90, 'lambda_l1': 55, 'lambda_l2': 0, 'min_gain_to_split': 1.2373643281863522, 'bagging_fraction': 0.2, 'bagging_freq': 1, 'feature_fraction': 0.2}. Best is trial 5 with value: 0.44047876547189646.\n",
      "[I 2024-10-04 19:37:35,969] Trial 20 finished with value: 0.41808458920758385 and parameters: {'n_estimators': 1000, 'learning_rate': 0.24208849160724877, 'num_leaves': 2180, 'max_depth': 6, 'min_data_in_leaf': 300, 'lambda_l1': 90, 'lambda_l2': 65, 'min_gain_to_split': 0.05952541412059764, 'bagging_fraction': 0.9000000000000001, 'bagging_freq': 1, 'feature_fraction': 0.5}. Best is trial 5 with value: 0.44047876547189646.\n",
      "[I 2024-10-04 19:37:37,579] Trial 21 finished with value: 0.4367703933732665 and parameters: {'n_estimators': 1000, 'learning_rate': 0.17970834244110964, 'num_leaves': 2320, 'max_depth': 11, 'min_data_in_leaf': 120, 'lambda_l1': 5, 'lambda_l2': 70, 'min_gain_to_split': 1.9891561264899973, 'bagging_fraction': 0.7, 'bagging_freq': 1, 'feature_fraction': 0.30000000000000004}. Best is trial 5 with value: 0.44047876547189646.\n",
      "[I 2024-10-04 19:37:38,933] Trial 22 finished with value: 0.41895455040835106 and parameters: {'n_estimators': 1000, 'learning_rate': 0.18460557210029177, 'num_leaves': 2480, 'max_depth': 12, 'min_data_in_leaf': 170, 'lambda_l1': 40, 'lambda_l2': 50, 'min_gain_to_split': 4.059997910443822, 'bagging_fraction': 0.7, 'bagging_freq': 1, 'feature_fraction': 0.30000000000000004}. Best is trial 5 with value: 0.44047876547189646.\n",
      "[I 2024-10-04 19:37:41,278] Trial 23 finished with value: 0.4269174406391484 and parameters: {'n_estimators': 1000, 'learning_rate': 0.11855828587994668, 'num_leaves': 2960, 'max_depth': 10, 'min_data_in_leaf': 120, 'lambda_l1': 5, 'lambda_l2': 70, 'min_gain_to_split': 1.7104070657691872, 'bagging_fraction': 0.5, 'bagging_freq': 1, 'feature_fraction': 0.4}. Best is trial 5 with value: 0.44047876547189646.\n",
      "[I 2024-10-04 19:37:42,695] Trial 24 finished with value: 0.4232309386709444 and parameters: {'n_estimators': 1000, 'learning_rate': 0.22972396756699684, 'num_leaves': 1860, 'max_depth': 11, 'min_data_in_leaf': 70, 'lambda_l1': 60, 'lambda_l2': 45, 'min_gain_to_split': 1.1569601602985196, 'bagging_fraction': 0.8, 'bagging_freq': 1, 'feature_fraction': 0.30000000000000004}. Best is trial 5 with value: 0.44047876547189646.\n",
      "[I 2024-10-04 19:37:43,887] Trial 25 finished with value: 0.4088971761291794 and parameters: {'n_estimators': 1000, 'learning_rate': 0.27672533060732274, 'num_leaves': 1380, 'max_depth': 8, 'min_data_in_leaf': 240, 'lambda_l1': 75, 'lambda_l2': 30, 'min_gain_to_split': 2.5301290863223516, 'bagging_fraction': 0.6000000000000001, 'bagging_freq': 1, 'feature_fraction': 0.2}. Best is trial 5 with value: 0.44047876547189646.\n",
      "[I 2024-10-04 19:37:46,523] Trial 26 finished with value: 0.44222300779097556 and parameters: {'n_estimators': 2000, 'learning_rate': 0.15531788131850266, 'num_leaves': 2080, 'max_depth': 9, 'min_data_in_leaf': 140, 'lambda_l1': 40, 'lambda_l2': 55, 'min_gain_to_split': 4.616944332126634, 'bagging_fraction': 0.7, 'bagging_freq': 1, 'feature_fraction': 0.6000000000000001}. Best is trial 26 with value: 0.44222300779097556.\n",
      "[I 2024-10-04 19:37:49,285] Trial 27 finished with value: 0.44614135177244096 and parameters: {'n_estimators': 2000, 'learning_rate': 0.10246238013425685, 'num_leaves': 2240, 'max_depth': 11, 'min_data_in_leaf': 140, 'lambda_l1': 10, 'lambda_l2': 15, 'min_gain_to_split': 5.067605558165866, 'bagging_fraction': 0.9000000000000001, 'bagging_freq': 1, 'feature_fraction': 0.6000000000000001}. Best is trial 27 with value: 0.44614135177244096.\n",
      "[I 2024-10-04 19:37:52,036] Trial 28 finished with value: 0.41734834909224394 and parameters: {'n_estimators': 2000, 'learning_rate': 0.09963948559751235, 'num_leaves': 2540, 'max_depth': 9, 'min_data_in_leaf': 170, 'lambda_l1': 40, 'lambda_l2': 10, 'min_gain_to_split': 6.445898149743235, 'bagging_fraction': 0.9000000000000001, 'bagging_freq': 1, 'feature_fraction': 0.8}. Best is trial 27 with value: 0.44614135177244096.\n",
      "[I 2024-10-04 19:37:54,562] Trial 29 finished with value: 0.4424116134349816 and parameters: {'n_estimators': 2000, 'learning_rate': 0.13934111196958787, 'num_leaves': 1540, 'max_depth': 10, 'min_data_in_leaf': 20, 'lambda_l1': 15, 'lambda_l2': 10, 'min_gain_to_split': 14.969717844065535, 'bagging_fraction': 0.8, 'bagging_freq': 1, 'feature_fraction': 0.6000000000000001}. Best is trial 27 with value: 0.44614135177244096.\n",
      "[I 2024-10-04 19:37:56,918] Trial 30 finished with value: 0.4308151369796497 and parameters: {'n_estimators': 2000, 'learning_rate': 0.14251112845231487, 'num_leaves': 2120, 'max_depth': 10, 'min_data_in_leaf': 10, 'lambda_l1': 15, 'lambda_l2': 5, 'min_gain_to_split': 13.373241261393584, 'bagging_fraction': 1.0, 'bagging_freq': 1, 'feature_fraction': 0.6000000000000001}. Best is trial 27 with value: 0.44614135177244096.\n",
      "[I 2024-10-04 19:37:59,381] Trial 31 finished with value: 0.44186543710492376 and parameters: {'n_estimators': 2000, 'learning_rate': 0.15617452464336426, 'num_leaves': 1540, 'max_depth': 11, 'min_data_in_leaf': 30, 'lambda_l1': 15, 'lambda_l2': 20, 'min_gain_to_split': 14.967766807084189, 'bagging_fraction': 0.8, 'bagging_freq': 1, 'feature_fraction': 0.7}. Best is trial 27 with value: 0.44614135177244096.\n",
      "[I 2024-10-04 19:38:01,794] Trial 32 finished with value: 0.4306914747910163 and parameters: {'n_estimators': 2000, 'learning_rate': 0.15611311378911, 'num_leaves': 1500, 'max_depth': 11, 'min_data_in_leaf': 10, 'lambda_l1': 15, 'lambda_l2': 15, 'min_gain_to_split': 14.928839965805409, 'bagging_fraction': 0.9000000000000001, 'bagging_freq': 1, 'feature_fraction': 0.7}. Best is trial 27 with value: 0.44614135177244096.\n",
      "[I 2024-10-04 19:38:04,297] Trial 33 finished with value: 0.44909098557776583 and parameters: {'n_estimators': 2000, 'learning_rate': 0.10876632677214992, 'num_leaves': 1720, 'max_depth': 12, 'min_data_in_leaf': 30, 'lambda_l1': 10, 'lambda_l2': 20, 'min_gain_to_split': 14.429494331484257, 'bagging_fraction': 0.8, 'bagging_freq': 1, 'feature_fraction': 0.7}. Best is trial 33 with value: 0.44909098557776583.\n",
      "[I 2024-10-04 19:38:06,822] Trial 34 finished with value: 0.4039669265889515 and parameters: {'n_estimators': 2000, 'learning_rate': 0.0960743204103947, 'num_leaves': 1780, 'max_depth': 12, 'min_data_in_leaf': 40, 'lambda_l1': 30, 'lambda_l2': 10, 'min_gain_to_split': 13.154552269137426, 'bagging_fraction': 0.8, 'bagging_freq': 1, 'feature_fraction': 0.6000000000000001}. Best is trial 33 with value: 0.44909098557776583.\n",
      "[I 2024-10-04 19:38:09,093] Trial 35 finished with value: 0.4482296039034368 and parameters: {'n_estimators': 2000, 'learning_rate': 0.11962732083529819, 'num_leaves': 2040, 'max_depth': 12, 'min_data_in_leaf': 60, 'lambda_l1': 5, 'lambda_l2': 30, 'min_gain_to_split': 9.235154945120122, 'bagging_fraction': 1.0, 'bagging_freq': 1, 'feature_fraction': 0.8}. Best is trial 33 with value: 0.44909098557776583.\n",
      "[I 2024-10-04 19:38:11,444] Trial 36 finished with value: 0.45021834330095645 and parameters: {'n_estimators': 2000, 'learning_rate': 0.07606480782423322, 'num_leaves': 2680, 'max_depth': 12, 'min_data_in_leaf': 60, 'lambda_l1': 0, 'lambda_l2': 20, 'min_gain_to_split': 10.116504023420923, 'bagging_fraction': 1.0, 'bagging_freq': 1, 'feature_fraction': 0.8}. Best is trial 36 with value: 0.45021834330095645.\n",
      "[I 2024-10-04 19:38:13,846] Trial 37 finished with value: 0.4468760596530654 and parameters: {'n_estimators': 2000, 'learning_rate': 0.07307932809863833, 'num_leaves': 2560, 'max_depth': 12, 'min_data_in_leaf': 60, 'lambda_l1': 0, 'lambda_l2': 30, 'min_gain_to_split': 9.027955968250648, 'bagging_fraction': 1.0, 'bagging_freq': 1, 'feature_fraction': 0.9000000000000001}. Best is trial 36 with value: 0.45021834330095645.\n",
      "[I 2024-10-04 19:38:16,262] Trial 38 finished with value: 0.452747436088648 and parameters: {'n_estimators': 2000, 'learning_rate': 0.07413780326327693, 'num_leaves': 2760, 'max_depth': 12, 'min_data_in_leaf': 60, 'lambda_l1': 0, 'lambda_l2': 30, 'min_gain_to_split': 9.75256428473871, 'bagging_fraction': 1.0, 'bagging_freq': 1, 'feature_fraction': 0.9000000000000001}. Best is trial 38 with value: 0.452747436088648.\n",
      "[I 2024-10-04 19:38:17,175] Trial 39 finished with value: 0.4411084961789671 and parameters: {'n_estimators': 500, 'learning_rate': 0.07400566400422694, 'num_leaves': 2820, 'max_depth': 12, 'min_data_in_leaf': 50, 'lambda_l1': 5, 'lambda_l2': 30, 'min_gain_to_split': 10.468401091657727, 'bagging_fraction': 1.0, 'bagging_freq': 1, 'feature_fraction': 0.9000000000000001}. Best is trial 38 with value: 0.452747436088648.\n",
      "[I 2024-10-04 19:38:19,518] Trial 40 finished with value: 0.4336605898427439 and parameters: {'n_estimators': 2000, 'learning_rate': 0.04588273322306037, 'num_leaves': 2880, 'max_depth': 12, 'min_data_in_leaf': 90, 'lambda_l1': 25, 'lambda_l2': 20, 'min_gain_to_split': 9.838051198073952, 'bagging_fraction': 1.0, 'bagging_freq': 1, 'feature_fraction': 0.8}. Best is trial 38 with value: 0.452747436088648.\n",
      "[I 2024-10-04 19:38:21,911] Trial 41 finished with value: 0.44814919045295665 and parameters: {'n_estimators': 2000, 'learning_rate': 0.07213989303822821, 'num_leaves': 2700, 'max_depth': 12, 'min_data_in_leaf': 60, 'lambda_l1': 0, 'lambda_l2': 35, 'min_gain_to_split': 8.952883548782221, 'bagging_fraction': 1.0, 'bagging_freq': 1, 'feature_fraction': 0.9000000000000001}. Best is trial 38 with value: 0.452747436088648.\n",
      "[I 2024-10-04 19:38:24,330] Trial 42 finished with value: 0.44097087700773774 and parameters: {'n_estimators': 2000, 'learning_rate': 0.05873594037321013, 'num_leaves': 2680, 'max_depth': 12, 'min_data_in_leaf': 70, 'lambda_l1': 0, 'lambda_l2': 35, 'min_gain_to_split': 12.146712162243496, 'bagging_fraction': 1.0, 'bagging_freq': 1, 'feature_fraction': 0.9000000000000001}. Best is trial 38 with value: 0.452747436088648.\n",
      "[I 2024-10-04 19:38:27,265] Trial 43 finished with value: 0.446059010467848 and parameters: {'n_estimators': 2000, 'learning_rate': 0.012515770466774628, 'num_leaves': 2680, 'max_depth': 11, 'min_data_in_leaf': 30, 'lambda_l1': 10, 'lambda_l2': 25, 'min_gain_to_split': 8.330424960285857, 'bagging_fraction': 1.0, 'bagging_freq': 1, 'feature_fraction': 0.8}. Best is trial 38 with value: 0.452747436088648.\n",
      "[I 2024-10-04 19:38:29,913] Trial 44 finished with value: 0.4444008739006218 and parameters: {'n_estimators': 2000, 'learning_rate': 0.08286974813292794, 'num_leaves': 2380, 'max_depth': 12, 'min_data_in_leaf': 40, 'lambda_l1': 10, 'lambda_l2': 40, 'min_gain_to_split': 9.646896698336102, 'bagging_fraction': 0.9000000000000001, 'bagging_freq': 1, 'feature_fraction': 0.9000000000000001}. Best is trial 38 with value: 0.452747436088648.\n",
      "[I 2024-10-04 19:38:30,837] Trial 45 finished with value: 0.4397234021336448 and parameters: {'n_estimators': 500, 'learning_rate': 0.11526737196573433, 'num_leaves': 2680, 'max_depth': 12, 'min_data_in_leaf': 100, 'lambda_l1': 20, 'lambda_l2': 35, 'min_gain_to_split': 7.221101209183242, 'bagging_fraction': 0.9000000000000001, 'bagging_freq': 1, 'feature_fraction': 1.0}. Best is trial 38 with value: 0.452747436088648.\n",
      "[I 2024-10-04 19:38:33,272] Trial 46 finished with value: 0.44056999015756604 and parameters: {'n_estimators': 2000, 'learning_rate': 0.03752305461646845, 'num_leaves': 2780, 'max_depth': 11, 'min_data_in_leaf': 60, 'lambda_l1': 0, 'lambda_l2': 20, 'min_gain_to_split': 11.36269300100286, 'bagging_fraction': 1.0, 'bagging_freq': 1, 'feature_fraction': 0.8}. Best is trial 38 with value: 0.452747436088648.\n",
      "[I 2024-10-04 19:38:35,668] Trial 47 finished with value: 0.44128371296556 and parameters: {'n_estimators': 2000, 'learning_rate': 0.0606233170726371, 'num_leaves': 2980, 'max_depth': 3, 'min_data_in_leaf': 80, 'lambda_l1': 5, 'lambda_l2': 35, 'min_gain_to_split': 8.091153516055863, 'bagging_fraction': 1.0, 'bagging_freq': 1, 'feature_fraction': 0.7}. Best is trial 38 with value: 0.452747436088648.\n",
      "[I 2024-10-04 19:38:36,092] Trial 48 finished with value: 0.43655854391870386 and parameters: {'n_estimators': 100, 'learning_rate': 0.10971774120902644, 'num_leaves': 2420, 'max_depth': 12, 'min_data_in_leaf': 50, 'lambda_l1': 20, 'lambda_l2': 25, 'min_gain_to_split': 12.126163828268034, 'bagging_fraction': 0.9000000000000001, 'bagging_freq': 1, 'feature_fraction': 0.9000000000000001}. Best is trial 38 with value: 0.452747436088648.\n",
      "[I 2024-10-04 19:38:38,416] Trial 49 finished with value: 0.4462801198647903 and parameters: {'n_estimators': 2000, 'learning_rate': 0.12955553218855323, 'num_leaves': 2000, 'max_depth': 10, 'min_data_in_leaf': 30, 'lambda_l1': 10, 'lambda_l2': 45, 'min_gain_to_split': 10.613270772224542, 'bagging_fraction': 1.0, 'bagging_freq': 1, 'feature_fraction': 1.0}. Best is trial 38 with value: 0.452747436088648.\n",
      "[I 2024-10-04 19:38:41,202] Trial 50 finished with value: 0.450062635903151 and parameters: {'n_estimators': 2000, 'learning_rate': 0.03098398010148351, 'num_leaves': 2600, 'max_depth': 11, 'min_data_in_leaf': 70, 'lambda_l1': 0, 'lambda_l2': 30, 'min_gain_to_split': 9.072811858644066, 'bagging_fraction': 0.9000000000000001, 'bagging_freq': 1, 'feature_fraction': 0.8}. Best is trial 38 with value: 0.452747436088648.\n",
      "[I 2024-10-04 19:38:43,510] Trial 51 finished with value: 0.4441046759992009 and parameters: {'n_estimators': 2000, 'learning_rate': 0.08549655651871577, 'num_leaves': 2540, 'max_depth': 12, 'min_data_in_leaf': 70, 'lambda_l1': 0, 'lambda_l2': 30, 'min_gain_to_split': 9.357998417219903, 'bagging_fraction': 1.0, 'bagging_freq': 1, 'feature_fraction': 0.8}. Best is trial 38 with value: 0.452747436088648.\n",
      "[I 2024-10-04 19:38:46,289] Trial 52 finished with value: 0.45339137422765863 and parameters: {'n_estimators': 2000, 'learning_rate': 0.029673725352218877, 'num_leaves': 2700, 'max_depth': 11, 'min_data_in_leaf': 60, 'lambda_l1': 5, 'lambda_l2': 20, 'min_gain_to_split': 10.117077819167243, 'bagging_fraction': 0.9000000000000001, 'bagging_freq': 1, 'feature_fraction': 0.7}. Best is trial 52 with value: 0.45339137422765863.\n",
      "[I 2024-10-04 19:38:49,018] Trial 53 finished with value: 0.4506056239615128 and parameters: {'n_estimators': 2000, 'learning_rate': 0.03778311422543602, 'num_leaves': 2320, 'max_depth': 11, 'min_data_in_leaf': 90, 'lambda_l1': 5, 'lambda_l2': 20, 'min_gain_to_split': 9.92439702922853, 'bagging_fraction': 0.9000000000000001, 'bagging_freq': 1, 'feature_fraction': 0.7}. Best is trial 52 with value: 0.45339137422765863.\n",
      "[I 2024-10-04 19:38:49,539] Trial 54 finished with value: 0.43490076640827413 and parameters: {'n_estimators': 100, 'learning_rate': 0.03618148174982492, 'num_leaves': 2320, 'max_depth': 11, 'min_data_in_leaf': 90, 'lambda_l1': 20, 'lambda_l2': 5, 'min_gain_to_split': 11.256884175620439, 'bagging_fraction': 0.9000000000000001, 'bagging_freq': 1, 'feature_fraction': 0.7}. Best is trial 52 with value: 0.45339137422765863.\n",
      "[I 2024-10-04 19:38:52,534] Trial 55 finished with value: 0.43213831003280556 and parameters: {'n_estimators': 2000, 'learning_rate': 0.023935305600547033, 'num_leaves': 2820, 'max_depth': 5, 'min_data_in_leaf': 40, 'lambda_l1': 10, 'lambda_l2': 20, 'min_gain_to_split': 9.990061691149426, 'bagging_fraction': 0.9000000000000001, 'bagging_freq': 1, 'feature_fraction': 0.7}. Best is trial 52 with value: 0.45339137422765863.\n",
      "[I 2024-10-04 19:38:53,558] Trial 56 finished with value: 0.4344219689149518 and parameters: {'n_estimators': 500, 'learning_rate': 0.05054970995110425, 'num_leaves': 2920, 'max_depth': 10, 'min_data_in_leaf': 100, 'lambda_l1': 30, 'lambda_l2': 25, 'min_gain_to_split': 7.127937958485264, 'bagging_fraction': 0.8, 'bagging_freq': 1, 'feature_fraction': 0.7}. Best is trial 52 with value: 0.45339137422765863.\n",
      "[I 2024-10-04 19:38:56,548] Trial 57 finished with value: 0.4528976760790847 and parameters: {'n_estimators': 2000, 'learning_rate': 0.02236022724191636, 'num_leaves': 2600, 'max_depth': 11, 'min_data_in_leaf': 80, 'lambda_l1': 5, 'lambda_l2': 15, 'min_gain_to_split': 12.409639279975275, 'bagging_fraction': 0.9000000000000001, 'bagging_freq': 1, 'feature_fraction': 0.8}. Best is trial 52 with value: 0.45339137422765863.\n",
      "[I 2024-10-04 19:38:59,416] Trial 58 finished with value: 0.4545727565988984 and parameters: {'n_estimators': 2000, 'learning_rate': 0.023742598951513243, 'num_leaves': 2580, 'max_depth': 11, 'min_data_in_leaf': 80, 'lambda_l1': 5, 'lambda_l2': 5, 'min_gain_to_split': 12.594654152003114, 'bagging_fraction': 0.9000000000000001, 'bagging_freq': 1, 'feature_fraction': 0.8}. Best is trial 58 with value: 0.4545727565988984.\n",
      "[I 2024-10-04 19:39:02,883] Trial 59 finished with value: 0.43810357066213246 and parameters: {'n_estimators': 2000, 'learning_rate': 0.010672435542777275, 'num_leaves': 2460, 'max_depth': 10, 'min_data_in_leaf': 120, 'lambda_l1': 5, 'lambda_l2': 5, 'min_gain_to_split': 12.40458330372787, 'bagging_fraction': 0.30000000000000004, 'bagging_freq': 1, 'feature_fraction': 0.8}. Best is trial 58 with value: 0.4545727565988984.\n",
      "[I 2024-10-04 19:39:03,546] Trial 60 finished with value: 0.4374272740725741 and parameters: {'n_estimators': 100, 'learning_rate': 0.02759907823570991, 'num_leaves': 2780, 'max_depth': 11, 'min_data_in_leaf': 80, 'lambda_l1': 5, 'lambda_l2': 0, 'min_gain_to_split': 10.285558236304805, 'bagging_fraction': 0.9000000000000001, 'bagging_freq': 1, 'feature_fraction': 0.9000000000000001}. Best is trial 58 with value: 0.4545727565988984.\n",
      "[I 2024-10-04 19:39:06,408] Trial 61 finished with value: 0.4483039303776123 and parameters: {'n_estimators': 2000, 'learning_rate': 0.029885686384221143, 'num_leaves': 2580, 'max_depth': 11, 'min_data_in_leaf': 100, 'lambda_l1': 0, 'lambda_l2': 10, 'min_gain_to_split': 12.816324458863756, 'bagging_fraction': 0.9000000000000001, 'bagging_freq': 1, 'feature_fraction': 0.8}. Best is trial 58 with value: 0.4545727565988984.\n",
      "[I 2024-10-04 19:39:09,445] Trial 62 finished with value: 0.45110015116580904 and parameters: {'n_estimators': 2000, 'learning_rate': 0.04904680785631488, 'num_leaves': 2620, 'max_depth': 11, 'min_data_in_leaf': 80, 'lambda_l1': 5, 'lambda_l2': 15, 'min_gain_to_split': 10.96103280310848, 'bagging_fraction': 0.9000000000000001, 'bagging_freq': 1, 'feature_fraction': 0.8}. Best is trial 58 with value: 0.4545727565988984.\n",
      "[I 2024-10-04 19:39:12,225] Trial 63 finished with value: 0.44867402096432574 and parameters: {'n_estimators': 2000, 'learning_rate': 0.05528697922458163, 'num_leaves': 3000, 'max_depth': 7, 'min_data_in_leaf': 110, 'lambda_l1': 5, 'lambda_l2': 15, 'min_gain_to_split': 10.930731168406826, 'bagging_fraction': 0.9000000000000001, 'bagging_freq': 1, 'feature_fraction': 0.8}. Best is trial 58 with value: 0.4545727565988984.\n",
      "[I 2024-10-04 19:39:14,872] Trial 64 finished with value: 0.43577434657098435 and parameters: {'n_estimators': 2000, 'learning_rate': 0.04707270742835329, 'num_leaves': 2300, 'max_depth': 11, 'min_data_in_leaf': 80, 'lambda_l1': 15, 'lambda_l2': 15, 'min_gain_to_split': 11.42476053420506, 'bagging_fraction': 0.8, 'bagging_freq': 1, 'feature_fraction': 0.7}. Best is trial 58 with value: 0.4545727565988984.\n",
      "[I 2024-10-04 19:39:17,988] Trial 65 finished with value: 0.4303107742429665 and parameters: {'n_estimators': 2000, 'learning_rate': 0.018137708337898573, 'num_leaves': 500, 'max_depth': 10, 'min_data_in_leaf': 90, 'lambda_l1': 20, 'lambda_l2': 5, 'min_gain_to_split': 13.90630265131759, 'bagging_fraction': 0.4, 'bagging_freq': 1, 'feature_fraction': 0.9000000000000001}. Best is trial 58 with value: 0.4545727565988984.\n",
      "[I 2024-10-04 19:39:20,840] Trial 66 finished with value: 0.45363512452455657 and parameters: {'n_estimators': 2000, 'learning_rate': 0.0674458544647873, 'num_leaves': 2740, 'max_depth': 10, 'min_data_in_leaf': 50, 'lambda_l1': 10, 'lambda_l2': 10, 'min_gain_to_split': 11.055834596150406, 'bagging_fraction': 0.9000000000000001, 'bagging_freq': 1, 'feature_fraction': 0.8}. Best is trial 58 with value: 0.4545727565988984.\n",
      "[I 2024-10-04 19:39:24,035] Trial 67 finished with value: 0.44936202831086625 and parameters: {'n_estimators': 2000, 'learning_rate': 0.03932503805576426, 'num_leaves': 2480, 'max_depth': 10, 'min_data_in_leaf': 130, 'lambda_l1': 10, 'lambda_l2': 0, 'min_gain_to_split': 11.040339921351034, 'bagging_fraction': 0.8, 'bagging_freq': 1, 'feature_fraction': 0.7}. Best is trial 58 with value: 0.4545727565988984.\n",
      "[I 2024-10-04 19:39:25,161] Trial 68 finished with value: 0.41591393789075737 and parameters: {'n_estimators': 500, 'learning_rate': 0.019944364876108543, 'num_leaves': 2180, 'max_depth': 10, 'min_data_in_leaf': 80, 'lambda_l1': 25, 'lambda_l2': 10, 'min_gain_to_split': 11.90472906848849, 'bagging_fraction': 0.9000000000000001, 'bagging_freq': 1, 'feature_fraction': 0.7}. Best is trial 58 with value: 0.4545727565988984.\n",
      "[I 2024-10-04 19:39:27,935] Trial 69 finished with value: 0.4498604466540971 and parameters: {'n_estimators': 2000, 'learning_rate': 0.06694299508956057, 'num_leaves': 2760, 'max_depth': 11, 'min_data_in_leaf': 50, 'lambda_l1': 15, 'lambda_l2': 5, 'min_gain_to_split': 12.505351654992335, 'bagging_fraction': 0.8, 'bagging_freq': 1, 'feature_fraction': 1.0}. Best is trial 58 with value: 0.4545727565988984.\n",
      "[I 2024-10-04 19:39:30,995] Trial 70 finished with value: 0.4375459264011198 and parameters: {'n_estimators': 2000, 'learning_rate': 0.05213118873160356, 'num_leaves': 2400, 'max_depth': 9, 'min_data_in_leaf': 20, 'lambda_l1': 5, 'lambda_l2': 15, 'min_gain_to_split': 13.753350584216314, 'bagging_fraction': 0.9000000000000001, 'bagging_freq': 1, 'feature_fraction': 0.8}. Best is trial 58 with value: 0.4545727565988984.\n",
      "[I 2024-10-04 19:39:33,597] Trial 71 finished with value: 0.4083077123643356 and parameters: {'n_estimators': 2000, 'learning_rate': 0.08025374397399904, 'num_leaves': 2880, 'max_depth': 11, 'min_data_in_leaf': 60, 'lambda_l1': 5, 'lambda_l2': 15, 'min_gain_to_split': 11.59431801243064, 'bagging_fraction': 0.9000000000000001, 'bagging_freq': 1, 'feature_fraction': 0.8}. Best is trial 58 with value: 0.4545727565988984.\n",
      "[I 2024-10-04 19:39:36,244] Trial 72 finished with value: 0.4345384401365957 and parameters: {'n_estimators': 2000, 'learning_rate': 0.06434733922498843, 'num_leaves': 2620, 'max_depth': 11, 'min_data_in_leaf': 110, 'lambda_l1': 0, 'lambda_l2': 10, 'min_gain_to_split': 10.302694594425683, 'bagging_fraction': 1.0, 'bagging_freq': 1, 'feature_fraction': 0.8}. Best is trial 58 with value: 0.4545727565988984.\n",
      "[I 2024-10-04 19:39:39,100] Trial 73 finished with value: 0.4471620179913903 and parameters: {'n_estimators': 2000, 'learning_rate': 0.042249276204429836, 'num_leaves': 2700, 'max_depth': 11, 'min_data_in_leaf': 70, 'lambda_l1': 10, 'lambda_l2': 20, 'min_gain_to_split': 10.708124176701098, 'bagging_fraction': 0.9000000000000001, 'bagging_freq': 1, 'feature_fraction': 0.9000000000000001}. Best is trial 58 with value: 0.4545727565988984.\n",
      "[I 2024-10-04 19:39:41,467] Trial 74 finished with value: 0.43780353039786823 and parameters: {'n_estimators': 2000, 'learning_rate': 0.09195092201559454, 'num_leaves': 2540, 'max_depth': 12, 'min_data_in_leaf': 40, 'lambda_l1': 10, 'lambda_l2': 25, 'min_gain_to_split': 12.884359544931064, 'bagging_fraction': 1.0, 'bagging_freq': 1, 'feature_fraction': 0.7}. Best is trial 58 with value: 0.4545727565988984.\n",
      "[I 2024-10-04 19:39:44,622] Trial 75 finished with value: 0.4209117053981686 and parameters: {'n_estimators': 2000, 'learning_rate': 0.01833024333129087, 'num_leaves': 2760, 'max_depth': 9, 'min_data_in_leaf': 100, 'lambda_l1': 0, 'lambda_l2': 20, 'min_gain_to_split': 9.710780206473583, 'bagging_fraction': 0.9000000000000001, 'bagging_freq': 1, 'feature_fraction': 0.8}. Best is trial 58 with value: 0.4545727565988984.\n",
      "[I 2024-10-04 19:39:47,475] Trial 76 finished with value: 0.4045057313219721 and parameters: {'n_estimators': 2000, 'learning_rate': 0.02987766114949328, 'num_leaves': 2900, 'max_depth': 11, 'min_data_in_leaf': 60, 'lambda_l1': 5, 'lambda_l2': 10, 'min_gain_to_split': 8.452085023156904, 'bagging_fraction': 1.0, 'bagging_freq': 1, 'feature_fraction': 0.9000000000000001}. Best is trial 58 with value: 0.4545727565988984.\n",
      "[I 2024-10-04 19:39:50,145] Trial 77 finished with value: 0.45094351227782736 and parameters: {'n_estimators': 2000, 'learning_rate': 0.0555722836712017, 'num_leaves': 2620, 'max_depth': 12, 'min_data_in_leaf': 90, 'lambda_l1': 15, 'lambda_l2': 5, 'min_gain_to_split': 10.172668562907004, 'bagging_fraction': 0.7, 'bagging_freq': 1, 'feature_fraction': 0.6000000000000001}. Best is trial 58 with value: 0.4545727565988984.\n",
      "[I 2024-10-04 19:39:52,926] Trial 78 finished with value: 0.44154679222210425 and parameters: {'n_estimators': 2000, 'learning_rate': 0.03642086672212391, 'num_leaves': 2500, 'max_depth': 10, 'min_data_in_leaf': 90, 'lambda_l1': 15, 'lambda_l2': 0, 'min_gain_to_split': 11.627743705342652, 'bagging_fraction': 0.7, 'bagging_freq': 1, 'feature_fraction': 0.6000000000000001}. Best is trial 58 with value: 0.4545727565988984.\n",
      "[I 2024-10-04 19:39:53,401] Trial 79 finished with value: 0.431156804841591 and parameters: {'n_estimators': 100, 'learning_rate': 0.05468323030521384, 'num_leaves': 960, 'max_depth': 11, 'min_data_in_leaf': 130, 'lambda_l1': 20, 'lambda_l2': 5, 'min_gain_to_split': 7.670128635822328, 'bagging_fraction': 0.8, 'bagging_freq': 1, 'feature_fraction': 0.5}. Best is trial 58 with value: 0.4545727565988984.\n",
      "[I 2024-10-04 19:39:56,039] Trial 80 finished with value: 0.4483110819289414 and parameters: {'n_estimators': 2000, 'learning_rate': 0.06630779990155858, 'num_leaves': 2340, 'max_depth': 12, 'min_data_in_leaf': 70, 'lambda_l1': 15, 'lambda_l2': 15, 'min_gain_to_split': 10.902850064041072, 'bagging_fraction': 0.6000000000000001, 'bagging_freq': 1, 'feature_fraction': 0.6000000000000001}. Best is trial 58 with value: 0.4545727565988984.\n",
      "[I 2024-10-04 19:39:58,674] Trial 81 finished with value: 0.44977195759894184 and parameters: {'n_estimators': 2000, 'learning_rate': 0.04788713833833773, 'num_leaves': 2620, 'max_depth': 12, 'min_data_in_leaf': 80, 'lambda_l1': 5, 'lambda_l2': 10, 'min_gain_to_split': 10.094409009018946, 'bagging_fraction': 0.9000000000000001, 'bagging_freq': 1, 'feature_fraction': 0.7}. Best is trial 58 with value: 0.4545727565988984.\n",
      "[I 2024-10-04 19:40:02,055] Trial 82 finished with value: 0.43903373585449146 and parameters: {'n_estimators': 2000, 'learning_rate': 0.010913006519966297, 'num_leaves': 2700, 'max_depth': 12, 'min_data_in_leaf': 50, 'lambda_l1': 10, 'lambda_l2': 5, 'min_gain_to_split': 9.535024725511928, 'bagging_fraction': 0.2, 'bagging_freq': 1, 'feature_fraction': 0.8}. Best is trial 58 with value: 0.4545727565988984.\n",
      "[I 2024-10-04 19:40:04,937] Trial 83 finished with value: 0.4516839552919587 and parameters: {'n_estimators': 2000, 'learning_rate': 0.058956905514870865, 'num_leaves': 20, 'max_depth': 12, 'min_data_in_leaf': 80, 'lambda_l1': 0, 'lambda_l2': 15, 'min_gain_to_split': 11.965514694633207, 'bagging_fraction': 0.5, 'bagging_freq': 1, 'feature_fraction': 0.7}. Best is trial 58 with value: 0.4545727565988984.\n",
      "[I 2024-10-04 19:40:08,028] Trial 84 finished with value: 0.40728062085435934 and parameters: {'n_estimators': 2000, 'learning_rate': 0.023970236475768618, 'num_leaves': 320, 'max_depth': 11, 'min_data_in_leaf': 90, 'lambda_l1': 5, 'lambda_l2': 15, 'min_gain_to_split': 13.381901602682369, 'bagging_fraction': 0.5, 'bagging_freq': 1, 'feature_fraction': 0.6000000000000001}. Best is trial 58 with value: 0.4545727565988984.\n",
      "[I 2024-10-04 19:40:11,046] Trial 85 finished with value: 0.4183380695468336 and parameters: {'n_estimators': 2000, 'learning_rate': 0.04368598264265424, 'num_leaves': 720, 'max_depth': 12, 'min_data_in_leaf': 110, 'lambda_l1': 0, 'lambda_l2': 5, 'min_gain_to_split': 12.67027025900972, 'bagging_fraction': 0.5, 'bagging_freq': 1, 'feature_fraction': 0.7}. Best is trial 58 with value: 0.4545727565988984.\n",
      "[I 2024-10-04 19:40:13,802] Trial 86 finished with value: 0.4452547674095524 and parameters: {'n_estimators': 2000, 'learning_rate': 0.06044323034131041, 'num_leaves': 2440, 'max_depth': 10, 'min_data_in_leaf': 80, 'lambda_l1': 10, 'lambda_l2': 10, 'min_gain_to_split': 12.031396406037446, 'bagging_fraction': 0.4, 'bagging_freq': 1, 'feature_fraction': 0.6000000000000001}. Best is trial 58 with value: 0.4545727565988984.\n",
      "[I 2024-10-04 19:40:16,378] Trial 87 finished with value: 0.42593036657719474 and parameters: {'n_estimators': 2000, 'learning_rate': 0.03381465383582472, 'num_leaves': 2200, 'max_depth': 11, 'min_data_in_leaf': 160, 'lambda_l1': 45, 'lambda_l2': 15, 'min_gain_to_split': 10.578122216061931, 'bagging_fraction': 0.6000000000000001, 'bagging_freq': 1, 'feature_fraction': 0.7}. Best is trial 58 with value: 0.4545727565988984.\n",
      "[I 2024-10-04 19:40:17,388] Trial 88 finished with value: 0.4298333989200239 and parameters: {'n_estimators': 500, 'learning_rate': 0.06929527868206856, 'num_leaves': 2840, 'max_depth': 11, 'min_data_in_leaf': 70, 'lambda_l1': 0, 'lambda_l2': 95, 'min_gain_to_split': 14.151139016951523, 'bagging_fraction': 0.4, 'bagging_freq': 1, 'feature_fraction': 0.4}. Best is trial 58 with value: 0.4545727565988984.\n",
      "[I 2024-10-04 19:40:20,039] Trial 89 finished with value: 0.4480661628072009 and parameters: {'n_estimators': 2000, 'learning_rate': 0.08738950086258068, 'num_leaves': 1140, 'max_depth': 12, 'min_data_in_leaf': 100, 'lambda_l1': 5, 'lambda_l2': 20, 'min_gain_to_split': 8.789044531142071, 'bagging_fraction': 0.8, 'bagging_freq': 1, 'feature_fraction': 0.5}. Best is trial 58 with value: 0.4545727565988984.\n",
      "[I 2024-10-04 19:40:22,249] Trial 90 finished with value: 0.22984364286578562 and parameters: {'n_estimators': 2000, 'learning_rate': 0.05453950355872858, 'num_leaves': 200, 'max_depth': 12, 'min_data_in_leaf': 50, 'lambda_l1': 95, 'lambda_l2': 25, 'min_gain_to_split': 11.107847919038974, 'bagging_fraction': 0.7, 'bagging_freq': 1, 'feature_fraction': 0.5}. Best is trial 58 with value: 0.4545727565988984.\n",
      "[I 2024-10-04 19:40:24,696] Trial 91 finished with value: 0.42005091631937774 and parameters: {'n_estimators': 2000, 'learning_rate': 0.07527988328017285, 'num_leaves': 2640, 'max_depth': 12, 'min_data_in_leaf': 60, 'lambda_l1': 0, 'lambda_l2': 20, 'min_gain_to_split': 11.811266937087321, 'bagging_fraction': 1.0, 'bagging_freq': 1, 'feature_fraction': 0.8}. Best is trial 58 with value: 0.4545727565988984.\n",
      "[I 2024-10-04 19:40:27,431] Trial 92 finished with value: 0.4449987888811303 and parameters: {'n_estimators': 2000, 'learning_rate': 0.077089755066278, 'num_leaves': 2740, 'max_depth': 12, 'min_data_in_leaf': 50, 'lambda_l1': 10, 'lambda_l2': 25, 'min_gain_to_split': 9.934637678612225, 'bagging_fraction': 0.9000000000000001, 'bagging_freq': 1, 'feature_fraction': 0.8}. Best is trial 58 with value: 0.4545727565988984.\n",
      "[I 2024-10-04 19:40:29,893] Trial 93 finished with value: 0.45208077595585616 and parameters: {'n_estimators': 2000, 'learning_rate': 0.04106612405868783, 'num_leaves': 40, 'max_depth': 11, 'min_data_in_leaf': 40, 'lambda_l1': 5, 'lambda_l2': 0, 'min_gain_to_split': 10.302323826570724, 'bagging_fraction': 0.9000000000000001, 'bagging_freq': 1, 'feature_fraction': 0.9000000000000001}. Best is trial 58 with value: 0.4545727565988984.\n",
      "[I 2024-10-04 19:40:32,183] Trial 94 finished with value: 0.4160668161376182 and parameters: {'n_estimators': 2000, 'learning_rate': 0.041858277749502106, 'num_leaves': 20, 'max_depth': 11, 'min_data_in_leaf': 20, 'lambda_l1': 35, 'lambda_l2': 0, 'min_gain_to_split': 12.36812693660901, 'bagging_fraction': 0.9000000000000001, 'bagging_freq': 1, 'feature_fraction': 0.9000000000000001}. Best is trial 58 with value: 0.4545727565988984.\n",
      "[I 2024-10-04 19:40:34,440] Trial 95 finished with value: 0.41878446746378195 and parameters: {'n_estimators': 2000, 'learning_rate': 0.025940478355089523, 'num_leaves': 160, 'max_depth': 11, 'min_data_in_leaf': 40, 'lambda_l1': 60, 'lambda_l2': 0, 'min_gain_to_split': 13.087077087681056, 'bagging_fraction': 0.8, 'bagging_freq': 1, 'feature_fraction': 0.9000000000000001}. Best is trial 58 with value: 0.4545727565988984.\n",
      "[I 2024-10-04 19:40:37,729] Trial 96 finished with value: 0.43234623157320506 and parameters: {'n_estimators': 2000, 'learning_rate': 0.018273792851722932, 'num_leaves': 140, 'max_depth': 10, 'min_data_in_leaf': 80, 'lambda_l1': 5, 'lambda_l2': 10, 'min_gain_to_split': 11.322791345839082, 'bagging_fraction': 0.5, 'bagging_freq': 1, 'feature_fraction': 1.0}. Best is trial 58 with value: 0.4545727565988984.\n",
      "[I 2024-10-04 19:40:40,243] Trial 97 finished with value: 0.4439672172068062 and parameters: {'n_estimators': 2000, 'learning_rate': 0.06001736695101434, 'num_leaves': 440, 'max_depth': 11, 'min_data_in_leaf': 260, 'lambda_l1': 10, 'lambda_l2': 5, 'min_gain_to_split': 10.49383598424247, 'bagging_fraction': 0.9000000000000001, 'bagging_freq': 1, 'feature_fraction': 0.9000000000000001}. Best is trial 58 with value: 0.4545727565988984.\n",
      "[I 2024-10-04 19:40:42,492] Trial 98 finished with value: 0.4371108112822907 and parameters: {'n_estimators': 2000, 'learning_rate': 0.19650569720460698, 'num_leaves': 320, 'max_depth': 11, 'min_data_in_leaf': 190, 'lambda_l1': 15, 'lambda_l2': 15, 'min_gain_to_split': 9.405776403581916, 'bagging_fraction': 0.9000000000000001, 'bagging_freq': 1, 'feature_fraction': 0.7}. Best is trial 58 with value: 0.4545727565988984.\n",
      "[I 2024-10-04 19:40:42,996] Trial 99 finished with value: 0.4441971492420014 and parameters: {'n_estimators': 100, 'learning_rate': 0.05091298309227497, 'num_leaves': 1640, 'max_depth': 5, 'min_data_in_leaf': 30, 'lambda_l1': 5, 'lambda_l2': 5, 'min_gain_to_split': 10.793250356761419, 'bagging_fraction': 0.8, 'bagging_freq': 1, 'feature_fraction': 0.8}. Best is trial 58 with value: 0.4545727565988984.\n"
     ]
    }
   ],
   "source": [
    "def objective(trial):\n",
    "    param_grid = {\n",
    "        # \"device_type\": trial.suggest_categorical(\"device_type\", ['gpu']),\n",
    "        \"n_estimators\": trial.suggest_categorical(\"n_estimators\", [100, 500, 1000, 2000]),\n",
    "        \"learning_rate\": trial.suggest_float(\"learning_rate\", 0.01, 0.3),\n",
    "        \"num_leaves\": trial.suggest_int(\"num_leaves\", 20, 3000, step=20),\n",
    "        \"max_depth\": trial.suggest_int(\"max_depth\", 3, 12),\n",
    "        \"min_data_in_leaf\": trial.suggest_int(\"min_data_in_leaf\", 20, 500, step=10),\n",
    "        \"lambda_l1\": trial.suggest_int(\"lambda_l1\", 0, 100, step=5),\n",
    "        \"lambda_l2\": trial.suggest_int(\"lambda_l2\", 0, 100, step=5),\n",
    "        \"min_gain_to_split\": trial.suggest_float(\"min_gain_to_split\", 0, 15),\n",
    "        \"bagging_fraction\": trial.suggest_float(\n",
    "            \"bagging_fraction\", 0.2, 1.0, step=0.1\n",
    "        ),\n",
    "        \"bagging_freq\": trial.suggest_categorical(\"bagging_freq\", [1]),\n",
    "        \"feature_fraction\": trial.suggest_float(\n",
    "            \"feature_fraction\", 0.2, 1.0, step=0.1\n",
    "        ),\n",
    "    }\n",
    "\n",
    "    skf = StratifiedKFold()\n",
    "    oof_raw = np.zeros(len(y), dtype=float) # oof predictions, before rounding\n",
    "    for fold, (tridx, validx) in enumerate(skf.split(X, y)):\n",
    "        model = lgb.LGBMRegressor(**param_grid, class_weight='balanced', verbose=-1)\n",
    "        model.fit(X[tridx], y[tridx].to_numpy().ravel())\n",
    "        oof_raw[validx] = model.predict(X[validx])\n",
    "\n",
    "    thresholds = minimize(evaluate, [0.5, 1.5, 2.5], args=(y, oof_raw), method='Nelder-Mead').x\n",
    "    y_pred_tuned = roundoff(oof_raw, thresholds=thresholds)\n",
    "    return quadratic_weighted_kappa(y, y_pred_tuned)\n",
    "\n",
    "study = optuna.create_study(direction=\"maximize\", study_name=\"LGBM Regressor\")\n",
    "study.optimize(objective, n_trials=100)"
   ]
  },
  {
   "cell_type": "code",
   "execution_count": 152,
   "metadata": {},
   "outputs": [
    {
     "data": {
      "text/plain": [
       "{'n_estimators': 2000,\n",
       " 'learning_rate': 0.023742598951513243,\n",
       " 'num_leaves': 2580,\n",
       " 'max_depth': 11,\n",
       " 'min_data_in_leaf': 80,\n",
       " 'lambda_l1': 5,\n",
       " 'lambda_l2': 5,\n",
       " 'min_gain_to_split': 12.594654152003114,\n",
       " 'bagging_fraction': 0.9000000000000001,\n",
       " 'bagging_freq': 1,\n",
       " 'feature_fraction': 0.8}"
      ]
     },
     "execution_count": 152,
     "metadata": {},
     "output_type": "execute_result"
    }
   ],
   "source": [
    "study.best_params"
   ]
  },
  {
   "cell_type": "code",
   "execution_count": 153,
   "metadata": {},
   "outputs": [
    {
     "data": {
      "text/plain": [
       "0.4545727565988984"
      ]
     },
     "execution_count": 153,
     "metadata": {},
     "output_type": "execute_result"
    }
   ],
   "source": [
    "study.best_value"
   ]
  },
  {
   "cell_type": "code",
   "execution_count": null,
   "metadata": {},
   "outputs": [],
   "source": []
  }
 ],
 "metadata": {
  "kernelspec": {
   "display_name": "venv",
   "language": "python",
   "name": "python3"
  },
  "language_info": {
   "codemirror_mode": {
    "name": "ipython",
    "version": 3
   },
   "file_extension": ".py",
   "mimetype": "text/x-python",
   "name": "python",
   "nbconvert_exporter": "python",
   "pygments_lexer": "ipython3",
   "version": "3.10.15"
  }
 },
 "nbformat": 4,
 "nbformat_minor": 2
}
