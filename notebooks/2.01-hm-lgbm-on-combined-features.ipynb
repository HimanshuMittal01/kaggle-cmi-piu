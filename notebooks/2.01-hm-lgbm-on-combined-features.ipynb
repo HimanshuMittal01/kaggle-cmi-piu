{
 "cells": [
  {
   "cell_type": "code",
   "execution_count": 29,
   "metadata": {},
   "outputs": [],
   "source": [
    "%%capture\n",
    "%load_ext autoreload\n",
    "%autoreload 2\n",
    "\n",
    "# We can also put these magic commands in `.vscode/settings.json` like this:\n",
    "# \"jupyter.runStartupCommands\": [\n",
    "#     \"%load_ext autoreload\",\n",
    "#     \"%autoreload 2\"\n",
    "# ]"
   ]
  },
  {
   "cell_type": "code",
   "execution_count": 30,
   "metadata": {},
   "outputs": [
    {
     "name": "stdout",
     "output_type": "stream",
     "text": [
      "All imports loaded successfully\n"
     ]
    }
   ],
   "source": [
    "import optuna\n",
    "import numpy as np\n",
    "import polars as pl\n",
    "import lightgbm as lgb\n",
    "import altair as alt\n",
    "from scipy.optimize import minimize\n",
    "from sklearn.preprocessing import OrdinalEncoder\n",
    "from sklearn.impute import KNNImputer\n",
    "from sklearn.model_selection import StratifiedKFold\n",
    "from sklearn.metrics import cohen_kappa_score, accuracy_score\n",
    "\n",
    "print(\"All imports loaded successfully\")"
   ]
  },
  {
   "cell_type": "code",
   "execution_count": 31,
   "metadata": {},
   "outputs": [
    {
     "name": "stdout",
     "output_type": "stream",
     "text": [
      "shape: (5, 107)\n",
      "┌──────────┬───────────┬───────────┬───────────┬───┬───────────┬───────────┬───────────┬───────────┐\n",
      "│ id       ┆ Basic_Dem ┆ Basic_Dem ┆ Basic_Dem ┆ … ┆ first7_av ┆ first7_av ┆ first7_av ┆ first7_av │\n",
      "│ ---      ┆ os-Enroll ┆ os-Age    ┆ os-Sex    ┆   ┆ g_light_m ┆ g_light_m ┆ g_light_s ┆ g_light_m │\n",
      "│ str      ┆ _Season   ┆ ---       ┆ ---       ┆   ┆ in        ┆ ean       ┆ td        ┆ ax        │\n",
      "│          ┆ ---       ┆ i64       ┆ i64       ┆   ┆ ---       ┆ ---       ┆ ---       ┆ ---       │\n",
      "│          ┆ str       ┆           ┆           ┆   ┆ f64       ┆ f64       ┆ f64       ┆ f64       │\n",
      "╞══════════╪═══════════╪═══════════╪═══════════╪═══╪═══════════╪═══════════╪═══════════╪═══════════╡\n",
      "│ 00008ff9 ┆ Fall      ┆ 5         ┆ 0         ┆ … ┆ null      ┆ null      ┆ null      ┆ null      │\n",
      "│ 000fd460 ┆ Summer    ┆ 9         ┆ 0         ┆ … ┆ null      ┆ null      ┆ null      ┆ null      │\n",
      "│ 00105258 ┆ Summer    ┆ 10        ┆ 1         ┆ … ┆ null      ┆ null      ┆ null      ┆ null      │\n",
      "│ 00115b9f ┆ Winter    ┆ 9         ┆ 0         ┆ … ┆ null      ┆ null      ┆ null      ┆ null      │\n",
      "│ 0016bb22 ┆ Spring    ┆ 18        ┆ 1         ┆ … ┆ null      ┆ null      ┆ null      ┆ null      │\n",
      "└──────────┴───────────┴───────────┴───────────┴───┴───────────┴───────────┴───────────┴───────────┘\n"
     ]
    }
   ],
   "source": [
    "df_train = pl.read_csv('../input/processed/train_combined_v2.csv')\n",
    "\n",
    "print(df_train.head())"
   ]
  },
  {
   "cell_type": "code",
   "execution_count": 32,
   "metadata": {},
   "outputs": [
    {
     "name": "stdout",
     "output_type": "stream",
     "text": [
      "Number of rows before dropping nulls: 3960\n",
      "Number of rows after dropping nulls: 2736\n"
     ]
    }
   ],
   "source": [
    "print(f'Number of rows before dropping nulls: {df_train.shape[0]}')\n",
    "df_train = df_train.drop_nulls(subset=['sii'])\n",
    "print(f'Number of rows after dropping nulls: {df_train.shape[0]}')"
   ]
  },
  {
   "cell_type": "code",
   "execution_count": 33,
   "metadata": {},
   "outputs": [
    {
     "name": "stdout",
     "output_type": "stream",
     "text": [
      "X shape: (2736, 106)\n",
      "y shape: (2736, 1)\n"
     ]
    }
   ],
   "source": [
    "X = df_train.drop('sii')\n",
    "y = df_train.select('sii')\n",
    "\n",
    "print(f\"X shape: {X.shape}\")\n",
    "print(f\"y shape: {y.shape}\")"
   ]
  },
  {
   "cell_type": "code",
   "execution_count": 34,
   "metadata": {},
   "outputs": [],
   "source": [
    "def feature_engineering(df, is_training=False, imputer=None):\n",
    "    df = df.with_columns(\n",
    "        PAQ_Total = pl.when(\n",
    "            (pl.col('PAQ_C-PAQ_C_Total').is_null()) | (pl.col('PAQ_A-PAQ_A_Total').is_null())\n",
    "        )\n",
    "        .then((pl.col('PAQ_C-PAQ_C_Total').fill_null(0) + pl.col('PAQ_A-PAQ_A_Total').fill_null(0))/2)\n",
    "        .otherwise(pl.lit(None)),\n",
    "        Fitness_Endurance_Duration = pl.col('Fitness_Endurance-Time_Mins') * 60 + pl.col('Fitness_Endurance-Time_Sec')\n",
    "    )\n",
    "    \n",
    "    # Remove all season and pciat cols\n",
    "    pciat_cols = [col for col in df.columns if col.startswith('PCIAT')]\n",
    "    df = df.drop(pciat_cols + ['id',\n",
    "                  'PAQ_C-PAQ_C_Total', 'PAQ_A-PAQ_A_Total', 'Fitness_Endurance-Time_Mins', \n",
    "                  'Fitness_Endurance-Time_Sec'])\n",
    "    \n",
    "    # Encode season columns\n",
    "    encoder = OrdinalEncoder(handle_unknown='use_encoded_value', encoded_missing_value=-1, unknown_value=-2)\n",
    "    season_cols = [col for col in df.columns if col.endswith('Season')]\n",
    "    encoder.fit(df[season_cols])\n",
    "\n",
    "    res = encoder.transform(df[season_cols])\n",
    "    encoded_season_df = pl.DataFrame(res, schema=list(encoder.get_feature_names_out()), orient=\"row\")\n",
    "    df = df.with_columns(encoded_season_df)\n",
    "\n",
    "    imputing_cols = [\n",
    "        'Basic_Demos-Age', 'Basic_Demos-Sex', 'CGAS-CGAS_Score', \n",
    "        'Physical-BMI', 'Physical-Height', 'Physical-Weight', 'Physical-Waist_Circumference', \n",
    "        'Physical-Diastolic_BP', 'Physical-HeartRate', 'Physical-Systolic_BP', \n",
    "        'Fitness_Endurance-Max_Stage', 'FGC-FGC_CU', 'FGC-FGC_CU_Zone', 'FGC-FGC_GSND', \n",
    "        'FGC-FGC_GSND_Zone', 'FGC-FGC_GSD', 'FGC-FGC_GSD_Zone', 'FGC-FGC_PU', 'FGC-FGC_PU_Zone', \n",
    "        'FGC-FGC_SRL', 'FGC-FGC_SRL_Zone', 'FGC-FGC_SRR', 'FGC-FGC_SRR_Zone', 'FGC-FGC_TL', \n",
    "        'FGC-FGC_TL_Zone', 'BIA-BIA_Activity_Level_num', 'BIA-BIA_BMC', 'BIA-BIA_BMI', \n",
    "        'BIA-BIA_BMR', 'BIA-BIA_DEE', 'BIA-BIA_ECW', 'BIA-BIA_FFM', 'BIA-BIA_FFMI', \n",
    "        'BIA-BIA_FMI', 'BIA-BIA_Fat', 'BIA-BIA_Frame_num', 'BIA-BIA_ICW', 'BIA-BIA_LDM', \n",
    "        'BIA-BIA_LST', 'BIA-BIA_SMM', 'BIA-BIA_TBW', 'SDS-SDS_Total_Raw', 'SDS-SDS_Total_T', \n",
    "        'PreInt_EduHx-computerinternet_hoursday'\n",
    "    ]\n",
    "    imputer = KNNImputer(n_neighbors=10, add_indicator=True)\n",
    "    res = imputer.fit_transform(df[imputing_cols])\n",
    "    df = df.drop(imputing_cols)\n",
    "\n",
    "    imputed_df = pl.DataFrame(res, schema=list(imputer.get_feature_names_out()), orient=\"row\")\n",
    "    df = pl.concat([df, imputed_df], how=\"horizontal\")\n",
    "    missing_indicator_cols = [col for col in imputed_df.columns if col.startswith('missingindicator') and col not in ['missingindicator_Physical-Waist_Circumference', 'missingindicator_CGAS-CGAS_Score']]\n",
    "    df = df.drop(missing_indicator_cols)\n",
    "\n",
    "    return df\n",
    "    # if is_training:\n",
    "    #     imputer = KNNImputer(n_neighbors=10, add_indicator=True)\n",
    "    #     res = imputer.fit_transform(df)\n",
    "    #     df = pd.DataFrame(res, columns=imputer.get_feature_names_out())\n",
    "    \n",
    "    # else:\n",
    "    #     assert imputer is not None\n",
    "    #     df = pd.DataFrame(imputer.transform(df), columns=imputer.get_feature_names_out())\n",
    "    \n",
    "    # if is_training:\n",
    "    #     return df, imputer\n",
    "    # else:\n",
    "    #     return df, None"
   ]
  },
  {
   "cell_type": "code",
   "execution_count": 35,
   "metadata": {},
   "outputs": [],
   "source": [
    "X = feature_engineering(X)"
   ]
  },
  {
   "cell_type": "code",
   "execution_count": 36,
   "metadata": {},
   "outputs": [],
   "source": [
    "def quadratic_weighted_kappa(y_true, y_pred):\n",
    "    return cohen_kappa_score(y_true, y_pred, weights='quadratic')\n",
    "\n",
    "def roundoff(arr, thresholds=[0.5, 1.5, 2.5]):\n",
    "    return np.where(arr < thresholds[0], 0, \n",
    "                np.where(arr < thresholds[1], 1, \n",
    "                    np.where(arr < thresholds[2], 2, 3)))\n",
    "\n",
    "def evaluate(thresholds, y_true, y_pred):\n",
    "    score = quadratic_weighted_kappa(y_true, roundoff(y_pred, thresholds))\n",
    "    return -score"
   ]
  },
  {
   "cell_type": "code",
   "execution_count": 43,
   "metadata": {},
   "outputs": [
    {
     "name": "stdout",
     "output_type": "stream",
     "text": [
      "Fold: 0, Score: 0.349393, Accuracy: 0.427007\n",
      "----------------------------------------\n",
      "Fold: 1, Score: 0.395561, Accuracy: 0.438757\n",
      "----------------------------------------\n",
      "Fold: 2, Score: 0.383974, Accuracy: 0.431444\n",
      "----------------------------------------\n",
      "Fold: 3, Score: 0.364314, Accuracy: 0.420475\n",
      "----------------------------------------\n",
      "Fold: 4, Score: 0.332836, Accuracy: 0.438757\n",
      "----------------------------------------\n",
      "Mean score: 0.36521550306024303\n",
      "OOF score: 0.3656704012766382\n",
      "Thresholds [0.82591763 1.45017208 2.4362995 ]\n",
      "Tuned OOF Score: 0.4643139651634871\n"
     ]
    }
   ],
   "source": [
    "skf = StratifiedKFold()\n",
    "\n",
    "best_params_lgbm = {\n",
    "    'n_estimators': 1000,\n",
    "    'learning_rate': 0.10937483004627814,\n",
    "    'num_leaves': 2360,\n",
    "    'max_depth': 5,\n",
    "    'min_data_in_leaf': 30,\n",
    "    'lambda_l1': 20,\n",
    "    'lambda_l2': 10,\n",
    "    'min_gain_to_split': 2.055382197056,\n",
    "    'bagging_fraction': 0.7,\n",
    "    'bagging_freq': 1,\n",
    "    'feature_fraction': 0.7,\n",
    "    'class_weight': 'balanced'\n",
    "}\n",
    "\n",
    "scores = []\n",
    "oof_raw = np.zeros(len(y), dtype=float) # oof predictions, before rounding\n",
    "oof = np.zeros(len(y), dtype=int) # oof predictions, rounded\n",
    "models = []\n",
    "for fold, (tridx, validx) in enumerate(skf.split(X, y)):\n",
    "    # model = XGBRegressor()\n",
    "    # model = CatBoostRegressor(silent=True, allow_writing_files=False)\n",
    "    model = lgb.LGBMRegressor(**best_params_lgbm, verbose=-1)\n",
    "    model.fit(X[tridx], y[tridx].to_numpy().ravel())\n",
    "    models.append(model)\n",
    "    \n",
    "    y_pred = model.predict(X[validx])\n",
    "    oof_raw[validx] = y_pred\n",
    "    y_pred = roundoff(y_pred, thresholds=[0.49120744, 1.35878992, 2.65786462])\n",
    "    oof[validx] = y_pred\n",
    "\n",
    "    score = quadratic_weighted_kappa(y[validx].to_numpy().ravel(), y_pred)\n",
    "    scores.append(score)\n",
    "\n",
    "    accuracy = accuracy_score(y[validx].to_numpy().ravel(), y_pred)\n",
    "    print(f\"Fold: {fold}, Score: {score:.6f}, Accuracy: {accuracy:.6f}\")\n",
    "    print(\"-\"*40)\n",
    "\n",
    "print(f\"Mean score: {np.mean(scores)}\")\n",
    "score = quadratic_weighted_kappa(y, oof)\n",
    "print(f\"OOF score: {score}\")\n",
    "\n",
    "thresholds = minimize(evaluate, [0.5, 1.5, 2.5], args=(y, oof_raw), method='Nelder-Mead').x\n",
    "print('Thresholds', thresholds)\n",
    "\n",
    "y_pred_tuned = roundoff(oof_raw, thresholds=thresholds)\n",
    "print(\"Tuned OOF Score:\", quadratic_weighted_kappa(y, y_pred_tuned))"
   ]
  },
  {
   "cell_type": "code",
   "execution_count": 38,
   "metadata": {},
   "outputs": [
    {
     "data": {
      "text/html": [
       "\n",
       "<style>\n",
       "  #altair-viz-ef957d139dca498cb810d588cbdb4a80.vega-embed {\n",
       "    width: 100%;\n",
       "    display: flex;\n",
       "  }\n",
       "\n",
       "  #altair-viz-ef957d139dca498cb810d588cbdb4a80.vega-embed details,\n",
       "  #altair-viz-ef957d139dca498cb810d588cbdb4a80.vega-embed details summary {\n",
       "    position: relative;\n",
       "  }\n",
       "</style>\n",
       "<div id=\"altair-viz-ef957d139dca498cb810d588cbdb4a80\"></div>\n",
       "<script type=\"text/javascript\">\n",
       "  var VEGA_DEBUG = (typeof VEGA_DEBUG == \"undefined\") ? {} : VEGA_DEBUG;\n",
       "  (function(spec, embedOpt){\n",
       "    let outputDiv = document.currentScript.previousElementSibling;\n",
       "    if (outputDiv.id !== \"altair-viz-ef957d139dca498cb810d588cbdb4a80\") {\n",
       "      outputDiv = document.getElementById(\"altair-viz-ef957d139dca498cb810d588cbdb4a80\");\n",
       "    }\n",
       "    const paths = {\n",
       "      \"vega\": \"https://cdn.jsdelivr.net/npm/vega@5?noext\",\n",
       "      \"vega-lib\": \"https://cdn.jsdelivr.net/npm/vega-lib?noext\",\n",
       "      \"vega-lite\": \"https://cdn.jsdelivr.net/npm/vega-lite@5.20.1?noext\",\n",
       "      \"vega-embed\": \"https://cdn.jsdelivr.net/npm/vega-embed@6?noext\",\n",
       "    };\n",
       "\n",
       "    function maybeLoadScript(lib, version) {\n",
       "      var key = `${lib.replace(\"-\", \"\")}_version`;\n",
       "      return (VEGA_DEBUG[key] == version) ?\n",
       "        Promise.resolve(paths[lib]) :\n",
       "        new Promise(function(resolve, reject) {\n",
       "          var s = document.createElement('script');\n",
       "          document.getElementsByTagName(\"head\")[0].appendChild(s);\n",
       "          s.async = true;\n",
       "          s.onload = () => {\n",
       "            VEGA_DEBUG[key] = version;\n",
       "            return resolve(paths[lib]);\n",
       "          };\n",
       "          s.onerror = () => reject(`Error loading script: ${paths[lib]}`);\n",
       "          s.src = paths[lib];\n",
       "        });\n",
       "    }\n",
       "\n",
       "    function showError(err) {\n",
       "      outputDiv.innerHTML = `<div class=\"error\" style=\"color:red;\">${err}</div>`;\n",
       "      throw err;\n",
       "    }\n",
       "\n",
       "    function displayChart(vegaEmbed) {\n",
       "      vegaEmbed(outputDiv, spec, embedOpt)\n",
       "        .catch(err => showError(`Javascript Error: ${err.message}<br>This usually means there's a typo in your chart specification. See the javascript console for the full traceback.`));\n",
       "    }\n",
       "\n",
       "    if(typeof define === \"function\" && define.amd) {\n",
       "      requirejs.config({paths});\n",
       "      require([\"vega-embed\"], displayChart, err => showError(`Error loading script: ${err.message}`));\n",
       "    } else {\n",
       "      maybeLoadScript(\"vega\", \"5\")\n",
       "        .then(() => maybeLoadScript(\"vega-lite\", \"5.20.1\"))\n",
       "        .then(() => maybeLoadScript(\"vega-embed\", \"6\"))\n",
       "        .catch(showError)\n",
       "        .then(() => displayChart(vegaEmbed));\n",
       "    }\n",
       "  })({\"config\": {\"view\": {\"continuousWidth\": 300, \"continuousHeight\": 300}}, \"data\": {\"name\": \"data-5a4bc900e17c99df11a99a2f73421d62\"}, \"mark\": {\"type\": \"bar\"}, \"encoding\": {\"tooltip\": [{\"field\": \"label\", \"type\": \"nominal\"}, {\"field\": \"height\", \"type\": \"quantitative\"}], \"x\": {\"field\": \"label\", \"sort\": \"-y\", \"type\": \"nominal\"}, \"y\": {\"field\": \"height\", \"type\": \"quantitative\"}}, \"params\": [{\"name\": \"param_1\", \"select\": {\"type\": \"interval\", \"encodings\": [\"x\", \"y\"]}, \"bind\": \"scales\"}], \"title\": \"Bar Chart from Lists\", \"$schema\": \"https://vega.github.io/schema/vega-lite/v5.20.1.json\", \"datasets\": {\"data-5a4bc900e17c99df11a99a2f73421d62\": [{\"label\": \"Basic_Demos-Enroll_Season\", \"height\": 0.4}, {\"label\": \"CGAS-Season\", \"height\": 0.0}, {\"label\": \"Physical-Season\", \"height\": 0.4}, {\"label\": \"Fitness_Endurance-Season\", \"height\": 0.0}, {\"label\": \"FGC-Season\", \"height\": 0.0}, {\"label\": \"BIA-Season\", \"height\": 0.2}, {\"label\": \"PAQ_A-Season\", \"height\": 0.6}, {\"label\": \"PAQ_C-Season\", \"height\": 3.2}, {\"label\": \"SDS-Season\", \"height\": 0.4}, {\"label\": \"PreInt_EduHx-Season\", \"height\": 0.0}, {\"label\": \"relative_start_date_PCIAT\", \"height\": 0.8}, {\"label\": \"total_days\", \"height\": 0.2}, {\"label\": \"rolling_std_anglez_abs_std\", \"height\": 3.2}, {\"label\": \"X_mean\", \"height\": 0.0}, {\"label\": \"X_std\", \"height\": 3.2}, {\"label\": \"Y_mean\", \"height\": 0.2}, {\"label\": \"Y_std\", \"height\": 3.0}, {\"label\": \"angleZ_mean\", \"height\": 2.2}, {\"label\": \"angleZ_std\", \"height\": 3.2}, {\"label\": \"daily_avg_enmo_min\", \"height\": 1.4}, {\"label\": \"daily_avg_enmo_mean\", \"height\": 9.8}, {\"label\": \"daily_avg_enmo_std\", \"height\": 0.4}, {\"label\": \"daily_avg_enmo_max\", \"height\": 0.2}, {\"label\": \"daily_avg_light_min\", \"height\": 5.6}, {\"label\": \"daily_avg_light_mean\", \"height\": 0.2}, {\"label\": \"daily_avg_light_std\", \"height\": 0.4}, {\"label\": \"daily_avg_light_max\", \"height\": 0.6}, {\"label\": \"first7_avg_enmo_min\", \"height\": 0.0}, {\"label\": \"first7_avg_enmo_mean\", \"height\": 0.0}, {\"label\": \"first7_avg_enmo_std\", \"height\": 0.0}, {\"label\": \"first7_avg_enmo_max\", \"height\": 0.0}, {\"label\": \"first7_avg_light_min\", \"height\": 0.0}, {\"label\": \"first7_avg_light_mean\", \"height\": 0.0}, {\"label\": \"first7_avg_light_std\", \"height\": 0.0}, {\"label\": \"first7_avg_light_max\", \"height\": 0.0}, {\"label\": \"PAQ_Total\", \"height\": 4.0}, {\"label\": \"Fitness_Endurance_Duration\", \"height\": 0.0}, {\"label\": \"Basic_Demos-Age\", \"height\": 29.2}, {\"label\": \"Basic_Demos-Sex\", \"height\": 25.4}, {\"label\": \"CGAS-CGAS_Score\", \"height\": 20.8}, {\"label\": \"Physical-BMI\", \"height\": 3.6}, {\"label\": \"Physical-Height\", \"height\": 20.8}, {\"label\": \"Physical-Weight\", \"height\": 13.4}, {\"label\": \"Physical-Waist_Circumference\", \"height\": 8.2}, {\"label\": \"Physical-Diastolic_BP\", \"height\": 1.2}, {\"label\": \"Physical-HeartRate\", \"height\": 7.2}, {\"label\": \"Physical-Systolic_BP\", \"height\": 4.8}, {\"label\": \"Fitness_Endurance-Max_Stage\", \"height\": 0.4}, {\"label\": \"FGC-FGC_CU\", \"height\": 25.8}, {\"label\": \"FGC-FGC_CU_Zone\", \"height\": 0.0}, {\"label\": \"FGC-FGC_GSND\", \"height\": 6.2}, {\"label\": \"FGC-FGC_GSND_Zone\", \"height\": 1.2}, {\"label\": \"FGC-FGC_GSD\", \"height\": 11.6}, {\"label\": \"FGC-FGC_GSD_Zone\", \"height\": 1.6}, {\"label\": \"FGC-FGC_PU\", \"height\": 8.2}, {\"label\": \"FGC-FGC_PU_Zone\", \"height\": 0.0}, {\"label\": \"FGC-FGC_SRL\", \"height\": 14.8}, {\"label\": \"FGC-FGC_SRL_Zone\", \"height\": 4.6}, {\"label\": \"FGC-FGC_SRR\", \"height\": 14.6}, {\"label\": \"FGC-FGC_SRR_Zone\", \"height\": 0.0}, {\"label\": \"FGC-FGC_TL\", \"height\": 6.0}, {\"label\": \"FGC-FGC_TL_Zone\", \"height\": 0.0}, {\"label\": \"BIA-BIA_Activity_Level_num\", \"height\": 6.8}, {\"label\": \"BIA-BIA_BMC\", \"height\": 4.6}, {\"label\": \"BIA-BIA_BMI\", \"height\": 4.2}, {\"label\": \"BIA-BIA_BMR\", \"height\": 3.4}, {\"label\": \"BIA-BIA_DEE\", \"height\": 20.0}, {\"label\": \"BIA-BIA_ECW\", \"height\": 2.6}, {\"label\": \"BIA-BIA_FFM\", \"height\": 0.6}, {\"label\": \"BIA-BIA_FFMI\", \"height\": 2.6}, {\"label\": \"BIA-BIA_FMI\", \"height\": 10.8}, {\"label\": \"BIA-BIA_Fat\", \"height\": 16.8}, {\"label\": \"BIA-BIA_Frame_num\", \"height\": 0.8}, {\"label\": \"BIA-BIA_ICW\", \"height\": 6.8}, {\"label\": \"BIA-BIA_LDM\", \"height\": 39.4}, {\"label\": \"BIA-BIA_LST\", \"height\": 4.0}, {\"label\": \"BIA-BIA_SMM\", \"height\": 29.8}, {\"label\": \"BIA-BIA_TBW\", \"height\": 5.6}, {\"label\": \"SDS-SDS_Total_Raw\", \"height\": 81.8}, {\"label\": \"SDS-SDS_Total_T\", \"height\": 40.2}, {\"label\": \"PreInt_EduHx-computerinternet_hoursday\", \"height\": 75.8}, {\"label\": \"missingindicator_CGAS-CGAS_Score\", \"height\": 0.0}, {\"label\": \"missingindicator_Physical-Waist_Circumference\", \"height\": 5.0}]}}, {\"mode\": \"vega-lite\"});\n",
       "</script>"
      ],
      "text/plain": [
       "alt.Chart(...)"
      ]
     },
     "metadata": {},
     "output_type": "display_data"
    }
   ],
   "source": [
    "feature_importance = np.mean([model.feature_importances_ for model in models], axis=0)\n",
    "cols = list(X.columns)\n",
    "\n",
    "chart = alt.Chart(pl.DataFrame([{'label': label, 'height': height} for label, height in zip(cols, feature_importance)])).mark_bar().encode(\n",
    "    x=alt.X('label:N', sort='-y'),\n",
    "    y=alt.Y('height:Q'),\n",
    "    tooltip=['label', 'height']\n",
    ").properties(\n",
    "    title='Bar Chart from Lists'\n",
    ").interactive()\n",
    "\n",
    "chart.display()"
   ]
  },
  {
   "cell_type": "code",
   "execution_count": 39,
   "metadata": {},
   "outputs": [
    {
     "name": "stderr",
     "output_type": "stream",
     "text": [
      "[I 2024-10-04 20:42:38,642] A new study created in memory with name: LGBM Regressor\n"
     ]
    },
    {
     "name": "stderr",
     "output_type": "stream",
     "text": [
      "[I 2024-10-04 20:42:39,789] Trial 0 finished with value: 0.2117808481444844 and parameters: {'n_estimators': 1000, 'learning_rate': 0.09992345125129976, 'num_leaves': 440, 'max_depth': 10, 'min_data_in_leaf': 80, 'lambda_l1': 90, 'lambda_l2': 85, 'min_gain_to_split': 3.7196134629141624, 'bagging_fraction': 0.2, 'bagging_freq': 1, 'feature_fraction': 0.4}. Best is trial 0 with value: 0.2117808481444844.\n",
      "[I 2024-10-04 20:42:40,578] Trial 1 finished with value: 0.20770958523936633 and parameters: {'n_estimators': 500, 'learning_rate': 0.15228596386071705, 'num_leaves': 2820, 'max_depth': 10, 'min_data_in_leaf': 100, 'lambda_l1': 50, 'lambda_l2': 5, 'min_gain_to_split': 13.10406617060815, 'bagging_fraction': 0.2, 'bagging_freq': 1, 'feature_fraction': 0.30000000000000004}. Best is trial 0 with value: 0.2117808481444844.\n",
      "[I 2024-10-04 20:42:40,887] Trial 2 finished with value: 0.2163265947459182 and parameters: {'n_estimators': 100, 'learning_rate': 0.04789008617469672, 'num_leaves': 300, 'max_depth': 9, 'min_data_in_leaf': 190, 'lambda_l1': 80, 'lambda_l2': 65, 'min_gain_to_split': 1.9408340378952254, 'bagging_fraction': 0.6000000000000001, 'bagging_freq': 1, 'feature_fraction': 0.5}. Best is trial 2 with value: 0.2163265947459182.\n",
      "[I 2024-10-04 20:42:41,905] Trial 3 finished with value: 0.369047974756638 and parameters: {'n_estimators': 1000, 'learning_rate': 0.18429920583223158, 'num_leaves': 340, 'max_depth': 4, 'min_data_in_leaf': 500, 'lambda_l1': 85, 'lambda_l2': 25, 'min_gain_to_split': 13.025838902247708, 'bagging_fraction': 0.6000000000000001, 'bagging_freq': 1, 'feature_fraction': 0.8}. Best is trial 3 with value: 0.369047974756638.\n",
      "[I 2024-10-04 20:42:42,507] Trial 4 finished with value: 0.34514255745729294 and parameters: {'n_estimators': 500, 'learning_rate': 0.2005961847803224, 'num_leaves': 360, 'max_depth': 10, 'min_data_in_leaf': 290, 'lambda_l1': 35, 'lambda_l2': 0, 'min_gain_to_split': 8.933257244408074, 'bagging_fraction': 0.30000000000000004, 'bagging_freq': 1, 'feature_fraction': 0.2}. Best is trial 3 with value: 0.369047974756638.\n",
      "[I 2024-10-04 20:42:43,321] Trial 5 finished with value: 0.40325509872672693 and parameters: {'n_estimators': 500, 'learning_rate': 0.015891627115492597, 'num_leaves': 380, 'max_depth': 6, 'min_data_in_leaf': 450, 'lambda_l1': 50, 'lambda_l2': 85, 'min_gain_to_split': 0.29104568625976324, 'bagging_fraction': 0.6000000000000001, 'bagging_freq': 1, 'feature_fraction': 1.0}. Best is trial 5 with value: 0.40325509872672693.\n",
      "[I 2024-10-04 20:42:43,556] Trial 6 finished with value: 0.0006005848194680086 and parameters: {'n_estimators': 100, 'learning_rate': 0.08424695777837696, 'num_leaves': 560, 'max_depth': 7, 'min_data_in_leaf': 490, 'lambda_l1': 60, 'lambda_l2': 100, 'min_gain_to_split': 10.133365203255362, 'bagging_fraction': 0.30000000000000004, 'bagging_freq': 1, 'feature_fraction': 0.5}. Best is trial 5 with value: 0.40325509872672693.\n",
      "[I 2024-10-04 20:42:45,569] Trial 7 finished with value: 0.40917669966240056 and parameters: {'n_estimators': 2000, 'learning_rate': 0.27363872005528467, 'num_leaves': 520, 'max_depth': 11, 'min_data_in_leaf': 340, 'lambda_l1': 60, 'lambda_l2': 55, 'min_gain_to_split': 9.237889906380675, 'bagging_fraction': 0.7, 'bagging_freq': 1, 'feature_fraction': 0.30000000000000004}. Best is trial 7 with value: 0.40917669966240056.\n",
      "[I 2024-10-04 20:42:46,889] Trial 8 finished with value: 0.4054659270191868 and parameters: {'n_estimators': 1000, 'learning_rate': 0.2611964469026167, 'num_leaves': 420, 'max_depth': 4, 'min_data_in_leaf': 350, 'lambda_l1': 65, 'lambda_l2': 45, 'min_gain_to_split': 3.2960636807465695, 'bagging_fraction': 0.9000000000000001, 'bagging_freq': 1, 'feature_fraction': 1.0}. Best is trial 7 with value: 0.40917669966240056.\n",
      "[I 2024-10-04 20:42:49,510] Trial 9 finished with value: 0.42669339822937624 and parameters: {'n_estimators': 2000, 'learning_rate': 0.19697881193824063, 'num_leaves': 600, 'max_depth': 4, 'min_data_in_leaf': 30, 'lambda_l1': 0, 'lambda_l2': 100, 'min_gain_to_split': 3.5878415284114293, 'bagging_fraction': 0.4, 'bagging_freq': 1, 'feature_fraction': 0.8}. Best is trial 9 with value: 0.42669339822937624.\n",
      "[I 2024-10-04 20:42:52,241] Trial 10 finished with value: 0.424560590694841 and parameters: {'n_estimators': 2000, 'learning_rate': 0.22695009017623669, 'num_leaves': 1420, 'max_depth': 5, 'min_data_in_leaf': 40, 'lambda_l1': 0, 'lambda_l2': 80, 'min_gain_to_split': 5.842975475650752, 'bagging_fraction': 0.4, 'bagging_freq': 1, 'feature_fraction': 0.7}. Best is trial 9 with value: 0.42669339822937624.\n",
      "[I 2024-10-04 20:42:54,956] Trial 11 finished with value: 0.4226706265704889 and parameters: {'n_estimators': 2000, 'learning_rate': 0.22451472891491792, 'num_leaves': 1400, 'max_depth': 3, 'min_data_in_leaf': 20, 'lambda_l1': 0, 'lambda_l2': 100, 'min_gain_to_split': 5.584350841736976, 'bagging_fraction': 0.4, 'bagging_freq': 1, 'feature_fraction': 0.7}. Best is trial 9 with value: 0.42669339822937624.\n",
      "[I 2024-10-04 20:42:57,697] Trial 12 finished with value: 0.4107343554170624 and parameters: {'n_estimators': 2000, 'learning_rate': 0.14526545609296332, 'num_leaves': 1320, 'max_depth': 6, 'min_data_in_leaf': 170, 'lambda_l1': 0, 'lambda_l2': 75, 'min_gain_to_split': 6.19175430984145, 'bagging_fraction': 0.4, 'bagging_freq': 1, 'feature_fraction': 0.8}. Best is trial 9 with value: 0.42669339822937624.\n",
      "[I 2024-10-04 20:43:00,460] Trial 13 finished with value: 0.4391008485507122 and parameters: {'n_estimators': 2000, 'learning_rate': 0.23490860529682264, 'num_leaves': 2080, 'max_depth': 5, 'min_data_in_leaf': 20, 'lambda_l1': 20, 'lambda_l2': 85, 'min_gain_to_split': 5.460579235858905, 'bagging_fraction': 0.4, 'bagging_freq': 1, 'feature_fraction': 0.7}. Best is trial 13 with value: 0.4391008485507122.\n",
      "[I 2024-10-04 20:43:03,099] Trial 14 finished with value: 0.42798416104948156 and parameters: {'n_estimators': 2000, 'learning_rate': 0.29421362165236514, 'num_leaves': 2240, 'max_depth': 3, 'min_data_in_leaf': 150, 'lambda_l1': 20, 'lambda_l2': 100, 'min_gain_to_split': 3.5799634313329824, 'bagging_fraction': 0.8, 'bagging_freq': 1, 'feature_fraction': 0.9000000000000001}. Best is trial 13 with value: 0.4391008485507122.\n",
      "[I 2024-10-04 20:43:05,356] Trial 15 finished with value: 0.42828842179152204 and parameters: {'n_estimators': 2000, 'learning_rate': 0.29573043404076327, 'num_leaves': 2420, 'max_depth': 3, 'min_data_in_leaf': 150, 'lambda_l1': 25, 'lambda_l2': 40, 'min_gain_to_split': 7.376022857687196, 'bagging_fraction': 1.0, 'bagging_freq': 1, 'feature_fraction': 0.9000000000000001}. Best is trial 13 with value: 0.4391008485507122.\n",
      "[I 2024-10-04 20:43:07,657] Trial 16 finished with value: 0.4215661705860002 and parameters: {'n_estimators': 2000, 'learning_rate': 0.29997828707156693, 'num_leaves': 2140, 'max_depth': 8, 'min_data_in_leaf': 230, 'lambda_l1': 25, 'lambda_l2': 40, 'min_gain_to_split': 7.979161598968037, 'bagging_fraction': 1.0, 'bagging_freq': 1, 'feature_fraction': 0.6000000000000001}. Best is trial 13 with value: 0.4391008485507122.\n",
      "[I 2024-10-04 20:43:09,944] Trial 17 finished with value: 0.4245552593276597 and parameters: {'n_estimators': 2000, 'learning_rate': 0.24837244973255038, 'num_leaves': 2040, 'max_depth': 5, 'min_data_in_leaf': 110, 'lambda_l1': 25, 'lambda_l2': 30, 'min_gain_to_split': 11.678915624694293, 'bagging_fraction': 1.0, 'bagging_freq': 1, 'feature_fraction': 0.9000000000000001}. Best is trial 13 with value: 0.4391008485507122.\n",
      "[I 2024-10-04 20:43:10,382] Trial 18 finished with value: 0.40211466603417145 and parameters: {'n_estimators': 100, 'learning_rate': 0.23766364370586518, 'num_leaves': 2880, 'max_depth': 6, 'min_data_in_leaf': 260, 'lambda_l1': 15, 'lambda_l2': 60, 'min_gain_to_split': 7.241014431214055, 'bagging_fraction': 0.8, 'bagging_freq': 1, 'feature_fraction': 0.6000000000000001}. Best is trial 13 with value: 0.4391008485507122.\n",
      "[I 2024-10-04 20:43:13,577] Trial 19 finished with value: 0.40730606102065947 and parameters: {'n_estimators': 2000, 'learning_rate': 0.2740358883401464, 'num_leaves': 2440, 'max_depth': 3, 'min_data_in_leaf': 130, 'lambda_l1': 35, 'lambda_l2': 25, 'min_gain_to_split': 10.486405959441365, 'bagging_fraction': 0.5, 'bagging_freq': 1, 'feature_fraction': 0.9000000000000001}. Best is trial 13 with value: 0.4391008485507122.\n",
      "[I 2024-10-04 20:43:16,205] Trial 20 finished with value: 0.42999904233710073 and parameters: {'n_estimators': 2000, 'learning_rate': 0.1728996403092037, 'num_leaves': 1780, 'max_depth': 5, 'min_data_in_leaf': 210, 'lambda_l1': 35, 'lambda_l2': 15, 'min_gain_to_split': 4.8724373922758035, 'bagging_fraction': 0.8, 'bagging_freq': 1, 'feature_fraction': 0.7}. Best is trial 13 with value: 0.4391008485507122.\n",
      "[I 2024-10-04 20:43:18,866] Trial 21 finished with value: 0.43422948704161735 and parameters: {'n_estimators': 2000, 'learning_rate': 0.12835403993073088, 'num_leaves': 1860, 'max_depth': 5, 'min_data_in_leaf': 230, 'lambda_l1': 35, 'lambda_l2': 15, 'min_gain_to_split': 4.924493130520335, 'bagging_fraction': 0.9000000000000001, 'bagging_freq': 1, 'feature_fraction': 0.7}. Best is trial 13 with value: 0.4391008485507122.\n",
      "[I 2024-10-04 20:43:21,434] Trial 22 finished with value: 0.4253572611085359 and parameters: {'n_estimators': 2000, 'learning_rate': 0.11646467036854732, 'num_leaves': 1780, 'max_depth': 7, 'min_data_in_leaf': 330, 'lambda_l1': 35, 'lambda_l2': 15, 'min_gain_to_split': 4.572957389166331, 'bagging_fraction': 0.8, 'bagging_freq': 1, 'feature_fraction': 0.7}. Best is trial 13 with value: 0.4391008485507122.\n",
      "[I 2024-10-04 20:43:24,029] Trial 23 finished with value: 0.4278950856926427 and parameters: {'n_estimators': 2000, 'learning_rate': 0.17549955042237056, 'num_leaves': 1060, 'max_depth': 5, 'min_data_in_leaf': 220, 'lambda_l1': 40, 'lambda_l2': 10, 'min_gain_to_split': 1.5312000684448517, 'bagging_fraction': 0.9000000000000001, 'bagging_freq': 1, 'feature_fraction': 0.7}. Best is trial 13 with value: 0.4391008485507122.\n",
      "[I 2024-10-04 20:43:26,578] Trial 24 finished with value: 0.3930337732405914 and parameters: {'n_estimators': 2000, 'learning_rate': 0.12439148175800507, 'num_leaves': 1780, 'max_depth': 8, 'min_data_in_leaf': 380, 'lambda_l1': 10, 'lambda_l2': 15, 'min_gain_to_split': 4.962227874191463, 'bagging_fraction': 0.7, 'bagging_freq': 1, 'feature_fraction': 0.5}. Best is trial 13 with value: 0.4391008485507122.\n",
      "[I 2024-10-04 20:43:29,205] Trial 25 finished with value: 0.3909240234196044 and parameters: {'n_estimators': 2000, 'learning_rate': 0.16746777946294902, 'num_leaves': 1800, 'max_depth': 5, 'min_data_in_leaf': 280, 'lambda_l1': 45, 'lambda_l2': 30, 'min_gain_to_split': 2.0696560690026002, 'bagging_fraction': 0.9000000000000001, 'bagging_freq': 1, 'feature_fraction': 0.6000000000000001}. Best is trial 13 with value: 0.4391008485507122.\n",
      "[I 2024-10-04 20:43:30,072] Trial 26 finished with value: 0.38121164281374886 and parameters: {'n_estimators': 500, 'learning_rate': 0.07592662689050178, 'num_leaves': 960, 'max_depth': 6, 'min_data_in_leaf': 220, 'lambda_l1': 15, 'lambda_l2': 20, 'min_gain_to_split': 6.648187907003349, 'bagging_fraction': 0.7, 'bagging_freq': 1, 'feature_fraction': 0.8}. Best is trial 13 with value: 0.4391008485507122.\n",
      "[I 2024-10-04 20:43:31,848] Trial 27 finished with value: 0.44594481254717766 and parameters: {'n_estimators': 1000, 'learning_rate': 0.13702811420554514, 'num_leaves': 1940, 'max_depth': 4, 'min_data_in_leaf': 60, 'lambda_l1': 30, 'lambda_l2': 35, 'min_gain_to_split': 4.601113025900064, 'bagging_fraction': 0.5, 'bagging_freq': 1, 'feature_fraction': 0.7}. Best is trial 27 with value: 0.44594481254717766.\n",
      "[I 2024-10-04 20:43:33,898] Trial 28 finished with value: 0.44545836001468164 and parameters: {'n_estimators': 1000, 'learning_rate': 0.13338433110373632, 'num_leaves': 2600, 'max_depth': 4, 'min_data_in_leaf': 70, 'lambda_l1': 10, 'lambda_l2': 35, 'min_gain_to_split': 2.5969795185953854, 'bagging_fraction': 0.5, 'bagging_freq': 1, 'feature_fraction': 0.6000000000000001}. Best is trial 27 with value: 0.44594481254717766.\n",
      "[I 2024-10-04 20:43:37,598] Trial 29 finished with value: 0.4283544495823155 and parameters: {'n_estimators': 1000, 'learning_rate': 0.0994527036392367, 'num_leaves': 2640, 'max_depth': 4, 'min_data_in_leaf': 60, 'lambda_l1': 10, 'lambda_l2': 50, 'min_gain_to_split': 0.13532971088718604, 'bagging_fraction': 0.5, 'bagging_freq': 1, 'feature_fraction': 0.4}. Best is trial 27 with value: 0.44594481254717766.\n",
      "[I 2024-10-04 20:43:39,417] Trial 30 finished with value: 0.43685996482705103 and parameters: {'n_estimators': 1000, 'learning_rate': 0.13965236408897574, 'num_leaves': 3000, 'max_depth': 12, 'min_data_in_leaf': 80, 'lambda_l1': 10, 'lambda_l2': 70, 'min_gain_to_split': 14.823969783674055, 'bagging_fraction': 0.5, 'bagging_freq': 1, 'feature_fraction': 0.5}. Best is trial 27 with value: 0.44594481254717766.\n",
      "[I 2024-10-04 20:43:41,329] Trial 31 finished with value: 0.41900194620413844 and parameters: {'n_estimators': 1000, 'learning_rate': 0.1356849700734449, 'num_leaves': 2560, 'max_depth': 12, 'min_data_in_leaf': 80, 'lambda_l1': 15, 'lambda_l2': 70, 'min_gain_to_split': 14.37650517900643, 'bagging_fraction': 0.5, 'bagging_freq': 1, 'feature_fraction': 0.5}. Best is trial 27 with value: 0.44594481254717766.\n",
      "[I 2024-10-04 20:43:43,111] Trial 32 finished with value: 0.4131232585007816 and parameters: {'n_estimators': 1000, 'learning_rate': 0.1540763296308696, 'num_leaves': 2980, 'max_depth': 12, 'min_data_in_leaf': 70, 'lambda_l1': 100, 'lambda_l2': 90, 'min_gain_to_split': 3.1195432827623684, 'bagging_fraction': 0.5, 'bagging_freq': 1, 'feature_fraction': 0.4}. Best is trial 27 with value: 0.44594481254717766.\n",
      "[I 2024-10-04 20:43:44,861] Trial 33 finished with value: 0.4185509075915991 and parameters: {'n_estimators': 1000, 'learning_rate': 0.2061807886229725, 'num_leaves': 2640, 'max_depth': 9, 'min_data_in_leaf': 90, 'lambda_l1': 10, 'lambda_l2': 65, 'min_gain_to_split': 2.4613751433904163, 'bagging_fraction': 0.30000000000000004, 'bagging_freq': 1, 'feature_fraction': 0.6000000000000001}. Best is trial 27 with value: 0.44594481254717766.\n",
      "[I 2024-10-04 20:43:46,711] Trial 34 finished with value: 0.4234485259386138 and parameters: {'n_estimators': 1000, 'learning_rate': 0.1035034592175033, 'num_leaves': 2260, 'max_depth': 4, 'min_data_in_leaf': 50, 'lambda_l1': 25, 'lambda_l2': 90, 'min_gain_to_split': 1.3359364237180655, 'bagging_fraction': 0.2, 'bagging_freq': 1, 'feature_fraction': 0.5}. Best is trial 27 with value: 0.44594481254717766.\n",
      "[I 2024-10-04 20:43:48,332] Trial 35 finished with value: 0.44497576307576525 and parameters: {'n_estimators': 1000, 'learning_rate': 0.059953442963385006, 'num_leaves': 2740, 'max_depth': 11, 'min_data_in_leaf': 110, 'lambda_l1': 5, 'lambda_l2': 35, 'min_gain_to_split': 14.670515441859456, 'bagging_fraction': 0.6000000000000001, 'bagging_freq': 1, 'feature_fraction': 0.6000000000000001}. Best is trial 27 with value: 0.44594481254717766.\n",
      "[I 2024-10-04 20:43:49,947] Trial 36 finished with value: 0.44064488536955193 and parameters: {'n_estimators': 1000, 'learning_rate': 0.056464711536518886, 'num_leaves': 2740, 'max_depth': 11, 'min_data_in_leaf': 120, 'lambda_l1': 5, 'lambda_l2': 35, 'min_gain_to_split': 12.427974094886618, 'bagging_fraction': 0.6000000000000001, 'bagging_freq': 1, 'feature_fraction': 0.6000000000000001}. Best is trial 27 with value: 0.44594481254717766.\n",
      "[I 2024-10-04 20:43:51,596] Trial 37 finished with value: 0.44146330082590646 and parameters: {'n_estimators': 1000, 'learning_rate': 0.04195602956043229, 'num_leaves': 2760, 'max_depth': 11, 'min_data_in_leaf': 110, 'lambda_l1': 5, 'lambda_l2': 35, 'min_gain_to_split': 13.513393137874084, 'bagging_fraction': 0.6000000000000001, 'bagging_freq': 1, 'feature_fraction': 0.6000000000000001}. Best is trial 27 with value: 0.44594481254717766.\n",
      "[I 2024-10-04 20:43:53,378] Trial 38 finished with value: 0.42775750372054866 and parameters: {'n_estimators': 1000, 'learning_rate': 0.016423370485722306, 'num_leaves': 2800, 'max_depth': 10, 'min_data_in_leaf': 180, 'lambda_l1': 5, 'lambda_l2': 45, 'min_gain_to_split': 14.12753514683898, 'bagging_fraction': 0.6000000000000001, 'bagging_freq': 1, 'feature_fraction': 0.30000000000000004}. Best is trial 27 with value: 0.44594481254717766.\n",
      "[I 2024-10-04 20:43:55,051] Trial 39 finished with value: 0.4127925719633654 and parameters: {'n_estimators': 1000, 'learning_rate': 0.03795743888146362, 'num_leaves': 2420, 'max_depth': 11, 'min_data_in_leaf': 100, 'lambda_l1': 20, 'lambda_l2': 35, 'min_gain_to_split': 12.6864022350826, 'bagging_fraction': 0.7, 'bagging_freq': 1, 'feature_fraction': 0.4}. Best is trial 27 with value: 0.44594481254717766.\n",
      "[I 2024-10-04 20:43:56,481] Trial 40 finished with value: 0.3885871845161475 and parameters: {'n_estimators': 1000, 'learning_rate': 0.06546663103441598, 'num_leaves': 2520, 'max_depth': 9, 'min_data_in_leaf': 140, 'lambda_l1': 75, 'lambda_l2': 50, 'min_gain_to_split': 11.464486872022011, 'bagging_fraction': 0.6000000000000001, 'bagging_freq': 1, 'feature_fraction': 0.6000000000000001}. Best is trial 27 with value: 0.44594481254717766.\n",
      "[I 2024-10-04 20:43:58,084] Trial 41 finished with value: 0.4256631799405698 and parameters: {'n_estimators': 1000, 'learning_rate': 0.049308367897597585, 'num_leaves': 2740, 'max_depth': 11, 'min_data_in_leaf': 120, 'lambda_l1': 5, 'lambda_l2': 30, 'min_gain_to_split': 13.336427691603589, 'bagging_fraction': 0.6000000000000001, 'bagging_freq': 1, 'feature_fraction': 0.6000000000000001}. Best is trial 27 with value: 0.44594481254717766.\n",
      "[I 2024-10-04 20:43:59,896] Trial 42 finished with value: 0.437662871795496 and parameters: {'n_estimators': 1000, 'learning_rate': 0.030084260008016016, 'num_leaves': 2740, 'max_depth': 11, 'min_data_in_leaf': 100, 'lambda_l1': 5, 'lambda_l2': 40, 'min_gain_to_split': 13.417785038348514, 'bagging_fraction': 0.6000000000000001, 'bagging_freq': 1, 'feature_fraction': 0.6000000000000001}. Best is trial 27 with value: 0.44594481254717766.\n",
      "[I 2024-10-04 20:44:01,798] Trial 43 finished with value: 0.44177488756060035 and parameters: {'n_estimators': 1000, 'learning_rate': 0.059784645380858335, 'num_leaves': 2860, 'max_depth': 10, 'min_data_in_leaf': 60, 'lambda_l1': 5, 'lambda_l2': 35, 'min_gain_to_split': 12.419788576486715, 'bagging_fraction': 0.5, 'bagging_freq': 1, 'feature_fraction': 0.5}. Best is trial 27 with value: 0.44594481254717766.\n",
      "[I 2024-10-04 20:44:02,268] Trial 44 finished with value: 0.42259561077940944 and parameters: {'n_estimators': 100, 'learning_rate': 0.08663390183102285, 'num_leaves': 2300, 'max_depth': 9, 'min_data_in_leaf': 50, 'lambda_l1': 15, 'lambda_l2': 35, 'min_gain_to_split': 13.947342321112744, 'bagging_fraction': 0.5, 'bagging_freq': 1, 'feature_fraction': 0.5}. Best is trial 27 with value: 0.44594481254717766.\n",
      "[I 2024-10-04 20:44:04,038] Trial 45 finished with value: 0.42165326146460613 and parameters: {'n_estimators': 1000, 'learning_rate': 0.06944861279848315, 'num_leaves': 2880, 'max_depth': 10, 'min_data_in_leaf': 40, 'lambda_l1': 0, 'lambda_l2': 25, 'min_gain_to_split': 11.90602402071295, 'bagging_fraction': 0.5, 'bagging_freq': 1, 'feature_fraction': 0.2}. Best is trial 27 with value: 0.44594481254717766.\n",
      "[I 2024-10-04 20:44:04,810] Trial 46 finished with value: 0.353147681992121 and parameters: {'n_estimators': 500, 'learning_rate': 0.034059462310724264, 'num_leaves': 100, 'max_depth': 10, 'min_data_in_leaf': 60, 'lambda_l1': 30, 'lambda_l2': 45, 'min_gain_to_split': 10.491762052312744, 'bagging_fraction': 0.4, 'bagging_freq': 1, 'feature_fraction': 0.5}. Best is trial 27 with value: 0.44594481254717766.\n",
      "[I 2024-10-04 20:44:06,273] Trial 47 finished with value: 0.4304385606869746 and parameters: {'n_estimators': 1000, 'learning_rate': 0.09320062042822391, 'num_leaves': 1960, 'max_depth': 12, 'min_data_in_leaf': 20, 'lambda_l1': 5, 'lambda_l2': 55, 'min_gain_to_split': 9.452311131421665, 'bagging_fraction': 0.7, 'bagging_freq': 1, 'feature_fraction': 0.8}. Best is trial 27 with value: 0.44594481254717766.\n",
      "[I 2024-10-04 20:44:07,728] Trial 48 finished with value: 0.40851070140250845 and parameters: {'n_estimators': 1000, 'learning_rate': 0.10971849905053016, 'num_leaves': 1540, 'max_depth': 11, 'min_data_in_leaf': 170, 'lambda_l1': 55, 'lambda_l2': 0, 'min_gain_to_split': 8.2690134789741, 'bagging_fraction': 0.4, 'bagging_freq': 1, 'feature_fraction': 0.7}. Best is trial 27 with value: 0.44594481254717766.\n",
      "[I 2024-10-04 20:44:09,998] Trial 49 finished with value: 0.4301873932924343 and parameters: {'n_estimators': 1000, 'learning_rate': 0.01341896698049224, 'num_leaves': 2600, 'max_depth': 8, 'min_data_in_leaf': 80, 'lambda_l1': 20, 'lambda_l2': 20, 'min_gain_to_split': 4.1994272467955565, 'bagging_fraction': 0.30000000000000004, 'bagging_freq': 1, 'feature_fraction': 0.5}. Best is trial 27 with value: 0.44594481254717766.\n",
      "[I 2024-10-04 20:44:10,497] Trial 50 finished with value: 0.4067774177702326 and parameters: {'n_estimators': 100, 'learning_rate': 0.0578096235829971, 'num_leaves': 2320, 'max_depth': 10, 'min_data_in_leaf': 150, 'lambda_l1': 0, 'lambda_l2': 40, 'min_gain_to_split': 11.16478605782611, 'bagging_fraction': 0.6000000000000001, 'bagging_freq': 1, 'feature_fraction': 0.8}. Best is trial 27 with value: 0.44594481254717766.\n",
      "[I 2024-10-04 20:44:12,140] Trial 51 finished with value: 0.4062601867124829 and parameters: {'n_estimators': 1000, 'learning_rate': 0.046414463976566, 'num_leaves': 2700, 'max_depth': 11, 'min_data_in_leaf': 110, 'lambda_l1': 5, 'lambda_l2': 35, 'min_gain_to_split': 12.418697492889963, 'bagging_fraction': 0.6000000000000001, 'bagging_freq': 1, 'feature_fraction': 0.6000000000000001}. Best is trial 27 with value: 0.44594481254717766.\n",
      "[I 2024-10-04 20:44:14,039] Trial 52 finished with value: 0.4436668340446899 and parameters: {'n_estimators': 1000, 'learning_rate': 0.05568318286072282, 'num_leaves': 2860, 'max_depth': 11, 'min_data_in_leaf': 130, 'lambda_l1': 10, 'lambda_l2': 25, 'min_gain_to_split': 14.942592797116738, 'bagging_fraction': 0.5, 'bagging_freq': 1, 'feature_fraction': 0.6000000000000001}. Best is trial 27 with value: 0.44594481254717766.\n",
      "[I 2024-10-04 20:44:15,985] Trial 53 finished with value: 0.4366872636724153 and parameters: {'n_estimators': 1000, 'learning_rate': 0.0746547724471206, 'num_leaves': 2880, 'max_depth': 12, 'min_data_in_leaf': 40, 'lambda_l1': 10, 'lambda_l2': 30, 'min_gain_to_split': 14.879752327721523, 'bagging_fraction': 0.5, 'bagging_freq': 1, 'feature_fraction': 0.7}. Best is trial 27 with value: 0.44594481254717766.\n",
      "[I 2024-10-04 20:44:17,825] Trial 54 finished with value: 0.4267044484201137 and parameters: {'n_estimators': 1000, 'learning_rate': 0.02239504646624051, 'num_leaves': 3000, 'max_depth': 9, 'min_data_in_leaf': 130, 'lambda_l1': 15, 'lambda_l2': 25, 'min_gain_to_split': 13.66151434139912, 'bagging_fraction': 0.4, 'bagging_freq': 1, 'feature_fraction': 0.6000000000000001}. Best is trial 27 with value: 0.44594481254717766.\n",
      "[I 2024-10-04 20:44:18,910] Trial 55 finished with value: 0.4003563707205815 and parameters: {'n_estimators': 500, 'learning_rate': 0.08133673723222865, 'num_leaves': 2500, 'max_depth': 7, 'min_data_in_leaf': 70, 'lambda_l1': 30, 'lambda_l2': 20, 'min_gain_to_split': 12.940750166287001, 'bagging_fraction': 0.5, 'bagging_freq': 1, 'feature_fraction': 0.7}. Best is trial 27 with value: 0.44594481254717766.\n",
      "[I 2024-10-04 20:44:20,749] Trial 56 finished with value: 0.423883696780893 and parameters: {'n_estimators': 1000, 'learning_rate': 0.04287586256322539, 'num_leaves': 1620, 'max_depth': 10, 'min_data_in_leaf': 200, 'lambda_l1': 0, 'lambda_l2': 50, 'min_gain_to_split': 14.351292160798952, 'bagging_fraction': 0.5, 'bagging_freq': 1, 'feature_fraction': 0.5}. Best is trial 27 with value: 0.44594481254717766.\n",
      "[I 2024-10-04 20:44:22,762] Trial 57 finished with value: 0.4478943923383084 and parameters: {'n_estimators': 1000, 'learning_rate': 0.0604779964706073, 'num_leaves': 2860, 'max_depth': 4, 'min_data_in_leaf': 160, 'lambda_l1': 10, 'lambda_l2': 25, 'min_gain_to_split': 2.895921862936391, 'bagging_fraction': 0.6000000000000001, 'bagging_freq': 1, 'feature_fraction': 0.6000000000000001}. Best is trial 57 with value: 0.4478943923383084.\n",
      "[I 2024-10-04 20:44:24,874] Trial 58 finished with value: 0.4325939111014089 and parameters: {'n_estimators': 1000, 'learning_rate': 0.06280774010471928, 'num_leaves': 2160, 'max_depth': 4, 'min_data_in_leaf': 180, 'lambda_l1': 20, 'lambda_l2': 5, 'min_gain_to_split': 0.8068592338884426, 'bagging_fraction': 0.4, 'bagging_freq': 1, 'feature_fraction': 0.4}. Best is trial 57 with value: 0.4478943923383084.\n",
      "[I 2024-10-04 20:44:25,361] Trial 59 finished with value: 0.4238262898679416 and parameters: {'n_estimators': 100, 'learning_rate': 0.18985745390657285, 'num_leaves': 2880, 'max_depth': 3, 'min_data_in_leaf': 150, 'lambda_l1': 45, 'lambda_l2': 25, 'min_gain_to_split': 3.041983370159015, 'bagging_fraction': 0.7, 'bagging_freq': 1, 'feature_fraction': 0.7}. Best is trial 57 with value: 0.4478943923383084.\n",
      "[I 2024-10-04 20:44:27,184] Trial 60 finished with value: 0.4522599422158037 and parameters: {'n_estimators': 1000, 'learning_rate': 0.1182697653790317, 'num_leaves': 2380, 'max_depth': 4, 'min_data_in_leaf': 30, 'lambda_l1': 10, 'lambda_l2': 45, 'min_gain_to_split': 2.734401696554145, 'bagging_fraction': 0.4, 'bagging_freq': 1, 'feature_fraction': 0.5}. Best is trial 60 with value: 0.4522599422158037.\n",
      "[I 2024-10-04 20:44:29,011] Trial 61 finished with value: 0.4228383018573435 and parameters: {'n_estimators': 1000, 'learning_rate': 0.16245327833465495, 'num_leaves': 2380, 'max_depth': 4, 'min_data_in_leaf': 20, 'lambda_l1': 10, 'lambda_l2': 45, 'min_gain_to_split': 2.604501457645447, 'bagging_fraction': 0.30000000000000004, 'bagging_freq': 1, 'feature_fraction': 0.5}. Best is trial 60 with value: 0.4522599422158037.\n",
      "[I 2024-10-04 20:44:30,757] Trial 62 finished with value: 0.42996741238505276 and parameters: {'n_estimators': 1000, 'learning_rate': 0.12082493127505813, 'num_leaves': 2620, 'max_depth': 4, 'min_data_in_leaf': 90, 'lambda_l1': 15, 'lambda_l2': 30, 'min_gain_to_split': 3.9971795453612344, 'bagging_fraction': 0.4, 'bagging_freq': 1, 'feature_fraction': 0.6000000000000001}. Best is trial 60 with value: 0.4522599422158037.\n",
      "[I 2024-10-04 20:44:32,805] Trial 63 finished with value: 0.43005872448253324 and parameters: {'n_estimators': 1000, 'learning_rate': 0.14782348831483194, 'num_leaves': 2920, 'max_depth': 3, 'min_data_in_leaf': 60, 'lambda_l1': 25, 'lambda_l2': 40, 'min_gain_to_split': 1.7500395627966228, 'bagging_fraction': 0.5, 'bagging_freq': 1, 'feature_fraction': 0.5}. Best is trial 60 with value: 0.4522599422158037.\n",
      "[I 2024-10-04 20:44:34,947] Trial 64 finished with value: 0.4392198821342236 and parameters: {'n_estimators': 1000, 'learning_rate': 0.09535213129988192, 'num_leaves': 2540, 'max_depth': 4, 'min_data_in_leaf': 40, 'lambda_l1': 10, 'lambda_l2': 55, 'min_gain_to_split': 2.693533330541232, 'bagging_fraction': 0.5, 'bagging_freq': 1, 'feature_fraction': 0.4}. Best is trial 60 with value: 0.4522599422158037.\n",
      "[I 2024-10-04 20:44:36,889] Trial 65 finished with value: 0.40836741045200653 and parameters: {'n_estimators': 1000, 'learning_rate': 0.1343427817239554, 'num_leaves': 2180, 'max_depth': 3, 'min_data_in_leaf': 90, 'lambda_l1': 30, 'lambda_l2': 20, 'min_gain_to_split': 0.7723018006381341, 'bagging_fraction': 0.4, 'bagging_freq': 1, 'feature_fraction': 0.6000000000000001}. Best is trial 60 with value: 0.4522599422158037.\n",
      "[I 2024-10-04 20:44:37,890] Trial 66 finished with value: 0.38409216493770515 and parameters: {'n_estimators': 500, 'learning_rate': 0.056688300697643405, 'num_leaves': 2020, 'max_depth': 6, 'min_data_in_leaf': 400, 'lambda_l1': 0, 'lambda_l2': 25, 'min_gain_to_split': 3.5446311876695296, 'bagging_fraction': 0.5, 'bagging_freq': 1, 'feature_fraction': 0.6000000000000001}. Best is trial 60 with value: 0.4522599422158037.\n",
      "[I 2024-10-04 20:44:39,503] Trial 67 finished with value: 0.45182503813269215 and parameters: {'n_estimators': 1000, 'learning_rate': 0.11052628582822331, 'num_leaves': 2660, 'max_depth': 5, 'min_data_in_leaf': 30, 'lambda_l1': 20, 'lambda_l2': 10, 'min_gain_to_split': 4.426822957185102, 'bagging_fraction': 0.6000000000000001, 'bagging_freq': 1, 'feature_fraction': 0.7}. Best is trial 60 with value: 0.4522599422158037.\n",
      "[I 2024-10-04 20:44:41,038] Trial 68 finished with value: 0.42108297132374484 and parameters: {'n_estimators': 1000, 'learning_rate': 0.11571722670264195, 'num_leaves': 2480, 'max_depth': 5, 'min_data_in_leaf': 250, 'lambda_l1': 20, 'lambda_l2': 0, 'min_gain_to_split': 6.197840000882631, 'bagging_fraction': 0.6000000000000001, 'bagging_freq': 1, 'feature_fraction': 0.8}. Best is trial 60 with value: 0.4522599422158037.\n",
      "[I 2024-10-04 20:44:42,739] Trial 69 finished with value: 0.44804789116893995 and parameters: {'n_estimators': 1000, 'learning_rate': 0.10696328136603134, 'num_leaves': 2660, 'max_depth': 5, 'min_data_in_leaf': 30, 'lambda_l1': 15, 'lambda_l2': 10, 'min_gain_to_split': 2.171937083540346, 'bagging_fraction': 0.7, 'bagging_freq': 1, 'feature_fraction': 0.7}. Best is trial 60 with value: 0.4522599422158037.\n",
      "[I 2024-10-04 20:44:44,513] Trial 70 finished with value: 0.4643139651634871 and parameters: {'n_estimators': 1000, 'learning_rate': 0.10937483004627814, 'num_leaves': 2360, 'max_depth': 5, 'min_data_in_leaf': 30, 'lambda_l1': 20, 'lambda_l2': 10, 'min_gain_to_split': 2.055382197056, 'bagging_fraction': 0.7, 'bagging_freq': 1, 'feature_fraction': 0.7}. Best is trial 70 with value: 0.4643139651634871.\n",
      "[I 2024-10-04 20:44:46,155] Trial 71 finished with value: 0.4622618546364202 and parameters: {'n_estimators': 1000, 'learning_rate': 0.10962284127957511, 'num_leaves': 2340, 'max_depth': 5, 'min_data_in_leaf': 30, 'lambda_l1': 20, 'lambda_l2': 5, 'min_gain_to_split': 2.2064913186195927, 'bagging_fraction': 0.7, 'bagging_freq': 1, 'feature_fraction': 0.7}. Best is trial 70 with value: 0.4643139651634871.\n",
      "[I 2024-10-04 20:44:47,798] Trial 72 finished with value: 0.44388854090681185 and parameters: {'n_estimators': 1000, 'learning_rate': 0.10717506088956445, 'num_leaves': 2360, 'max_depth': 5, 'min_data_in_leaf': 30, 'lambda_l1': 30, 'lambda_l2': 5, 'min_gain_to_split': 2.2107633647245066, 'bagging_fraction': 0.8, 'bagging_freq': 1, 'feature_fraction': 0.7}. Best is trial 70 with value: 0.4643139651634871.\n",
      "[I 2024-10-04 20:44:49,430] Trial 73 finished with value: 0.4188516227683148 and parameters: {'n_estimators': 1000, 'learning_rate': 0.13154710585699822, 'num_leaves': 2120, 'max_depth': 6, 'min_data_in_leaf': 30, 'lambda_l1': 25, 'lambda_l2': 10, 'min_gain_to_split': 1.2126952243599811, 'bagging_fraction': 0.7, 'bagging_freq': 1, 'feature_fraction': 0.8}. Best is trial 70 with value: 0.4643139651634871.\n",
      "[I 2024-10-04 20:44:51,001] Trial 74 finished with value: 0.45090228001926314 and parameters: {'n_estimators': 1000, 'learning_rate': 0.14124442255067612, 'num_leaves': 1920, 'max_depth': 4, 'min_data_in_leaf': 20, 'lambda_l1': 15, 'lambda_l2': 10, 'min_gain_to_split': 2.9360065934210127, 'bagging_fraction': 0.8, 'bagging_freq': 1, 'feature_fraction': 0.7}. Best is trial 70 with value: 0.4643139651634871.\n",
      "[I 2024-10-04 20:44:52,573] Trial 75 finished with value: 0.4546046468251781 and parameters: {'n_estimators': 1000, 'learning_rate': 0.14449970395105405, 'num_leaves': 1920, 'max_depth': 5, 'min_data_in_leaf': 20, 'lambda_l1': 15, 'lambda_l2': 10, 'min_gain_to_split': 3.1234707511807165, 'bagging_fraction': 0.8, 'bagging_freq': 1, 'feature_fraction': 0.7}. Best is trial 70 with value: 0.4643139651634871.\n",
      "[I 2024-10-04 20:44:54,210] Trial 76 finished with value: 0.46060185477256954 and parameters: {'n_estimators': 1000, 'learning_rate': 0.11198906117222626, 'num_leaves': 1640, 'max_depth': 5, 'min_data_in_leaf': 20, 'lambda_l1': 20, 'lambda_l2': 10, 'min_gain_to_split': 1.9650622865373084, 'bagging_fraction': 0.8, 'bagging_freq': 1, 'feature_fraction': 0.7}. Best is trial 70 with value: 0.4643139651634871.\n",
      "[I 2024-10-04 20:44:54,736] Trial 77 finished with value: 0.4220268889118739 and parameters: {'n_estimators': 100, 'learning_rate': 0.11635128511851522, 'num_leaves': 1680, 'max_depth': 5, 'min_data_in_leaf': 20, 'lambda_l1': 25, 'lambda_l2': 10, 'min_gain_to_split': 2.12401001896952, 'bagging_fraction': 0.8, 'bagging_freq': 1, 'feature_fraction': 0.8}. Best is trial 70 with value: 0.4643139651634871.\n",
      "[I 2024-10-04 20:44:56,282] Trial 78 finished with value: 0.4593096879075458 and parameters: {'n_estimators': 1000, 'learning_rate': 0.14749251206967523, 'num_leaves': 1220, 'max_depth': 6, 'min_data_in_leaf': 40, 'lambda_l1': 20, 'lambda_l2': 10, 'min_gain_to_split': 3.4306898832285073, 'bagging_fraction': 0.8, 'bagging_freq': 1, 'feature_fraction': 0.7}. Best is trial 70 with value: 0.4643139651634871.\n",
      "[I 2024-10-04 20:44:57,784] Trial 79 finished with value: 0.4536987517160479 and parameters: {'n_estimators': 1000, 'learning_rate': 0.15852970806877, 'num_leaves': 1260, 'max_depth': 6, 'min_data_in_leaf': 50, 'lambda_l1': 20, 'lambda_l2': 5, 'min_gain_to_split': 3.4104762340583967, 'bagging_fraction': 0.9000000000000001, 'bagging_freq': 1, 'feature_fraction': 0.8}. Best is trial 70 with value: 0.4643139651634871.\n",
      "[I 2024-10-04 20:44:59,320] Trial 80 finished with value: 0.456899017217376 and parameters: {'n_estimators': 1000, 'learning_rate': 0.15518603976458514, 'num_leaves': 1160, 'max_depth': 6, 'min_data_in_leaf': 50, 'lambda_l1': 20, 'lambda_l2': 5, 'min_gain_to_split': 3.8571631067638066, 'bagging_fraction': 0.9000000000000001, 'bagging_freq': 1, 'feature_fraction': 0.9000000000000001}. Best is trial 70 with value: 0.4643139651634871.\n",
      "[I 2024-10-04 20:45:00,865] Trial 81 finished with value: 0.45710510301660434 and parameters: {'n_estimators': 1000, 'learning_rate': 0.16061403561731116, 'num_leaves': 1200, 'max_depth': 6, 'min_data_in_leaf': 50, 'lambda_l1': 20, 'lambda_l2': 15, 'min_gain_to_split': 3.7922715177344277, 'bagging_fraction': 0.9000000000000001, 'bagging_freq': 1, 'feature_fraction': 1.0}. Best is trial 70 with value: 0.4643139651634871.\n",
      "[I 2024-10-04 20:45:02,416] Trial 82 finished with value: 0.4499524527601235 and parameters: {'n_estimators': 1000, 'learning_rate': 0.1610024434076516, 'num_leaves': 1200, 'max_depth': 6, 'min_data_in_leaf': 40, 'lambda_l1': 20, 'lambda_l2': 5, 'min_gain_to_split': 3.4058621674917435, 'bagging_fraction': 0.9000000000000001, 'bagging_freq': 1, 'feature_fraction': 1.0}. Best is trial 70 with value: 0.4643139651634871.\n",
      "[I 2024-10-04 20:45:03,808] Trial 83 finished with value: 0.45118283462593456 and parameters: {'n_estimators': 1000, 'learning_rate': 0.17556102250740951, 'num_leaves': 920, 'max_depth': 7, 'min_data_in_leaf': 50, 'lambda_l1': 25, 'lambda_l2': 15, 'min_gain_to_split': 3.841405416059315, 'bagging_fraction': 0.9000000000000001, 'bagging_freq': 1, 'feature_fraction': 0.9000000000000001}. Best is trial 70 with value: 0.4643139651634871.\n",
      "[I 2024-10-04 20:45:05,123] Trial 84 finished with value: 0.43225311061963656 and parameters: {'n_estimators': 1000, 'learning_rate': 0.14386801224775023, 'num_leaves': 1300, 'max_depth': 6, 'min_data_in_leaf': 50, 'lambda_l1': 70, 'lambda_l2': 5, 'min_gain_to_split': 1.6756938676785218, 'bagging_fraction': 1.0, 'bagging_freq': 1, 'feature_fraction': 0.9000000000000001}. Best is trial 70 with value: 0.4643139651634871.\n",
      "[I 2024-10-04 20:45:05,991] Trial 85 finished with value: 0.44660345350390507 and parameters: {'n_estimators': 500, 'learning_rate': 0.15386458584816615, 'num_leaves': 1040, 'max_depth': 6, 'min_data_in_leaf': 70, 'lambda_l1': 20, 'lambda_l2': 0, 'min_gain_to_split': 5.411283117069959, 'bagging_fraction': 0.9000000000000001, 'bagging_freq': 1, 'feature_fraction': 1.0}. Best is trial 70 with value: 0.4643139651634871.\n",
      "[I 2024-10-04 20:45:07,654] Trial 86 finished with value: 0.45163798604668626 and parameters: {'n_estimators': 1000, 'learning_rate': 0.1823032956968625, 'num_leaves': 1280, 'max_depth': 6, 'min_data_in_leaf': 50, 'lambda_l1': 35, 'lambda_l2': 15, 'min_gain_to_split': 0.6964949627931782, 'bagging_fraction': 0.8, 'bagging_freq': 1, 'feature_fraction': 0.9000000000000001}. Best is trial 70 with value: 0.4643139651634871.\n",
      "[I 2024-10-04 20:45:08,985] Trial 87 finished with value: 0.3597328258953363 and parameters: {'n_estimators': 1000, 'learning_rate': 0.16379294934706087, 'num_leaves': 1400, 'max_depth': 7, 'min_data_in_leaf': 480, 'lambda_l1': 40, 'lambda_l2': 5, 'min_gain_to_split': 3.339686972693786, 'bagging_fraction': 0.9000000000000001, 'bagging_freq': 1, 'feature_fraction': 1.0}. Best is trial 70 with value: 0.4643139651634871.\n",
      "[I 2024-10-04 20:45:10,142] Trial 88 finished with value: 0.3825975423062601 and parameters: {'n_estimators': 1000, 'learning_rate': 0.12665491681793803, 'num_leaves': 740, 'max_depth': 5, 'min_data_in_leaf': 80, 'lambda_l1': 85, 'lambda_l2': 0, 'min_gain_to_split': 3.7485864367147537, 'bagging_fraction': 1.0, 'bagging_freq': 1, 'feature_fraction': 0.8}. Best is trial 70 with value: 0.4643139651634871.\n",
      "[I 2024-10-04 20:45:11,588] Trial 89 finished with value: 0.45763832423349726 and parameters: {'n_estimators': 1000, 'learning_rate': 0.14827711206801836, 'num_leaves': 1160, 'max_depth': 6, 'min_data_in_leaf': 20, 'lambda_l1': 15, 'lambda_l2': 5, 'min_gain_to_split': 5.123357432999584, 'bagging_fraction': 0.8, 'bagging_freq': 1, 'feature_fraction': 0.9000000000000001}. Best is trial 70 with value: 0.4643139651634871.\n",
      "[I 2024-10-04 20:45:13,042] Trial 90 finished with value: 0.45513813952906124 and parameters: {'n_estimators': 1000, 'learning_rate': 0.2027398411985054, 'num_leaves': 1200, 'max_depth': 6, 'min_data_in_leaf': 40, 'lambda_l1': 15, 'lambda_l2': 0, 'min_gain_to_split': 5.187792643175541, 'bagging_fraction': 0.8, 'bagging_freq': 1, 'feature_fraction': 0.9000000000000001}. Best is trial 70 with value: 0.4643139651634871.\n",
      "[I 2024-10-04 20:45:14,468] Trial 91 finished with value: 0.42665793440729793 and parameters: {'n_estimators': 1000, 'learning_rate': 0.20872771717943703, 'num_leaves': 1160, 'max_depth': 6, 'min_data_in_leaf': 40, 'lambda_l1': 15, 'lambda_l2': 0, 'min_gain_to_split': 5.224729181812235, 'bagging_fraction': 0.8, 'bagging_freq': 1, 'feature_fraction': 0.9000000000000001}. Best is trial 70 with value: 0.4643139651634871.\n",
      "[I 2024-10-04 20:45:15,802] Trial 92 finished with value: 0.4548435321475418 and parameters: {'n_estimators': 1000, 'learning_rate': 0.1497439288037479, 'num_leaves': 860, 'max_depth': 7, 'min_data_in_leaf': 20, 'lambda_l1': 20, 'lambda_l2': 10, 'min_gain_to_split': 5.818033084137011, 'bagging_fraction': 0.8, 'bagging_freq': 1, 'feature_fraction': 1.0}. Best is trial 70 with value: 0.4643139651634871.\n",
      "[I 2024-10-04 20:45:17,113] Trial 93 finished with value: 0.44998055128059544 and parameters: {'n_estimators': 1000, 'learning_rate': 0.14999209684239712, 'num_leaves': 820, 'max_depth': 7, 'min_data_in_leaf': 20, 'lambda_l1': 25, 'lambda_l2': 10, 'min_gain_to_split': 5.891663646158584, 'bagging_fraction': 0.8, 'bagging_freq': 1, 'feature_fraction': 1.0}. Best is trial 70 with value: 0.4643139651634871.\n",
      "[I 2024-10-04 20:45:18,547] Trial 94 finished with value: 0.45081390233172014 and parameters: {'n_estimators': 1000, 'learning_rate': 0.19311347594695966, 'num_leaves': 1480, 'max_depth': 7, 'min_data_in_leaf': 70, 'lambda_l1': 20, 'lambda_l2': 15, 'min_gain_to_split': 6.694902825063163, 'bagging_fraction': 0.8, 'bagging_freq': 1, 'feature_fraction': 1.0}. Best is trial 70 with value: 0.4643139651634871.\n",
      "[I 2024-10-04 20:45:19,928] Trial 95 finished with value: 0.4416402922317788 and parameters: {'n_estimators': 1000, 'learning_rate': 0.17503656421814856, 'num_leaves': 1100, 'max_depth': 6, 'min_data_in_leaf': 40, 'lambda_l1': 15, 'lambda_l2': 5, 'min_gain_to_split': 4.194124687822812, 'bagging_fraction': 0.8, 'bagging_freq': 1, 'feature_fraction': 0.9000000000000001}. Best is trial 70 with value: 0.4643139651634871.\n",
      "[I 2024-10-04 20:45:21,351] Trial 96 finished with value: 0.4469635051762 and parameters: {'n_estimators': 1000, 'learning_rate': 0.1667847733957001, 'num_leaves': 1380, 'max_depth': 5, 'min_data_in_leaf': 60, 'lambda_l1': 30, 'lambda_l2': 0, 'min_gain_to_split': 4.692210357876573, 'bagging_fraction': 0.7, 'bagging_freq': 1, 'feature_fraction': 1.0}. Best is trial 70 with value: 0.4643139651634871.\n",
      "[I 2024-10-04 20:45:21,722] Trial 97 finished with value: 0.4422588365787735 and parameters: {'n_estimators': 100, 'learning_rate': 0.2162595184940213, 'num_leaves': 600, 'max_depth': 6, 'min_data_in_leaf': 20, 'lambda_l1': 25, 'lambda_l2': 10, 'min_gain_to_split': 4.3232707279059035, 'bagging_fraction': 0.7, 'bagging_freq': 1, 'feature_fraction': 0.9000000000000001}. Best is trial 70 with value: 0.4643139651634871.\n",
      "[I 2024-10-04 20:45:23,320] Trial 98 finished with value: 0.41552607310147105 and parameters: {'n_estimators': 1000, 'learning_rate': 0.12570659359891753, 'num_leaves': 960, 'max_depth': 7, 'min_data_in_leaf': 320, 'lambda_l1': 15, 'lambda_l2': 15, 'min_gain_to_split': 1.1743071689633227, 'bagging_fraction': 0.8, 'bagging_freq': 1, 'feature_fraction': 1.0}. Best is trial 70 with value: 0.4643139651634871.\n",
      "[I 2024-10-04 20:45:24,618] Trial 99 finished with value: 0.43366095994454446 and parameters: {'n_estimators': 1000, 'learning_rate': 0.18267058393866026, 'num_leaves': 720, 'max_depth': 8, 'min_data_in_leaf': 30, 'lambda_l1': 20, 'lambda_l2': 20, 'min_gain_to_split': 5.165675638025683, 'bagging_fraction': 0.9000000000000001, 'bagging_freq': 1, 'feature_fraction': 0.9000000000000001}. Best is trial 70 with value: 0.4643139651634871.\n"
     ]
    }
   ],
   "source": [
    "def objective(trial):\n",
    "    param_grid = {\n",
    "        # \"device_type\": trial.suggest_categorical(\"device_type\", ['gpu']),\n",
    "        \"n_estimators\": trial.suggest_categorical(\"n_estimators\", [100, 500, 1000, 2000]),\n",
    "        \"learning_rate\": trial.suggest_float(\"learning_rate\", 0.01, 0.3),\n",
    "        \"num_leaves\": trial.suggest_int(\"num_leaves\", 20, 3000, step=20),\n",
    "        \"max_depth\": trial.suggest_int(\"max_depth\", 3, 12),\n",
    "        \"min_data_in_leaf\": trial.suggest_int(\"min_data_in_leaf\", 20, 500, step=10),\n",
    "        \"lambda_l1\": trial.suggest_int(\"lambda_l1\", 0, 100, step=5),\n",
    "        \"lambda_l2\": trial.suggest_int(\"lambda_l2\", 0, 100, step=5),\n",
    "        \"min_gain_to_split\": trial.suggest_float(\"min_gain_to_split\", 0, 15),\n",
    "        \"bagging_fraction\": trial.suggest_float(\n",
    "            \"bagging_fraction\", 0.2, 1.0, step=0.1\n",
    "        ),\n",
    "        \"bagging_freq\": trial.suggest_categorical(\"bagging_freq\", [1]),\n",
    "        \"feature_fraction\": trial.suggest_float(\n",
    "            \"feature_fraction\", 0.2, 1.0, step=0.1\n",
    "        ),\n",
    "    }\n",
    "\n",
    "    skf = StratifiedKFold()\n",
    "    oof_raw = np.zeros(len(y), dtype=float) # oof predictions, before rounding\n",
    "    for fold, (tridx, validx) in enumerate(skf.split(X, y)):\n",
    "        model = lgb.LGBMRegressor(**param_grid, class_weight='balanced', verbose=-1)\n",
    "        model.fit(X[tridx], y[tridx].to_numpy().ravel())\n",
    "        oof_raw[validx] = model.predict(X[validx])\n",
    "\n",
    "    thresholds = minimize(evaluate, [0.5, 1.5, 2.5], args=(y, oof_raw), method='Nelder-Mead').x\n",
    "    y_pred_tuned = roundoff(oof_raw, thresholds=thresholds)\n",
    "    return quadratic_weighted_kappa(y, y_pred_tuned)\n",
    "\n",
    "study = optuna.create_study(direction=\"maximize\", study_name=\"LGBM Regressor\")\n",
    "study.optimize(objective, n_trials=100)"
   ]
  },
  {
   "cell_type": "code",
   "execution_count": 40,
   "metadata": {},
   "outputs": [
    {
     "data": {
      "text/plain": [
       "{'n_estimators': 1000,\n",
       " 'learning_rate': 0.10937483004627814,\n",
       " 'num_leaves': 2360,\n",
       " 'max_depth': 5,\n",
       " 'min_data_in_leaf': 30,\n",
       " 'lambda_l1': 20,\n",
       " 'lambda_l2': 10,\n",
       " 'min_gain_to_split': 2.055382197056,\n",
       " 'bagging_fraction': 0.7,\n",
       " 'bagging_freq': 1,\n",
       " 'feature_fraction': 0.7}"
      ]
     },
     "execution_count": 40,
     "metadata": {},
     "output_type": "execute_result"
    }
   ],
   "source": [
    "study.best_params"
   ]
  },
  {
   "cell_type": "code",
   "execution_count": 41,
   "metadata": {},
   "outputs": [
    {
     "data": {
      "text/plain": [
       "0.4643139651634871"
      ]
     },
     "execution_count": 41,
     "metadata": {},
     "output_type": "execute_result"
    }
   ],
   "source": [
    "study.best_value"
   ]
  },
  {
   "cell_type": "code",
   "execution_count": null,
   "metadata": {},
   "outputs": [],
   "source": []
  }
 ],
 "metadata": {
  "kernelspec": {
   "display_name": "venv",
   "language": "python",
   "name": "python3"
  },
  "language_info": {
   "codemirror_mode": {
    "name": "ipython",
    "version": 3
   },
   "file_extension": ".py",
   "mimetype": "text/x-python",
   "name": "python",
   "nbconvert_exporter": "python",
   "pygments_lexer": "ipython3",
   "version": "3.10.15"
  }
 },
 "nbformat": 4,
 "nbformat_minor": 2
}
