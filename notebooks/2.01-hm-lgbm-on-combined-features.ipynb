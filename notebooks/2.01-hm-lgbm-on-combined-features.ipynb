{
 "cells": [
  {
   "cell_type": "code",
   "execution_count": 1,
   "metadata": {},
   "outputs": [],
   "source": [
    "%%capture\n",
    "%load_ext autoreload\n",
    "%autoreload 2\n",
    "\n",
    "# We can also put these magic commands in `.vscode/settings.json` like this:\n",
    "# \"jupyter.runStartupCommands\": [\n",
    "#     \"%load_ext autoreload\",\n",
    "#     \"%autoreload 2\"\n",
    "# ]"
   ]
  },
  {
   "cell_type": "code",
   "execution_count": 2,
   "metadata": {},
   "outputs": [
    {
     "name": "stdout",
     "output_type": "stream",
     "text": [
      "All imports loaded successfully\n"
     ]
    }
   ],
   "source": [
    "import numpy as np\n",
    "import polars as pl\n",
    "import lightgbm as lgb\n",
    "from scipy.optimize import minimize\n",
    "from sklearn.impute import KNNImputer\n",
    "from sklearn.model_selection import StratifiedKFold\n",
    "from sklearn.metrics import cohen_kappa_score, accuracy_score\n",
    "\n",
    "print(\"All imports loaded successfully\")"
   ]
  },
  {
   "cell_type": "code",
   "execution_count": 3,
   "metadata": {},
   "outputs": [
    {
     "name": "stdout",
     "output_type": "stream",
     "text": [
      "shape: (5, 106)\n",
      "┌──────────┬────────────┬───────────┬───────────┬───┬───────────┬──────────┬───────────┬───────────┐\n",
      "│ id       ┆ Basic_Demo ┆ Basic_Dem ┆ Basic_Dem ┆ … ┆ Z_std     ┆ enmo_std ┆ light_std ┆ battery_v │\n",
      "│ ---      ┆ s-Enroll_S ┆ os-Age    ┆ os-Sex    ┆   ┆ ---       ┆ ---      ┆ ---       ┆ oltage_st │\n",
      "│ str      ┆ eason      ┆ ---       ┆ ---       ┆   ┆ f64       ┆ f64      ┆ f64       ┆ d         │\n",
      "│          ┆ ---        ┆ i64       ┆ i64       ┆   ┆           ┆          ┆           ┆ ---       │\n",
      "│          ┆ str        ┆           ┆           ┆   ┆           ┆          ┆           ┆ f64       │\n",
      "╞══════════╪════════════╪═══════════╪═══════════╪═══╪═══════════╪══════════╪═══════════╪═══════════╡\n",
      "│ 00008ff9 ┆ Fall       ┆ 5         ┆ 0         ┆ … ┆ null      ┆ null     ┆ null      ┆ null      │\n",
      "│ 000fd460 ┆ Summer     ┆ 9         ┆ 0         ┆ … ┆ null      ┆ null     ┆ null      ┆ null      │\n",
      "│ 00105258 ┆ Summer     ┆ 10        ┆ 1         ┆ … ┆ null      ┆ null     ┆ null      ┆ null      │\n",
      "│ 00115b9f ┆ Winter     ┆ 9         ┆ 0         ┆ … ┆ 0.5857097 ┆ 0.106351 ┆ 208.16898 ┆ 112.40404 │\n",
      "│ 0016bb22 ┆ Spring     ┆ 18        ┆ 1         ┆ … ┆ null      ┆ null     ┆ null      ┆ null      │\n",
      "└──────────┴────────────┴───────────┴───────────┴───┴───────────┴──────────┴───────────┴───────────┘\n"
     ]
    }
   ],
   "source": [
    "df_train = pl.read_csv('../input/processed/train_combined.csv')\n",
    "\n",
    "print(df_train.head())"
   ]
  },
  {
   "cell_type": "code",
   "execution_count": 4,
   "metadata": {},
   "outputs": [
    {
     "name": "stdout",
     "output_type": "stream",
     "text": [
      "Number of rows before dropping nulls: 3960\n",
      "Number of rows after dropping nulls: 2736\n"
     ]
    }
   ],
   "source": [
    "print(f'Number of rows before dropping nulls: {df_train.shape[0]}')\n",
    "df_train = df_train.drop_nulls(subset=['sii'])\n",
    "print(f'Number of rows after dropping nulls: {df_train.shape[0]}')"
   ]
  },
  {
   "cell_type": "code",
   "execution_count": 5,
   "metadata": {},
   "outputs": [
    {
     "name": "stdout",
     "output_type": "stream",
     "text": [
      "X shape: (2736, 105)\n",
      "y shape: (2736, 1)\n"
     ]
    }
   ],
   "source": [
    "X = df_train.drop('sii')\n",
    "y = df_train.select('sii')\n",
    "\n",
    "print(f\"X shape: {X.shape}\")\n",
    "print(f\"y shape: {y.shape}\")"
   ]
  },
  {
   "cell_type": "code",
   "execution_count": 6,
   "metadata": {},
   "outputs": [],
   "source": [
    "def feature_engineering(df, is_training=False, imputer=None):\n",
    "    df = df.with_columns(\n",
    "        PAQ_Total = pl.when(\n",
    "            (pl.col('PAQ_C-PAQ_C_Total').is_null()) | (pl.col('PAQ_A-PAQ_A_Total').is_null())\n",
    "        )\n",
    "        .then((pl.col('PAQ_C-PAQ_C_Total').fill_null(0) + pl.col('PAQ_A-PAQ_A_Total').fill_null(0))/2)\n",
    "        .otherwise(pl.lit(None)),\n",
    "        Fitness_Endurance_Duration = pl.col('Fitness_Endurance-Time_Mins') * 60 + pl.col('Fitness_Endurance-Time_Sec')\n",
    "    )\n",
    "    \n",
    "    # Remove all season and pciat cols\n",
    "    season_cols = [col for col in df.columns if col.endswith('Season')]\n",
    "    pciat_cols = [col for col in df.columns if col.startswith('PCIAT')]\n",
    "    df = df.drop(pciat_cols + season_cols + ['id',\n",
    "                  'PAQ_C-PAQ_C_Total', 'PAQ_A-PAQ_A_Total', 'Fitness_Endurance-Time_Mins', \n",
    "                  'Fitness_Endurance-Time_Sec'])\n",
    "    \n",
    "    imputer = KNNImputer(n_neighbors=10, add_indicator=True)\n",
    "    res = imputer.fit_transform(df)\n",
    "    df = pl.DataFrame(res, schema=list(imputer.get_feature_names_out()), orient=\"row\")\n",
    "\n",
    "    return df\n",
    "    # if is_training:\n",
    "    #     imputer = KNNImputer(n_neighbors=10, add_indicator=True)\n",
    "    #     res = imputer.fit_transform(df)\n",
    "    #     df = pd.DataFrame(res, columns=imputer.get_feature_names_out())\n",
    "    \n",
    "    # else:\n",
    "    #     assert imputer is not None\n",
    "    #     df = pd.DataFrame(imputer.transform(df), columns=imputer.get_feature_names_out())\n",
    "    \n",
    "    # if is_training:\n",
    "    #     return df, imputer\n",
    "    # else:\n",
    "    #     return df, None"
   ]
  },
  {
   "cell_type": "code",
   "execution_count": 7,
   "metadata": {},
   "outputs": [],
   "source": [
    "X = feature_engineering(X)"
   ]
  },
  {
   "cell_type": "code",
   "execution_count": 8,
   "metadata": {},
   "outputs": [],
   "source": [
    "def quadratic_weighted_kappa(y_true, y_pred):\n",
    "    return cohen_kappa_score(y_true, y_pred, weights='quadratic')\n",
    "\n",
    "def roundoff(arr, thresholds=[0.5, 1.5, 2.5]):\n",
    "    return np.where(arr < thresholds[0], 0, \n",
    "                np.where(arr < thresholds[1], 1, \n",
    "                    np.where(arr < thresholds[2], 2, 3)))\n",
    "\n",
    "def evaluate(thresholds, y_true, y_pred):\n",
    "    score = quadratic_weighted_kappa(y_true, roundoff(y_pred, thresholds))\n",
    "    return -score"
   ]
  },
  {
   "cell_type": "code",
   "execution_count": 9,
   "metadata": {},
   "outputs": [
    {
     "name": "stdout",
     "output_type": "stream",
     "text": [
      "Fold: 0, Score: 0.358588, Accuracy: 0.490876\n",
      "----------------------------------------\n",
      "Fold: 1, Score: 0.416525, Accuracy: 0.541133\n",
      "----------------------------------------\n",
      "Fold: 2, Score: 0.406810, Accuracy: 0.504570\n",
      "----------------------------------------\n",
      "Fold: 3, Score: 0.407394, Accuracy: 0.522852\n",
      "----------------------------------------\n",
      "Fold: 4, Score: 0.276250, Accuracy: 0.458867\n",
      "----------------------------------------\n",
      "Mean score: 0.3731133619306023\n",
      "OOF score: 0.3733536067613198\n",
      "Thresholds [0.60670341 1.01666854 2.7669665 ]\n",
      "Tuned OOF Score: 0.4298478843169621\n"
     ]
    }
   ],
   "source": [
    "skf = StratifiedKFold()\n",
    "\n",
    "scores = []\n",
    "oof_raw = np.zeros(len(y), dtype=float) # oof predictions, before rounding\n",
    "oof = np.zeros(len(y), dtype=int) # oof predictions, rounded\n",
    "for fold, (tridx, validx) in enumerate(skf.split(X, y)):\n",
    "    # model = XGBRegressor()\n",
    "    # model = CatBoostRegressor(silent=True, allow_writing_files=False)\n",
    "    model = lgb.LGBMRegressor(class_weight='balanced', verbose=-1)\n",
    "    model.fit(X[tridx], y[tridx].to_numpy().ravel())\n",
    "    \n",
    "    y_pred = model.predict(X[validx])\n",
    "    oof_raw[validx] = y_pred\n",
    "    y_pred = roundoff(y_pred, thresholds=[0.49120744, 1.35878992, 2.65786462])\n",
    "    oof[validx] = y_pred\n",
    "\n",
    "    score = quadratic_weighted_kappa(y[validx].to_numpy().ravel(), y_pred)\n",
    "    scores.append(score)\n",
    "\n",
    "    accuracy = accuracy_score(y[validx].to_numpy().ravel(), y_pred)\n",
    "    print(f\"Fold: {fold}, Score: {score:.6f}, Accuracy: {accuracy:.6f}\")\n",
    "    print(\"-\"*40)\n",
    "\n",
    "print(f\"Mean score: {np.mean(scores)}\")\n",
    "score = quadratic_weighted_kappa(y, oof)\n",
    "print(f\"OOF score: {score}\")\n",
    "\n",
    "thresholds = minimize(evaluate, [0.5, 1.5, 2.5], args=(y, oof_raw), method='Nelder-Mead').x\n",
    "print('Thresholds', thresholds)\n",
    "\n",
    "y_pred_tuned = roundoff(oof_raw, thresholds=thresholds)\n",
    "print(\"Tuned OOF Score:\", quadratic_weighted_kappa(y, y_pred_tuned))"
   ]
  },
  {
   "cell_type": "code",
   "execution_count": null,
   "metadata": {},
   "outputs": [],
   "source": []
  }
 ],
 "metadata": {
  "kernelspec": {
   "display_name": "venv",
   "language": "python",
   "name": "python3"
  },
  "language_info": {
   "codemirror_mode": {
    "name": "ipython",
    "version": 3
   },
   "file_extension": ".py",
   "mimetype": "text/x-python",
   "name": "python",
   "nbconvert_exporter": "python",
   "pygments_lexer": "ipython3",
   "version": "3.10.15"
  }
 },
 "nbformat": 4,
 "nbformat_minor": 2
}
